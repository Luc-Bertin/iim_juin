{
 "cells": [
  {
   "cell_type": "markdown",
   "id": "758ffadf",
   "metadata": {},
   "source": [
    "1."
   ]
  },
  {
   "cell_type": "code",
   "execution_count": 1,
   "id": "33042a9b",
   "metadata": {},
   "outputs": [],
   "source": [
    "def hellofunction():\n",
    "    print(\"hello\")"
   ]
  },
  {
   "cell_type": "code",
   "execution_count": 2,
   "id": "b48629e2",
   "metadata": {},
   "outputs": [
    {
     "name": "stdout",
     "output_type": "stream",
     "text": [
      "hello\n"
     ]
    }
   ],
   "source": [
    "hellofunction()"
   ]
  },
  {
   "cell_type": "markdown",
   "id": "84cc2284",
   "metadata": {},
   "source": [
    "2."
   ]
  },
  {
   "cell_type": "code",
   "execution_count": 3,
   "id": "8d597a90",
   "metadata": {},
   "outputs": [],
   "source": [
    "def hellofunction2(name):\n",
    "    return \"Hello \"+ name"
   ]
  },
  {
   "cell_type": "code",
   "execution_count": 4,
   "id": "6fb39833",
   "metadata": {},
   "outputs": [
    {
     "data": {
      "text/plain": [
       "'Hello Luc'"
      ]
     },
     "execution_count": 4,
     "metadata": {},
     "output_type": "execute_result"
    }
   ],
   "source": [
    "hellofunction2(\"Luc\")"
   ]
  },
  {
   "cell_type": "code",
   "execution_count": 5,
   "id": "9e098ea3",
   "metadata": {},
   "outputs": [
    {
     "data": {
      "text/plain": [
       "'Hello Marie'"
      ]
     },
     "execution_count": 5,
     "metadata": {},
     "output_type": "execute_result"
    }
   ],
   "source": [
    "hellofunction2(\"Marie\")"
   ]
  },
  {
   "cell_type": "markdown",
   "id": "e8640a04",
   "metadata": {},
   "source": [
    "3."
   ]
  },
  {
   "cell_type": "code",
   "execution_count": 7,
   "id": "10c6d417",
   "metadata": {},
   "outputs": [],
   "source": [
    "def hellofunction3(name=\"Luc\"):\n",
    "    return \"Hello \"+ name"
   ]
  },
  {
   "cell_type": "code",
   "execution_count": 8,
   "id": "566dfc0f",
   "metadata": {},
   "outputs": [
    {
     "data": {
      "text/plain": [
       "'Hello Marie'"
      ]
     },
     "execution_count": 8,
     "metadata": {},
     "output_type": "execute_result"
    }
   ],
   "source": [
    "hellofunction3(\"Marie\")"
   ]
  },
  {
   "cell_type": "code",
   "execution_count": 9,
   "id": "94f8e0f4",
   "metadata": {},
   "outputs": [
    {
     "data": {
      "text/plain": [
       "'Hello Luc'"
      ]
     },
     "execution_count": 9,
     "metadata": {},
     "output_type": "execute_result"
    }
   ],
   "source": [
    "hellofunction3()"
   ]
  },
  {
   "cell_type": "markdown",
   "id": "8064e4f8",
   "metadata": {},
   "source": [
    "4."
   ]
  },
  {
   "cell_type": "code",
   "execution_count": null,
   "id": "bb71134c",
   "metadata": {},
   "outputs": [],
   "source": [
    "\"f-strings\""
   ]
  },
  {
   "cell_type": "code",
   "execution_count": 19,
   "id": "58c7d03f",
   "metadata": {},
   "outputs": [],
   "source": [
    "def hellofunction4(age, name):\n",
    "    return \"Hello {}, you are {} old\".format(name.upper(), age)"
   ]
  },
  {
   "cell_type": "code",
   "execution_count": 20,
   "id": "21117474",
   "metadata": {
    "scrolled": true
   },
   "outputs": [
    {
     "data": {
      "text/plain": [
       "'Hello MARIE, you are 25 old'"
      ]
     },
     "execution_count": 20,
     "metadata": {},
     "output_type": "execute_result"
    }
   ],
   "source": [
    "hellofunction4(25, \"Marie\")"
   ]
  },
  {
   "cell_type": "markdown",
   "id": "3d0a69c5",
   "metadata": {},
   "source": [
    "5."
   ]
  },
  {
   "cell_type": "code",
   "execution_count": 21,
   "id": "edeaa276",
   "metadata": {},
   "outputs": [
    {
     "data": {
      "text/plain": [
       "'Hello MARIE, you are 25 old'"
      ]
     },
     "execution_count": 21,
     "metadata": {},
     "output_type": "execute_result"
    }
   ],
   "source": [
    "hellofunction4(25, \"Marie\")"
   ]
  },
  {
   "cell_type": "code",
   "execution_count": 22,
   "id": "d695886c",
   "metadata": {},
   "outputs": [
    {
     "ename": "AttributeError",
     "evalue": "'int' object has no attribute 'upper'",
     "output_type": "error",
     "traceback": [
      "\u001b[0;31m---------------------------------------------------------------------------\u001b[0m",
      "\u001b[0;31mAttributeError\u001b[0m                            Traceback (most recent call last)",
      "\u001b[0;32m<ipython-input-22-8cc2aa3252f1>\u001b[0m in \u001b[0;36m<module>\u001b[0;34m\u001b[0m\n\u001b[0;32m----> 1\u001b[0;31m \u001b[0mhellofunction4\u001b[0m\u001b[0;34m(\u001b[0m\u001b[0;34m\"Marie\"\u001b[0m\u001b[0;34m,\u001b[0m \u001b[0;36m25\u001b[0m\u001b[0;34m)\u001b[0m\u001b[0;34m\u001b[0m\u001b[0;34m\u001b[0m\u001b[0m\n\u001b[0m",
      "\u001b[0;32m<ipython-input-19-4b1dde3cd189>\u001b[0m in \u001b[0;36mhellofunction4\u001b[0;34m(age, name)\u001b[0m\n\u001b[1;32m      1\u001b[0m \u001b[0;32mdef\u001b[0m \u001b[0mhellofunction4\u001b[0m\u001b[0;34m(\u001b[0m\u001b[0mage\u001b[0m\u001b[0;34m,\u001b[0m \u001b[0mname\u001b[0m\u001b[0;34m)\u001b[0m\u001b[0;34m:\u001b[0m\u001b[0;34m\u001b[0m\u001b[0;34m\u001b[0m\u001b[0m\n\u001b[0;32m----> 2\u001b[0;31m     \u001b[0;32mreturn\u001b[0m \u001b[0;34mf\"Hello {name.upper()}, you are {age} old\"\u001b[0m\u001b[0;34m\u001b[0m\u001b[0;34m\u001b[0m\u001b[0m\n\u001b[0m",
      "\u001b[0;31mAttributeError\u001b[0m: 'int' object has no attribute 'upper'"
     ]
    }
   ],
   "source": [
    "hellofunction4(\"Marie\", 25)"
   ]
  },
  {
   "cell_type": "code",
   "execution_count": 23,
   "id": "86c876ef",
   "metadata": {},
   "outputs": [
    {
     "data": {
      "text/plain": [
       "'Hello MARIE, you are 25 old'"
      ]
     },
     "execution_count": 23,
     "metadata": {},
     "output_type": "execute_result"
    }
   ],
   "source": [
    "hellofunction4(name=\"Marie\", age=25)"
   ]
  },
  {
   "cell_type": "code",
   "execution_count": 24,
   "id": "50bc8b98",
   "metadata": {},
   "outputs": [
    {
     "data": {
      "text/plain": [
       "'Hello MARIE, you are 25 old'"
      ]
     },
     "execution_count": 24,
     "metadata": {},
     "output_type": "execute_result"
    }
   ],
   "source": [
    "hellofunction4(age=25, name=\"Marie\")"
   ]
  },
  {
   "cell_type": "markdown",
   "id": "4f8d013c",
   "metadata": {},
   "source": [
    "6."
   ]
  },
  {
   "cell_type": "code",
   "execution_count": 26,
   "id": "74eb9241",
   "metadata": {},
   "outputs": [],
   "source": [
    "inputs = {'Luc': 25, \n",
    "          'Corentin': 18, \n",
    "          'Thomas': 29, \n",
    "          'Julie': 22, \n",
    "          'Juliette': 21}\n"
   ]
  },
  {
   "cell_type": "code",
   "execution_count": 33,
   "id": "e595b9f0",
   "metadata": {},
   "outputs": [
    {
     "name": "stdout",
     "output_type": "stream",
     "text": [
      "Hello LUC, you are 25 old\n",
      "Hello CORENTIN, you are 18 old\n",
      "Hello THOMAS, you are 29 old\n",
      "Hello JULIE, you are 22 old\n",
      "Hello JULIETTE, you are 21 old\n"
     ]
    }
   ],
   "source": [
    "for name, age in inputs.items():\n",
    "    print(hellofunction4(age, name))"
   ]
  },
  {
   "cell_type": "markdown",
   "id": "6c1d7124",
   "metadata": {},
   "source": [
    "7."
   ]
  },
  {
   "cell_type": "code",
   "execution_count": 41,
   "id": "284420eb",
   "metadata": {},
   "outputs": [
    {
     "data": {
      "text/plain": [
       "'Hello LUC, you are 25 old'"
      ]
     },
     "execution_count": 41,
     "metadata": {},
     "output_type": "execute_result"
    }
   ],
   "source": [
    "list_of_arguments = ['Luc', 25]\n",
    "\n",
    "hellofunction4(*list_of_arguments[::-1])"
   ]
  },
  {
   "cell_type": "markdown",
   "id": "72bb9d7b",
   "metadata": {},
   "source": [
    "8."
   ]
  },
  {
   "cell_type": "code",
   "execution_count": 43,
   "id": "6381e34e",
   "metadata": {},
   "outputs": [
    {
     "data": {
      "text/plain": [
       "'Hello LUC, you are 25 old'"
      ]
     },
     "execution_count": 43,
     "metadata": {},
     "output_type": "execute_result"
    }
   ],
   "source": [
    "dict_of_arguments = {'age':25, 'name': 'Luc'}\n",
    "\n",
    "hellofunction4(**dict_of_arguments) # <=> hellofunction4(age=25, name=\"Luc\")"
   ]
  },
  {
   "cell_type": "markdown",
   "id": "19584c01",
   "metadata": {},
   "source": [
    "9."
   ]
  },
  {
   "cell_type": "code",
   "execution_count": 44,
   "id": "57e35884",
   "metadata": {},
   "outputs": [],
   "source": [
    "inputs = {'Luc': 25, 'Corentin': 18, 'Thomas': 29, 'Julie': 22, 'Juliette': 21}\n"
   ]
  },
  {
   "cell_type": "code",
   "execution_count": 49,
   "id": "6f7b300f",
   "metadata": {},
   "outputs": [
    {
     "name": "stdout",
     "output_type": "stream",
     "text": [
      "Hello LUC, you are 25 old\n",
      "Hello CORENTIN, you are 18 old\n",
      "Hello THOMAS, you are 29 old\n",
      "Hello JULIE, you are 22 old\n",
      "Hello JULIETTE, you are 21 old\n"
     ]
    }
   ],
   "source": [
    "for tuple_ in inputs.items():\n",
    "    print(hellofunction4(*tuple_[::-1]))"
   ]
  },
  {
   "cell_type": "markdown",
   "id": "ef0c8ad5",
   "metadata": {},
   "source": [
    "1."
   ]
  },
  {
   "cell_type": "code",
   "execution_count": 60,
   "id": "71564b55",
   "metadata": {},
   "outputs": [],
   "source": [
    "def multiply(*args):\n",
    "    result = args[0]\n",
    "    \n",
    "    for arg in args[1:]:\n",
    "        result *= arg\n",
    "    return result"
   ]
  },
  {
   "cell_type": "code",
   "execution_count": 61,
   "id": "ee4ee1d9",
   "metadata": {},
   "outputs": [
    {
     "data": {
      "text/plain": [
       "1"
      ]
     },
     "execution_count": 61,
     "metadata": {},
     "output_type": "execute_result"
    }
   ],
   "source": [
    "multiply(1)"
   ]
  },
  {
   "cell_type": "code",
   "execution_count": 63,
   "id": "1bd94630",
   "metadata": {},
   "outputs": [
    {
     "name": "stdout",
     "output_type": "stream",
     "text": [
      "48\n",
      "380\n",
      "1\n"
     ]
    }
   ],
   "source": [
    "print(multiply(8,2,3))\n",
    "print(multiply(19,2,10))\n",
    "print(multiply(1))"
   ]
  },
  {
   "cell_type": "code",
   "execution_count": 67,
   "id": "770fd735",
   "metadata": {},
   "outputs": [],
   "source": [
    "def multiply2(*args, inverse=False):\n",
    "    result = args[0]\n",
    "    \n",
    "    for arg in args[1:]:\n",
    "        result *= arg\n",
    "    \n",
    "    if inverse:\n",
    "        return 1/result\n",
    "    return result"
   ]
  },
  {
   "cell_type": "code",
   "execution_count": 69,
   "id": "d3d43caa",
   "metadata": {},
   "outputs": [
    {
     "name": "stdout",
     "output_type": "stream",
     "text": [
      "0.020833333333333332\n",
      "380\n",
      "1.0\n"
     ]
    }
   ],
   "source": [
    "print(multiply2(8,2,3, inverse=True))\n",
    "print(multiply2(19,2,10))\n",
    "print(multiply2(1, inverse=True))"
   ]
  },
  {
   "cell_type": "markdown",
   "id": "9fec9243",
   "metadata": {},
   "source": [
    "3."
   ]
  },
  {
   "cell_type": "code",
   "execution_count": 80,
   "id": "161339e1",
   "metadata": {},
   "outputs": [],
   "source": [
    "def multiply3(*args, **kwargs):\n",
    "    print( args) # => tuple\n",
    "    print( kwargs)# => dictionnaire / mapping\n",
    "    print( \"\\n\"*1)\n",
    "    \n",
    "    result = args[0]\n",
    "    \n",
    "    for arg in args[1:]:\n",
    "        result *= arg\n",
    "\n",
    "    if kwargs.get(\"inverse\", False):\n",
    "        return 1/result\n",
    "    if kwargs.get(\"negation\", False):\n",
    "        return -result\n",
    "    return result"
   ]
  },
  {
   "cell_type": "code",
   "execution_count": 83,
   "id": "c79c5bf5",
   "metadata": {},
   "outputs": [
    {
     "name": "stdout",
     "output_type": "stream",
     "text": [
      "(8, 2, 3)\n",
      "{'inverse': True, 'negation': True}\n",
      "\n",
      "\n",
      "(19, 2, 10)\n",
      "{}\n",
      "\n",
      "\n",
      "(1,)\n",
      "{'inverse': True}\n",
      "\n",
      "\n"
     ]
    },
    {
     "data": {
      "text/plain": [
       "1.0"
      ]
     },
     "execution_count": 83,
     "metadata": {},
     "output_type": "execute_result"
    }
   ],
   "source": [
    "multiply3(8,2,3, inverse=True, negation=True)\n",
    "multiply3(19,2,10)\n",
    "multiply3(1, inverse=True)"
   ]
  },
  {
   "cell_type": "code",
   "execution_count": 90,
   "id": "4f45aacb",
   "metadata": {},
   "outputs": [
    {
     "data": {
      "text/plain": [
       "-35"
      ]
     },
     "execution_count": 90,
     "metadata": {},
     "output_type": "execute_result"
    }
   ],
   "source": [
    "True+ 3*True - 18-True*21"
   ]
  },
  {
   "cell_type": "code",
   "execution_count": 92,
   "id": "0646de1d",
   "metadata": {},
   "outputs": [
    {
     "name": "stdout",
     "output_type": "stream",
     "text": [
      "(8, 2, 3, True)\n",
      "{}\n",
      "\n",
      "\n",
      "48\n"
     ]
    }
   ],
   "source": [
    "print(multiply3(8,2,3,True))"
   ]
  },
  {
   "cell_type": "markdown",
   "id": "c382e4ac",
   "metadata": {},
   "source": [
    "# Exo5"
   ]
  },
  {
   "cell_type": "code",
   "execution_count": 94,
   "id": "f5fbc586",
   "metadata": {},
   "outputs": [],
   "source": [
    "dico = {1: 2, 3: 4, 4: 3, 2: 1, 0: 0}"
   ]
  },
  {
   "cell_type": "code",
   "execution_count": 100,
   "id": "9f62b1d1",
   "metadata": {},
   "outputs": [],
   "source": [
    "def fonction_de_tri(tuple_):\n",
    "    return tuple_[1]"
   ]
  },
  {
   "cell_type": "code",
   "execution_count": 102,
   "id": "51232685",
   "metadata": {
    "scrolled": true
   },
   "outputs": [
    {
     "data": {
      "text/plain": [
       "{0: 0, 2: 1, 1: 2, 4: 3, 3: 4}"
      ]
     },
     "execution_count": 102,
     "metadata": {},
     "output_type": "execute_result"
    }
   ],
   "source": [
    "dict(sorted(dico.items(), key=fonction_de_tri))"
   ]
  },
  {
   "cell_type": "code",
   "execution_count": 103,
   "id": "8fd602e6",
   "metadata": {},
   "outputs": [],
   "source": [
    "dico = {1: 'sebastien', 2: \"luc\", 3:\"marie\", 4: \"iazoiaozeioieza\"}"
   ]
  },
  {
   "cell_type": "code",
   "execution_count": 104,
   "id": "fbe05a78",
   "metadata": {},
   "outputs": [],
   "source": [
    "def fonction_de_tri2(tuple_):\n",
    "    return len(tuple_[1])"
   ]
  },
  {
   "cell_type": "code",
   "execution_count": 105,
   "id": "44643ef0",
   "metadata": {},
   "outputs": [
    {
     "data": {
      "text/plain": [
       "[(2, 'luc'), (3, 'marie'), (1, 'sebastien'), (4, 'iazoiaozeioieza')]"
      ]
     },
     "execution_count": 105,
     "metadata": {},
     "output_type": "execute_result"
    }
   ],
   "source": [
    "sorted(dico.items(), key=fonction_de_tri2 )"
   ]
  },
  {
   "cell_type": "code",
   "execution_count": 110,
   "id": "e7c3d7a6",
   "metadata": {},
   "outputs": [
    {
     "data": {
      "text/plain": [
       "[2, 1, 3, 29, 'salut', 9988928329393]"
      ]
     },
     "execution_count": 110,
     "metadata": {},
     "output_type": "execute_result"
    }
   ],
   "source": [
    "sorted(\n",
    "    [2,1,3, \"salut\", 29, 9988928329393], \n",
    "    key=lambda el: len(str(el))\n",
    ")"
   ]
  },
  {
   "cell_type": "code",
   "execution_count": null,
   "id": "b959f4ce",
   "metadata": {},
   "outputs": [],
   "source": []
  }
 ],
 "metadata": {
  "kernelspec": {
   "display_name": "Python 3",
   "language": "python",
   "name": "python3"
  },
  "language_info": {
   "codemirror_mode": {
    "name": "ipython",
    "version": 3
   },
   "file_extension": ".py",
   "mimetype": "text/x-python",
   "name": "python",
   "nbconvert_exporter": "python",
   "pygments_lexer": "ipython3",
   "version": "3.8.8"
  }
 },
 "nbformat": 4,
 "nbformat_minor": 5
}
