{
 "cells": [
  {
   "cell_type": "markdown",
   "id": "c4f3c306",
   "metadata": {},
   "source": [
    "# Définition de fonction"
   ]
  },
  {
   "cell_type": "code",
   "execution_count": 64,
   "id": "0bf12bf3",
   "metadata": {},
   "outputs": [],
   "source": [
    "# en plusieurs lignes, définition générale de fonction\n",
    "def uncalculcomplique(a,b,c,d,e,f=23):\n",
    "    return a + b * c - d*e*f"
   ]
  },
  {
   "cell_type": "code",
   "execution_count": 51,
   "id": "daf4cdcb",
   "metadata": {},
   "outputs": [],
   "source": [
    "# en une ligne\n",
    "nomdelafonction = lambda a: a + 23"
   ]
  },
  {
   "cell_type": "markdown",
   "id": "006cc8e0",
   "metadata": {},
   "source": [
    "Tout est objet en python, les fonctions ne dérogent pas à la règle"
   ]
  },
  {
   "cell_type": "code",
   "execution_count": 37,
   "id": "d770a4c2",
   "metadata": {},
   "outputs": [
    {
     "data": {
      "text/plain": [
       "(4610663184, function)"
      ]
     },
     "execution_count": 37,
     "metadata": {},
     "output_type": "execute_result"
    }
   ],
   "source": [
    "id(nomdelafonction), type(nomdelafonction)"
   ]
  },
  {
   "cell_type": "markdown",
   "id": "909b7625",
   "metadata": {},
   "source": [
    "## nombre flexible d'arguments"
   ]
  },
  {
   "cell_type": "code",
   "execution_count": 172,
   "id": "295c1769",
   "metadata": {},
   "outputs": [
    {
     "data": {
      "text/plain": [
       "6"
      ]
     },
     "execution_count": 172,
     "metadata": {},
     "output_type": "execute_result"
    }
   ],
   "source": [
    "somme(1,2,3)"
   ]
  },
  {
   "cell_type": "code",
   "execution_count": 177,
   "id": "b75bf043",
   "metadata": {},
   "outputs": [],
   "source": [
    "def somme(*args, **kwargs):\n",
    "    print(args)\n",
    "    print(kwargs)\n",
    "    result = 0\n",
    "    for arg in args:\n",
    "        result += arg\n",
    "        \n",
    "    if kwargs.get(\"negation\", False):\n",
    "        result = -result\n",
    "    if kwargs.get('inverse', False) == \"yes\":\n",
    "        result = 1/result\n",
    "    return result"
   ]
  },
  {
   "cell_type": "markdown",
   "id": "60e4535b",
   "metadata": {},
   "source": [
    "# Appel de fonction"
   ]
  },
  {
   "cell_type": "code",
   "execution_count": null,
   "id": "2f0213b2",
   "metadata": {},
   "outputs": [],
   "source": [
    "uncalculcomplique(1,2,3,4,5,6)"
   ]
  },
  {
   "cell_type": "code",
   "execution_count": 74,
   "id": "2077bece",
   "metadata": {
    "scrolled": true
   },
   "outputs": [
    {
     "data": {
      "text/plain": [
       "-113"
      ]
     },
     "execution_count": 74,
     "metadata": {},
     "output_type": "execute_result"
    }
   ],
   "source": [
    "listedargs = [1,2,3,4,5,6]\n",
    "uncalculcomplique(*listedargs)\n",
    "# <=> uncalculcomplique(listedargs[0],listedargs[1],listedargs[2],...)"
   ]
  },
  {
   "cell_type": "code",
   "execution_count": 75,
   "id": "e2fd05d8",
   "metadata": {},
   "outputs": [
    {
     "data": {
      "text/plain": [
       "-115"
      ]
     },
     "execution_count": 75,
     "metadata": {},
     "output_type": "execute_result"
    }
   ],
   "source": [
    "listedargs = [2,1,3,4,5,6]\n",
    "uncalculcomplique(*listedargs)\n",
    " # <=> uncalculcomplique(2,1,3,4,5,6)"
   ]
  },
  {
   "cell_type": "code",
   "execution_count": null,
   "id": "992c9e9a",
   "metadata": {},
   "outputs": [],
   "source": [
    "uncalculcomplique(b=2, c=3, d=4, e=5, f=6, a=1)"
   ]
  },
  {
   "cell_type": "code",
   "execution_count": 83,
   "id": "b00af011",
   "metadata": {},
   "outputs": [
    {
     "data": {
      "text/plain": [
       "-113"
      ]
     },
     "execution_count": 83,
     "metadata": {},
     "output_type": "execute_result"
    }
   ],
   "source": [
    "dicodargs= {\"b\":2, \"c\": 3, \"a\": 1, \"d\":4, \"e\":5, \"f\":6}\n",
    "\n",
    "uncalculcomplique(**dicodargs)\n",
    "# <=> uncalculcomplique(b=2, c=3, d=4, e=5, f=6, a=1)"
   ]
  },
  {
   "cell_type": "code",
   "execution_count": 84,
   "id": "26391376",
   "metadata": {},
   "outputs": [],
   "source": [
    "dicodargs1={\"a\":1, \"b\":2}\n",
    "dicodargs2 = {\"c\": 3,  \"d\":4,\"e\":5, \"f\":6}"
   ]
  },
  {
   "cell_type": "code",
   "execution_count": 86,
   "id": "ff66291e",
   "metadata": {},
   "outputs": [
    {
     "data": {
      "text/plain": [
       "-113"
      ]
     },
     "execution_count": 86,
     "metadata": {},
     "output_type": "execute_result"
    }
   ],
   "source": [
    "uncalculcomplique( **dicodargs2, **dicodargs1)"
   ]
  },
  {
   "cell_type": "code",
   "execution_count": 99,
   "id": "71ac57d6",
   "metadata": {},
   "outputs": [],
   "source": [
    "listepartieldargs = [1,2,3]\n",
    "dicodargspartiel = {\"e\":5,  \"d\":4, \"f\":6}"
   ]
  },
  {
   "cell_type": "code",
   "execution_count": null,
   "id": "28566e46",
   "metadata": {},
   "outputs": [],
   "source": [
    "uncalculcomplique(1,2,3, d=4, e=5, f=6)"
   ]
  },
  {
   "cell_type": "code",
   "execution_count": 101,
   "id": "d54487cd",
   "metadata": {},
   "outputs": [
    {
     "data": {
      "text/plain": [
       "-113"
      ]
     },
     "execution_count": 101,
     "metadata": {},
     "output_type": "execute_result"
    }
   ],
   "source": [
    "uncalculcomplique(*listepartieldargs, **dicodargspartiel)"
   ]
  },
  {
   "cell_type": "code",
   "execution_count": 180,
   "id": "2c00c590",
   "metadata": {},
   "outputs": [
    {
     "name": "stdout",
     "output_type": "stream",
     "text": [
      "(1, 2, 3, 4, 10, 2, 1, 2, 3, 4, 5, 5)\n",
      "{'inverse': 'yes'}\n",
      "0.023809523809523808\n",
      "(1, 2)\n",
      "{'inverse': 'yes', 'negation': True}\n",
      "-0.3333333333333333\n",
      "(0, 1, 2, 3, 4)\n",
      "{}\n",
      "10\n"
     ]
    }
   ],
   "source": [
    "print(somme(1,2,3,4, 10,2,1,2,3,4,5,5, inverse=\"yes\"))\n",
    "print(somme(1,2, inverse=\"yes\", negation=True))\n",
    "listeofargs = list(range(5))\n",
    "print(somme(*listeofargs))"
   ]
  }
 ],
 "metadata": {
  "kernelspec": {
   "display_name": "Python 3",
   "language": "python",
   "name": "python3"
  },
  "language_info": {
   "codemirror_mode": {
    "name": "ipython",
    "version": 3
   },
   "file_extension": ".py",
   "mimetype": "text/x-python",
   "name": "python",
   "nbconvert_exporter": "python",
   "pygments_lexer": "ipython3",
   "version": "3.8.8"
  }
 },
 "nbformat": 4,
 "nbformat_minor": 5
}
