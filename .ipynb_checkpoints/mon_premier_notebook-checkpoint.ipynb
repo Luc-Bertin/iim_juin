{
 "cells": [
  {
   "cell_type": "markdown",
   "id": "4bb9c541",
   "metadata": {},
   "source": [
    "# quand je click, à l'intérieur de la cellule => je peux écrire du contenu dans celle-ci\n",
    "## si je veux changer le type de la cellule : \n",
    "   * ESC + M si je veux en markdown\n",
    "   * ESC + Y si je veux écrire par la suite du code\n",
    "        - par défaut c'est une cellule de code\n",
    "\n",
    "## executer une cellule : Shift + Enter (passe également à la suivante)"
   ]
  },
  {
   "cell_type": "markdown",
   "id": "0a5d4475",
   "metadata": {},
   "source": [
    "d'autres raccourcis important:\n",
    "- supprimer une cellule : (Esc) + D + D \n",
    "- ajouter une cellule en dessous ou haut dessus: (ESC) + B ou A\n",
    "- pour naviguer aux niveaux des cellules : flèches de navigation haut / bas"
   ]
  },
  {
   "cell_type": "markdown",
   "id": "5a71d292",
   "metadata": {},
   "source": [
    "* pour engistrer un travail: Command (ou control) + S"
   ]
  },
  {
   "cell_type": "markdown",
   "id": "0380a64d",
   "metadata": {},
   "source": [
    "<img src=\"coronavirus.jpg\" align=\"right\" width=\"200px\">"
   ]
  },
  {
   "cell_type": "markdown",
   "id": "643f16e4",
   "metadata": {},
   "source": [
    "<h1 style=\"color:red;\">Passons au code!<h1>"
   ]
  },
  {
   "cell_type": "markdown",
   "id": "c7464e1a",
   "metadata": {},
   "source": [
    "Python est un language dynamiquement typé"
   ]
  },
  {
   "cell_type": "markdown",
   "id": "5f4d274c",
   "metadata": {},
   "source": [
    "En python: tout est object !"
   ]
  },
  {
   "cell_type": "markdown",
   "id": "b4a84e0b",
   "metadata": {},
   "source": [
    "tout object a 3 éléments:\n",
    "   - un id\n",
    "   - un type\n",
    "   - une valeur / une représentation"
   ]
  },
  {
   "cell_type": "code",
   "execution_count": 41,
   "id": "d9590518",
   "metadata": {},
   "outputs": [],
   "source": [
    "a = 87873878947893784"
   ]
  },
  {
   "cell_type": "code",
   "execution_count": 45,
   "id": "5051b151",
   "metadata": {},
   "outputs": [
    {
     "data": {
      "text/plain": [
       "(4457004816, int, 87873878947893784)"
      ]
     },
     "execution_count": 45,
     "metadata": {},
     "output_type": "execute_result"
    }
   ],
   "source": [
    "id(a), type(a), a"
   ]
  },
  {
   "cell_type": "code",
   "execution_count": 47,
   "id": "89045cdc",
   "metadata": {},
   "outputs": [
    {
     "data": {
      "text/plain": [
       "(4448998064, str, 'bonjour')"
      ]
     },
     "execution_count": 47,
     "metadata": {},
     "output_type": "execute_result"
    }
   ],
   "source": [
    "a = \"bonjour\"\n",
    "id(a), type(a), a"
   ]
  },
  {
   "cell_type": "code",
   "execution_count": 48,
   "id": "3cabc19e",
   "metadata": {},
   "outputs": [
    {
     "data": {
      "text/plain": [
       "(4449424768, list, [])"
      ]
     },
     "execution_count": 48,
     "metadata": {},
     "output_type": "execute_result"
    }
   ],
   "source": [
    "a = []\n",
    "id(a), type(a), a"
   ]
  },
  {
   "cell_type": "code",
   "execution_count": 49,
   "id": "9dd4fa4e",
   "metadata": {},
   "outputs": [
    {
     "data": {
      "text/plain": [
       "(4449425728, dict, {})"
      ]
     },
     "execution_count": 49,
     "metadata": {},
     "output_type": "execute_result"
    }
   ],
   "source": [
    "a = {}\n",
    "id(a), type(a), a"
   ]
  },
  {
   "cell_type": "markdown",
   "id": "c2630b18",
   "metadata": {},
   "source": [
    "- la plupart des objects contiennent attributs et méthodes"
   ]
  },
  {
   "cell_type": "code",
   "execution_count": 56,
   "id": "8ce60c93",
   "metadata": {},
   "outputs": [],
   "source": [
    "a = \"bonjour\"\n",
    "a = a.capitalize() # méthode (d'instance, associé à cette instance, juste à cet object en particulier)"
   ]
  },
  {
   "cell_type": "markdown",
   "id": "12c1318f",
   "metadata": {},
   "source": [
    "Pour voir les attributs et méthodes associées à un objet, utiliser la fonction \"dir\""
   ]
  },
  {
   "cell_type": "code",
   "execution_count": 60,
   "id": "4bcd4dfa",
   "metadata": {},
   "outputs": [
    {
     "name": "stdout",
     "output_type": "stream",
     "text": [
      "['__add__', '__class__', '__contains__', '__delattr__', '__dir__', '__doc__', '__eq__', '__format__', '__ge__', '__getattribute__', '__getitem__', '__getnewargs__', '__gt__', '__hash__', '__init__', '__init_subclass__', '__iter__', '__le__', '__len__', '__lt__', '__mod__', '__mul__', '__ne__', '__new__', '__reduce__', '__reduce_ex__', '__repr__', '__rmod__', '__rmul__', '__setattr__', '__sizeof__', '__str__', '__subclasshook__', 'capitalize', 'casefold', 'center', 'count', 'encode', 'endswith', 'expandtabs', 'find', 'format', 'format_map', 'index', 'isalnum', 'isalpha', 'isascii', 'isdecimal', 'isdigit', 'isidentifier', 'islower', 'isnumeric', 'isprintable', 'isspace', 'istitle', 'isupper', 'join', 'ljust', 'lower', 'lstrip', 'maketrans', 'partition', 'replace', 'rfind', 'rindex', 'rjust', 'rpartition', 'rsplit', 'rstrip', 'split', 'splitlines', 'startswith', 'strip', 'swapcase', 'title', 'translate', 'upper', 'zfill']\n"
     ]
    }
   ],
   "source": [
    "print(dir(a))"
   ]
  },
  {
   "cell_type": "markdown",
   "id": "cc82bc83",
   "metadata": {},
   "source": [
    "# Built-in types"
   ]
  },
  {
   "cell_type": "code",
   "execution_count": null,
   "id": "4aeb67ea",
   "metadata": {},
   "outputs": [],
   "source": []
  }
 ],
 "metadata": {
  "kernelspec": {
   "display_name": "Python 3",
   "language": "python",
   "name": "python3"
  },
  "language_info": {
   "codemirror_mode": {
    "name": "ipython",
    "version": 3
   },
   "file_extension": ".py",
   "mimetype": "text/x-python",
   "name": "python",
   "nbconvert_exporter": "python",
   "pygments_lexer": "ipython3",
   "version": "3.8.8"
  }
 },
 "nbformat": 4,
 "nbformat_minor": 5
}
