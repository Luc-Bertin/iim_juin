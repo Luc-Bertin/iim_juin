{
 "cells": [
  {
   "cell_type": "code",
   "execution_count": 144,
   "id": "9e95f85f",
   "metadata": {},
   "outputs": [
    {
     "name": "stdout",
     "output_type": "stream",
     "text": [
      "salut\r\n"
     ]
    }
   ],
   "source": [
    "!echo \"salut\""
   ]
  },
  {
   "cell_type": "code",
   "execution_count": 145,
   "id": "f9ed9dda",
   "metadata": {},
   "outputs": [
    {
     "name": "stdout",
     "output_type": "stream",
     "text": [
      "\u001b[34m.\u001b[m\u001b[m                          coronavirus.jpg\r\n",
      "\u001b[34m..\u001b[m\u001b[m                         mon_premier_notebook.ipynb\r\n",
      "\u001b[34m.ipynb_checkpoints\u001b[m\u001b[m\r\n"
     ]
    }
   ],
   "source": [
    "!ls -a"
   ]
  },
  {
   "cell_type": "code",
   "execution_count": 154,
   "id": "3063d935",
   "metadata": {},
   "outputs": [
    {
     "name": "stdout",
     "output_type": "stream",
     "text": [
      "Reinitialized existing Git repository in /Users/lucbertin/Desktop/ProjetsIIM/.git/\r\n"
     ]
    }
   ],
   "source": [
    "!git init\n",
    "#!git remote add origin https://github.com/Luc-Bertin/iim_juin.git\n",
    "#!git remote -v"
   ]
  },
  {
   "cell_type": "markdown",
   "id": "06b97ea2",
   "metadata": {},
   "source": [
    "# quand je click, à l'intérieur de la cellule => je peux écrire du contenu dans celle-ci\n",
    "## si je veux changer le type de la cellule : \n",
    "   * ESC + M si je veux en markdown\n",
    "   * ESC + Y si je veux écrire par la suite du code\n",
    "        - par défaut c'est une cellule de code\n",
    "\n",
    "## executer une cellule : Shift + Enter (passe également à la suivante)"
   ]
  },
  {
   "cell_type": "markdown",
   "id": "b374faf6",
   "metadata": {},
   "source": [
    "d'autres raccourcis important:\n",
    "- supprimer une cellule : (Esc) + D + D \n",
    "- ajouter une cellule en dessous ou haut dessus: (ESC) + B ou A\n",
    "- pour naviguer aux niveaux des cellules : flèches de navigation haut / bas"
   ]
  },
  {
   "cell_type": "markdown",
   "id": "4bc1fea9",
   "metadata": {},
   "source": [
    "* pour engistrer un travail: Command (ou control) + S"
   ]
  },
  {
   "cell_type": "markdown",
   "id": "92387a29",
   "metadata": {},
   "source": [
    "<img src=\"coronavirus.jpg\" align=\"right\" width=\"200px\">"
   ]
  },
  {
   "cell_type": "markdown",
   "id": "5aab2593",
   "metadata": {},
   "source": [
    "<h1 style=\"color:red;\">Passons au code!<h1>"
   ]
  },
  {
   "cell_type": "markdown",
   "id": "4447b1ca",
   "metadata": {},
   "source": [
    "Python est un language dynamiquement typé"
   ]
  },
  {
   "cell_type": "markdown",
   "id": "72e1671b",
   "metadata": {},
   "source": [
    "En python: tout est object !"
   ]
  },
  {
   "cell_type": "markdown",
   "id": "45aa5595",
   "metadata": {},
   "source": [
    "tout object a 3 éléments:\n",
    "   - un id\n",
    "   - un type\n",
    "   - une valeur / une représentation"
   ]
  },
  {
   "cell_type": "code",
   "execution_count": 1,
   "id": "01799370",
   "metadata": {},
   "outputs": [],
   "source": [
    "a = 87873878947893784"
   ]
  },
  {
   "cell_type": "code",
   "execution_count": 2,
   "id": "92de201b",
   "metadata": {},
   "outputs": [
    {
     "data": {
      "text/plain": [
       "(4439199216, int, 87873878947893784)"
      ]
     },
     "execution_count": 2,
     "metadata": {},
     "output_type": "execute_result"
    }
   ],
   "source": [
    "id(a), type(a), a"
   ]
  },
  {
   "cell_type": "code",
   "execution_count": 3,
   "id": "cfe30681",
   "metadata": {},
   "outputs": [
    {
     "data": {
      "text/plain": [
       "(4439689264, str, 'bonjour')"
      ]
     },
     "execution_count": 3,
     "metadata": {},
     "output_type": "execute_result"
    }
   ],
   "source": [
    "a = \"bonjour\"\n",
    "id(a), type(a), a"
   ]
  },
  {
   "cell_type": "code",
   "execution_count": 4,
   "id": "065999ef",
   "metadata": {},
   "outputs": [
    {
     "data": {
      "text/plain": [
       "(4439679360, list, [])"
      ]
     },
     "execution_count": 4,
     "metadata": {},
     "output_type": "execute_result"
    }
   ],
   "source": [
    "a = []\n",
    "id(a), type(a), a"
   ]
  },
  {
   "cell_type": "code",
   "execution_count": 5,
   "id": "f9c3c722",
   "metadata": {},
   "outputs": [
    {
     "data": {
      "text/plain": [
       "(4439679680, dict, {})"
      ]
     },
     "execution_count": 5,
     "metadata": {},
     "output_type": "execute_result"
    }
   ],
   "source": [
    "a = {}\n",
    "id(a), type(a), a"
   ]
  },
  {
   "cell_type": "markdown",
   "id": "6684c982",
   "metadata": {},
   "source": [
    "- la plupart des objects contiennent attributs et méthodes"
   ]
  },
  {
   "cell_type": "code",
   "execution_count": 6,
   "id": "67c61ef6",
   "metadata": {},
   "outputs": [],
   "source": [
    "a = \"bonjour\"\n",
    "a = a.capitalize() # méthode (d'instance, associé à cette instance, juste à cet object en particulier)"
   ]
  },
  {
   "cell_type": "markdown",
   "id": "39501b28",
   "metadata": {},
   "source": [
    "Pour voir les attributs et méthodes associées à un objet, utiliser la fonction \"dir\""
   ]
  },
  {
   "cell_type": "code",
   "execution_count": 7,
   "id": "1f53e6ea",
   "metadata": {},
   "outputs": [
    {
     "name": "stdout",
     "output_type": "stream",
     "text": [
      "['__add__', '__class__', '__contains__', '__delattr__', '__dir__', '__doc__', '__eq__', '__format__', '__ge__', '__getattribute__', '__getitem__', '__getnewargs__', '__gt__', '__hash__', '__init__', '__init_subclass__', '__iter__', '__le__', '__len__', '__lt__', '__mod__', '__mul__', '__ne__', '__new__', '__reduce__', '__reduce_ex__', '__repr__', '__rmod__', '__rmul__', '__setattr__', '__sizeof__', '__str__', '__subclasshook__', 'capitalize', 'casefold', 'center', 'count', 'encode', 'endswith', 'expandtabs', 'find', 'format', 'format_map', 'index', 'isalnum', 'isalpha', 'isascii', 'isdecimal', 'isdigit', 'isidentifier', 'islower', 'isnumeric', 'isprintable', 'isspace', 'istitle', 'isupper', 'join', 'ljust', 'lower', 'lstrip', 'maketrans', 'partition', 'replace', 'rfind', 'rindex', 'rjust', 'rpartition', 'rsplit', 'rstrip', 'split', 'splitlines', 'startswith', 'strip', 'swapcase', 'title', 'translate', 'upper', 'zfill']\n"
     ]
    }
   ],
   "source": [
    "print(dir(a))"
   ]
  },
  {
   "cell_type": "markdown",
   "id": "ff72e22b",
   "metadata": {},
   "source": [
    "# Built-in types"
   ]
  },
  {
   "cell_type": "code",
   "execution_count": 8,
   "id": "6327b5b9",
   "metadata": {},
   "outputs": [],
   "source": [
    "a = \"bonjour\""
   ]
  },
  {
   "cell_type": "markdown",
   "id": "0da7b9f1",
   "metadata": {},
   "source": [
    "### écrivez l'object + '.' + TAB dans jupyter \n",
    "### vous allez avoir toutes les méthodes et attributs proposées associées à cet objet\n",
    "\n",
    "### une fois l'attribut (ou méthode) écrite en entier,  SHIFT+TAB permet d'avoir la docstring"
   ]
  },
  {
   "cell_type": "code",
   "execution_count": 9,
   "id": "a3e2ae40",
   "metadata": {},
   "outputs": [
    {
     "data": {
      "text/plain": [
       "'Bonjour'"
      ]
     },
     "execution_count": 9,
     "metadata": {},
     "output_type": "execute_result"
    }
   ],
   "source": [
    "a.capitalize()"
   ]
  },
  {
   "cell_type": "code",
   "execution_count": 10,
   "id": "2079913d",
   "metadata": {},
   "outputs": [
    {
     "data": {
      "text/plain": [
       "'BONJOUR'"
      ]
     },
     "execution_count": 10,
     "metadata": {},
     "output_type": "execute_result"
    }
   ],
   "source": [
    "a.upper()"
   ]
  },
  {
   "cell_type": "code",
   "execution_count": 11,
   "id": "9a2479a1",
   "metadata": {},
   "outputs": [
    {
     "data": {
      "text/plain": [
       "'bonjour'"
      ]
     },
     "execution_count": 11,
     "metadata": {},
     "output_type": "execute_result"
    }
   ],
   "source": [
    "a.lower()"
   ]
  },
  {
   "cell_type": "code",
   "execution_count": 12,
   "id": "b2a8628f",
   "metadata": {},
   "outputs": [
    {
     "data": {
      "text/plain": [
       "1"
      ]
     },
     "execution_count": 12,
     "metadata": {},
     "output_type": "execute_result"
    }
   ],
   "source": [
    "a.count('bo')"
   ]
  },
  {
   "cell_type": "code",
   "execution_count": 13,
   "id": "4fb5835e",
   "metadata": {},
   "outputs": [
    {
     "data": {
      "text/plain": [
       "2"
      ]
     },
     "execution_count": 13,
     "metadata": {},
     "output_type": "execute_result"
    }
   ],
   "source": [
    "a.count('o')"
   ]
  },
  {
   "cell_type": "code",
   "execution_count": 14,
   "id": "18872855",
   "metadata": {},
   "outputs": [
    {
     "data": {
      "text/plain": [
       "1"
      ]
     },
     "execution_count": 14,
     "metadata": {},
     "output_type": "execute_result"
    }
   ],
   "source": [
    "a.count('r')"
   ]
  },
  {
   "cell_type": "code",
   "execution_count": 15,
   "id": "f52afba7",
   "metadata": {},
   "outputs": [
    {
     "data": {
      "text/plain": [
       "0"
      ]
     },
     "execution_count": 15,
     "metadata": {},
     "output_type": "execute_result"
    }
   ],
   "source": [
    "a.count('r', 0, 4) # bonj (our)"
   ]
  },
  {
   "cell_type": "code",
   "execution_count": 16,
   "id": "84e97053",
   "metadata": {},
   "outputs": [],
   "source": [
    "a_transformed = a.replace('o', 'a')"
   ]
  },
  {
   "cell_type": "code",
   "execution_count": 17,
   "id": "3b1a0d9f",
   "metadata": {},
   "outputs": [
    {
     "data": {
      "text/plain": [
       "'bonjour'"
      ]
     },
     "execution_count": 17,
     "metadata": {},
     "output_type": "execute_result"
    }
   ],
   "source": [
    "a"
   ]
  },
  {
   "cell_type": "code",
   "execution_count": 18,
   "id": "865e38be",
   "metadata": {},
   "outputs": [
    {
     "data": {
      "text/plain": [
       "'banjaur'"
      ]
     },
     "execution_count": 18,
     "metadata": {},
     "output_type": "execute_result"
    }
   ],
   "source": [
    "a_transformed"
   ]
  },
  {
   "cell_type": "code",
   "execution_count": 19,
   "id": "b2d44bf1",
   "metadata": {},
   "outputs": [
    {
     "data": {
      "text/plain": [
       "True"
      ]
     },
     "execution_count": 19,
     "metadata": {},
     "output_type": "execute_result"
    }
   ],
   "source": [
    "a.endswith('our')"
   ]
  },
  {
   "cell_type": "code",
   "execution_count": 20,
   "id": "f2edc33f",
   "metadata": {},
   "outputs": [
    {
     "data": {
      "text/plain": [
       "False"
      ]
     },
     "execution_count": 20,
     "metadata": {},
     "output_type": "execute_result"
    }
   ],
   "source": [
    "a_transformed.endswith('our')"
   ]
  },
  {
   "cell_type": "code",
   "execution_count": 21,
   "id": "3b5ffe13",
   "metadata": {},
   "outputs": [
    {
     "data": {
      "text/plain": [
       "True"
      ]
     },
     "execution_count": 21,
     "metadata": {},
     "output_type": "execute_result"
    }
   ],
   "source": [
    "a.startswith('bo')"
   ]
  },
  {
   "cell_type": "code",
   "execution_count": 22,
   "id": "0a2f20d7",
   "metadata": {},
   "outputs": [
    {
     "name": "stdout",
     "output_type": "stream",
     "text": [
      "salut\n"
     ]
    }
   ],
   "source": [
    "if a.startswith('bo'):\n",
    "    # fait quelque chose\n",
    "    print('salut')"
   ]
  },
  {
   "cell_type": "code",
   "execution_count": 23,
   "id": "c150701e",
   "metadata": {},
   "outputs": [
    {
     "data": {
      "text/plain": [
       "False"
      ]
     },
     "execution_count": 23,
     "metadata": {},
     "output_type": "execute_result"
    }
   ],
   "source": [
    "a.isdigit() # variable a qui pointe vers => \"bonjour\""
   ]
  },
  {
   "cell_type": "code",
   "execution_count": 24,
   "id": "7c3a4c91",
   "metadata": {},
   "outputs": [
    {
     "data": {
      "text/plain": [
       "True"
      ]
     },
     "execution_count": 24,
     "metadata": {},
     "output_type": "execute_result"
    }
   ],
   "source": [
    "\"1234\".isdigit() # créer un objet \"1234\".isdigit()"
   ]
  },
  {
   "cell_type": "code",
   "execution_count": 25,
   "id": "0344be98",
   "metadata": {},
   "outputs": [
    {
     "data": {
      "text/plain": [
       "True"
      ]
     },
     "execution_count": 25,
     "metadata": {},
     "output_type": "execute_result"
    }
   ],
   "source": [
    "a.islower()"
   ]
  },
  {
   "cell_type": "code",
   "execution_count": 26,
   "id": "6f2c22e6",
   "metadata": {},
   "outputs": [
    {
     "data": {
      "text/plain": [
       "False"
      ]
     },
     "execution_count": 26,
     "metadata": {},
     "output_type": "execute_result"
    }
   ],
   "source": [
    "a.isupper()"
   ]
  },
  {
   "cell_type": "code",
   "execution_count": 27,
   "id": "44af68ff",
   "metadata": {},
   "outputs": [
    {
     "data": {
      "text/plain": [
       "'336602020202'"
      ]
     },
     "execution_count": 27,
     "metadata": {},
     "output_type": "execute_result"
    }
   ],
   "source": [
    "\"---+ -    +++336602020202++  +1-++\".strip(\"- +1\")"
   ]
  },
  {
   "cell_type": "code",
   "execution_count": 28,
   "id": "d804d619",
   "metadata": {},
   "outputs": [
    {
     "data": {
      "text/plain": [
       "'3366020202021'"
      ]
     },
     "execution_count": 28,
     "metadata": {},
     "output_type": "execute_result"
    }
   ],
   "source": [
    "\"---+ -    +++336602020202++  +1-++\".replace(' ', '').replace('-', '').replace('+','')"
   ]
  },
  {
   "cell_type": "code",
   "execution_count": 29,
   "id": "9064a267",
   "metadata": {},
   "outputs": [],
   "source": [
    "c = \"2-3-100\""
   ]
  },
  {
   "cell_type": "code",
   "execution_count": 30,
   "id": "7daf6457",
   "metadata": {},
   "outputs": [
    {
     "data": {
      "text/plain": [
       "['2', '3', '100']"
      ]
     },
     "execution_count": 30,
     "metadata": {},
     "output_type": "execute_result"
    }
   ],
   "source": [
    "c.split(\"-\")"
   ]
  },
  {
   "cell_type": "code",
   "execution_count": 31,
   "id": "7a178b92",
   "metadata": {},
   "outputs": [
    {
     "data": {
      "text/plain": [
       "'bonjour'"
      ]
     },
     "execution_count": 31,
     "metadata": {},
     "output_type": "execute_result"
    }
   ],
   "source": [
    "'bon' + 'jour'"
   ]
  },
  {
   "cell_type": "code",
   "execution_count": 32,
   "id": "8740450e",
   "metadata": {},
   "outputs": [
    {
     "data": {
      "text/plain": [
       "'bon2'"
      ]
     },
     "execution_count": 32,
     "metadata": {},
     "output_type": "execute_result"
    }
   ],
   "source": [
    "'bon'+ '2'"
   ]
  },
  {
   "cell_type": "code",
   "execution_count": 33,
   "id": "be7d69cd",
   "metadata": {},
   "outputs": [
    {
     "ename": "TypeError",
     "evalue": "can only concatenate str (not \"int\") to str",
     "output_type": "error",
     "traceback": [
      "\u001b[0;31m---------------------------------------------------------------------------\u001b[0m",
      "\u001b[0;31mTypeError\u001b[0m                                 Traceback (most recent call last)",
      "\u001b[0;32m<ipython-input-33-3725b8b01d63>\u001b[0m in \u001b[0;36m<module>\u001b[0;34m\u001b[0m\n\u001b[0;32m----> 1\u001b[0;31m \u001b[0;34m'bon'\u001b[0m\u001b[0;34m+\u001b[0m \u001b[0;36m1\u001b[0m\u001b[0;34m\u001b[0m\u001b[0;34m\u001b[0m\u001b[0m\n\u001b[0m",
      "\u001b[0;31mTypeError\u001b[0m: can only concatenate str (not \"int\") to str"
     ]
    }
   ],
   "source": [
    "'bon'+ 1"
   ]
  },
  {
   "cell_type": "code",
   "execution_count": null,
   "id": "32a18f8d",
   "metadata": {},
   "outputs": [],
   "source": [
    "\"bon\" + str(1) + \"jour\""
   ]
  },
  {
   "cell_type": "code",
   "execution_count": 34,
   "id": "679ef850",
   "metadata": {},
   "outputs": [
    {
     "name": "stdout",
     "output_type": "stream",
     "text": [
      "<class 'str'>\n"
     ]
    }
   ],
   "source": [
    "print(type(\"bonjour\"))"
   ]
  },
  {
   "cell_type": "code",
   "execution_count": 35,
   "id": "22f181bb",
   "metadata": {
    "scrolled": true
   },
   "outputs": [
    {
     "data": {
      "text/plain": [
       "'2'"
      ]
     },
     "execution_count": 35,
     "metadata": {},
     "output_type": "execute_result"
    }
   ],
   "source": [
    "str(2)"
   ]
  },
  {
   "cell_type": "code",
   "execution_count": 36,
   "id": "1487a9a6",
   "metadata": {},
   "outputs": [],
   "source": [
    "test = \"bonjour\""
   ]
  },
  {
   "cell_type": "code",
   "execution_count": 37,
   "id": "0b7d14f2",
   "metadata": {},
   "outputs": [
    {
     "data": {
      "text/plain": [
       "'bonjoursalut'"
      ]
     },
     "execution_count": 37,
     "metadata": {},
     "output_type": "execute_result"
    }
   ],
   "source": [
    "test.__add__('salut')"
   ]
  },
  {
   "cell_type": "code",
   "execution_count": 38,
   "id": "84cf9d1c",
   "metadata": {},
   "outputs": [
    {
     "data": {
      "text/plain": [
       "'bonjoursalut'"
      ]
     },
     "execution_count": 38,
     "metadata": {},
     "output_type": "execute_result"
    }
   ],
   "source": [
    "\"bonjour\".__add__('salut')"
   ]
  },
  {
   "cell_type": "markdown",
   "id": "c9b111b6",
   "metadata": {},
   "source": [
    "# integers "
   ]
  },
  {
   "cell_type": "code",
   "execution_count": 39,
   "id": "6cfb7f1d",
   "metadata": {},
   "outputs": [
    {
     "data": {
      "text/plain": [
       "(3, int)"
      ]
     },
     "execution_count": 39,
     "metadata": {},
     "output_type": "execute_result"
    }
   ],
   "source": [
    "3, type(3)"
   ]
  },
  {
   "cell_type": "code",
   "execution_count": 40,
   "id": "b7d6a291",
   "metadata": {},
   "outputs": [
    {
     "data": {
      "text/plain": [
       "0"
      ]
     },
     "execution_count": 40,
     "metadata": {},
     "output_type": "execute_result"
    }
   ],
   "source": [
    "int()"
   ]
  },
  {
   "cell_type": "code",
   "execution_count": 41,
   "id": "988a5596",
   "metadata": {},
   "outputs": [
    {
     "data": {
      "text/plain": [
       "9"
      ]
     },
     "execution_count": 41,
     "metadata": {},
     "output_type": "execute_result"
    }
   ],
   "source": [
    "int(\"1001\", base=2)"
   ]
  },
  {
   "cell_type": "code",
   "execution_count": 42,
   "id": "00abd534",
   "metadata": {},
   "outputs": [
    {
     "data": {
      "text/plain": [
       "34"
      ]
     },
     "execution_count": 42,
     "metadata": {},
     "output_type": "execute_result"
    }
   ],
   "source": [
    "int(\"34\")"
   ]
  },
  {
   "cell_type": "code",
   "execution_count": 43,
   "id": "cf8954c6",
   "metadata": {},
   "outputs": [
    {
     "data": {
      "text/plain": [
       "6"
      ]
     },
     "execution_count": 43,
     "metadata": {},
     "output_type": "execute_result"
    }
   ],
   "source": [
    "3 + 3"
   ]
  },
  {
   "cell_type": "code",
   "execution_count": 44,
   "id": "e27e1792",
   "metadata": {},
   "outputs": [],
   "source": [
    "# magic methods <=> dunder methods => c'est les méthodes qui commencent par \"__\" et finissent par \"__\""
   ]
  },
  {
   "cell_type": "code",
   "execution_count": 45,
   "id": "01fe1933",
   "metadata": {},
   "outputs": [],
   "source": [
    "a = 3"
   ]
  },
  {
   "cell_type": "code",
   "execution_count": 46,
   "id": "3ae0401f",
   "metadata": {},
   "outputs": [
    {
     "data": {
      "text/plain": [
       "7"
      ]
     },
     "execution_count": 46,
     "metadata": {},
     "output_type": "execute_result"
    }
   ],
   "source": [
    "a.__add__(4)"
   ]
  },
  {
   "cell_type": "code",
   "execution_count": 47,
   "id": "5f370a18",
   "metadata": {},
   "outputs": [
    {
     "data": {
      "text/plain": [
       "7"
      ]
     },
     "execution_count": 47,
     "metadata": {},
     "output_type": "execute_result"
    }
   ],
   "source": [
    "a + 4"
   ]
  },
  {
   "cell_type": "code",
   "execution_count": 48,
   "id": "c8fa4cce",
   "metadata": {},
   "outputs": [
    {
     "data": {
      "text/plain": [
       "-1"
      ]
     },
     "execution_count": 48,
     "metadata": {},
     "output_type": "execute_result"
    }
   ],
   "source": [
    "a - 4\n",
    "a.__sub__(4)"
   ]
  },
  {
   "cell_type": "code",
   "execution_count": 49,
   "id": "20b2e879",
   "metadata": {},
   "outputs": [
    {
     "data": {
      "text/plain": [
       "True"
      ]
     },
     "execution_count": 49,
     "metadata": {},
     "output_type": "execute_result"
    }
   ],
   "source": [
    "a == 3 # a.__eq__(3)\n",
    "a != 3 # a.__ne__(3)\n",
    "a > 3 # a.__gt__(3)\n",
    "a < 3 # a.__lt__(3)\n",
    "a >= 3 # a.__ge__(3)"
   ]
  },
  {
   "cell_type": "code",
   "execution_count": 50,
   "id": "3a99e9fd",
   "metadata": {},
   "outputs": [
    {
     "data": {
      "text/plain": [
       "0.75"
      ]
     },
     "execution_count": 50,
     "metadata": {},
     "output_type": "execute_result"
    }
   ],
   "source": [
    "a / 4"
   ]
  },
  {
   "cell_type": "code",
   "execution_count": 51,
   "id": "82e3b178",
   "metadata": {},
   "outputs": [
    {
     "data": {
      "text/plain": [
       "0"
      ]
     },
     "execution_count": 51,
     "metadata": {},
     "output_type": "execute_result"
    }
   ],
   "source": [
    "a // 4"
   ]
  },
  {
   "cell_type": "code",
   "execution_count": 52,
   "id": "91389f25",
   "metadata": {},
   "outputs": [
    {
     "data": {
      "text/plain": [
       "3"
      ]
     },
     "execution_count": 52,
     "metadata": {},
     "output_type": "execute_result"
    }
   ],
   "source": [
    "a % 4"
   ]
  },
  {
   "cell_type": "code",
   "execution_count": 53,
   "id": "5cfdd783",
   "metadata": {},
   "outputs": [
    {
     "data": {
      "text/plain": [
       "81"
      ]
     },
     "execution_count": 53,
     "metadata": {},
     "output_type": "execute_result"
    }
   ],
   "source": [
    "a ** 4\n"
   ]
  },
  {
   "cell_type": "code",
   "execution_count": 54,
   "id": "79b590cd",
   "metadata": {},
   "outputs": [
    {
     "data": {
      "text/plain": [
       "12"
      ]
     },
     "execution_count": 54,
     "metadata": {},
     "output_type": "execute_result"
    }
   ],
   "source": [
    "a * 4"
   ]
  },
  {
   "cell_type": "markdown",
   "id": "e20e6b12",
   "metadata": {},
   "source": [
    "# list"
   ]
  },
  {
   "cell_type": "markdown",
   "id": "805b986c",
   "metadata": {},
   "source": [
    "# tuples"
   ]
  },
  {
   "cell_type": "markdown",
   "id": "5b1c9d5a",
   "metadata": {},
   "source": [
    "# dict"
   ]
  },
  {
   "cell_type": "code",
   "execution_count": null,
   "id": "f82cb20d",
   "metadata": {},
   "outputs": [],
   "source": []
  }
 ],
 "metadata": {
  "kernelspec": {
   "display_name": "Python 3",
   "language": "python",
   "name": "python3"
  },
  "language_info": {
   "codemirror_mode": {
    "name": "ipython",
    "version": 3
   },
   "file_extension": ".py",
   "mimetype": "text/x-python",
   "name": "python",
   "nbconvert_exporter": "python",
   "pygments_lexer": "ipython3",
   "version": "3.8.8"
  }
 },
 "nbformat": 4,
 "nbformat_minor": 5
}
