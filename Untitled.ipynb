{
 "cells": [
  {
   "cell_type": "code",
   "execution_count": null,
   "id": "3836b8ef",
   "metadata": {},
   "outputs": [],
   "source": [
    "input"
   ]
  },
  {
   "cell_type": "code",
   "execution_count": 1,
   "id": "8b2d66dc",
   "metadata": {},
   "outputs": [],
   "source": [
    "inputs = {'Luc': 25, 'Corentin': 18, 'Thomas': 29, 'Julie': 22, 'Juliette': 21}\n"
   ]
  },
  {
   "cell_type": "code",
   "execution_count": null,
   "id": "cf657f20",
   "metadata": {},
   "outputs": [],
   "source": [
    "for .... in inputs.items():\n",
    "    lafcuntion(...)"
   ]
  },
  {
   "cell_type": "code",
   "execution_count": null,
   "id": "dfcb074c",
   "metadata": {},
   "outputs": [],
   "source": [
    "for letupleressorti in inputs.items():\n",
    "    lafunction(letupleressorti[0], letupleressorti[1])"
   ]
  }
 ],
 "metadata": {
  "kernelspec": {
   "display_name": "Python 3",
   "language": "python",
   "name": "python3"
  },
  "language_info": {
   "codemirror_mode": {
    "name": "ipython",
    "version": 3
   },
   "file_extension": ".py",
   "mimetype": "text/x-python",
   "name": "python",
   "nbconvert_exporter": "python",
   "pygments_lexer": "ipython3",
   "version": "3.8.8"
  }
 },
 "nbformat": 4,
 "nbformat_minor": 5
}
