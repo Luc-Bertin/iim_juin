{
 "cells": [
  {
   "cell_type": "code",
   "execution_count": 4,
   "id": "cc26b02f",
   "metadata": {},
   "outputs": [
    {
     "name": "stdout",
     "output_type": "stream",
     "text": [
      "Requirement already satisfied: requests in /Users/lucbertin/.pyenv/versions/3.8.8/envs/base_env/lib/python3.8/site-packages (2.25.1)\n",
      "Requirement already satisfied: urllib3<1.27,>=1.21.1 in /Users/lucbertin/.pyenv/versions/3.8.8/envs/base_env/lib/python3.8/site-packages (from requests) (1.26.4)\n",
      "Requirement already satisfied: chardet<5,>=3.0.2 in /Users/lucbertin/.pyenv/versions/3.8.8/envs/base_env/lib/python3.8/site-packages (from requests) (4.0.0)\n",
      "Requirement already satisfied: certifi>=2017.4.17 in /Users/lucbertin/.pyenv/versions/3.8.8/envs/base_env/lib/python3.8/site-packages (from requests) (2020.12.5)\n",
      "Requirement already satisfied: idna<3,>=2.5 in /Users/lucbertin/.pyenv/versions/3.8.8/envs/base_env/lib/python3.8/site-packages (from requests) (2.10)\n",
      "\u001b[33mWARNING: You are using pip version 21.1.1; however, version 21.1.2 is available.\n",
      "You should consider upgrading via the '/Users/lucbertin/.pyenv/versions/3.8.8/envs/base_env/bin/python3.8 -m pip install --upgrade pip' command.\u001b[0m\n"
     ]
    }
   ],
   "source": [
    "!pip install bs4\n",
    "!pip install requests\n",
    "!pip install pandas\n",
    "!pip install matplotlib"
   ]
  },
  {
   "cell_type": "code",
   "execution_count": 98,
   "id": "74bc2d43",
   "metadata": {},
   "outputs": [
    {
     "data": {
      "text/plain": [
       "200"
      ]
     },
     "execution_count": 98,
     "metadata": {},
     "output_type": "execute_result"
    }
   ],
   "source": [
    "from requests import get\n",
    "response = get(\"https://www.afm-telethon.fr/telethon/bref/parrains-resultats-telethon-1379\")\n",
    "response.status_code"
   ]
  },
  {
   "cell_type": "code",
   "execution_count": 99,
   "id": "6b0cfbb2",
   "metadata": {
    "scrolled": false
   },
   "outputs": [],
   "source": [
    "html = response.content\n",
    "\n",
    "from bs4 import BeautifulSoup\n",
    "soup = BeautifulSoup(html, \"html.parser\")"
   ]
  },
  {
   "cell_type": "markdown",
   "id": "55dc4ae9",
   "metadata": {},
   "source": [
    "- **p** : tous les p\n",
    "- **p.colorized**: tous les p de classe \"colorized\"\n",
    "- **p#1**: tous les p d'id1\n",
    "- **p a**: tous les a dans les p\n",
    "- **table#2 tr.colorized** :tous les tr qui ont pour classe colorized dans les table d'id 2"
   ]
  },
  {
   "cell_type": "code",
   "execution_count": 100,
   "id": "95d2c476",
   "metadata": {},
   "outputs": [],
   "source": [
    "annees = [ el.get_text() for el in soup.select(\"table tr td\")[3::3] ]\n",
    "parrains = [ el.get_text() for el in soup.select(\"table tr td\")[4::3] ]\n",
    "montants = [ el.get_text() for el in soup.select(\"table tr td\")[5::3] ]"
   ]
  },
  {
   "cell_type": "code",
   "execution_count": 101,
   "id": "3cb9aedb",
   "metadata": {
    "scrolled": true
   },
   "outputs": [],
   "source": [
    "import pandas as pd\n",
    "\n",
    "df = pd.DataFrame({\n",
    "        \"annees\"  : annees,\n",
    "        \"parrains\": parrains,\n",
    "        \"montants\": montants,\n",
    "    }\n",
    ")"
   ]
  },
  {
   "cell_type": "code",
   "execution_count": 102,
   "id": "7c803564",
   "metadata": {},
   "outputs": [],
   "source": [
    "df.annees = df.annees.astype(int)\n",
    "df.montants = df.montants.str.replace('€', '').str.replace(' ', '').astype(int)"
   ]
  },
  {
   "cell_type": "code",
   "execution_count": 103,
   "id": "af5d1eae",
   "metadata": {},
   "outputs": [
    {
     "data": {
      "text/plain": [
       "annees       int64\n",
       "parrains    object\n",
       "montants     int64\n",
       "dtype: object"
      ]
     },
     "execution_count": 103,
     "metadata": {},
     "output_type": "execute_result"
    }
   ],
   "source": [
    "df.dtypes"
   ]
  },
  {
   "cell_type": "code",
   "execution_count": 104,
   "id": "90cc9a61",
   "metadata": {},
   "outputs": [
    {
     "data": {
      "text/plain": [
       "<AxesSubplot:xlabel='annees'>"
      ]
     },
     "execution_count": 104,
     "metadata": {},
     "output_type": "execute_result"
    },
    {
     "data": {
      "image/png": "[encoded data removed]",
      "text/plain": [
       "<Figure size 432x288 with 1 Axes>"
      ]
     },
     "metadata": {
      "needs_background": "light"
     },
     "output_type": "display_data"
    }
   ],
   "source": [
    "df.set_index(\"annees\").montants.plot(kind=\"line\")"
   ]
  },
  {
   "cell_type": "code",
   "execution_count": null,
   "id": "b3248c16",
   "metadata": {},
   "outputs": [],
   "source": []
  }
 ],
 "metadata": {
  "kernelspec": {
   "display_name": "Python 3",
   "language": "python",
   "name": "python3"
  },
  "language_info": {
   "codemirror_mode": {
    "name": "ipython",
    "version": 3
   },
   "file_extension": ".py",
   "mimetype": "text/x-python",
   "name": "python",
   "nbconvert_exporter": "python",
   "pygments_lexer": "ipython3",
   "version": "3.8.8"
  }
 },
 "nbformat": 4,
 "nbformat_minor": 5
}
