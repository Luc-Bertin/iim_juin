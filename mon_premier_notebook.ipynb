{
 "cells": [
  {
   "cell_type": "code",
   "execution_count": 158,
   "id": "3db253c9",
   "metadata": {},
   "outputs": [
    {
     "name": "stdout",
     "output_type": "stream",
     "text": [
      "coronavirus.jpg            save_notebook.ipynb\r\n",
      "mon_premier_notebook.ipynb\r\n"
     ]
    }
   ],
   "source": [
    "!ls"
   ]
  },
  {
   "cell_type": "code",
   "execution_count": 159,
   "id": "7acd9fb9",
   "metadata": {},
   "outputs": [
    {
     "name": "stdout",
     "output_type": "stream",
     "text": [
      "salut\r\n"
     ]
    }
   ],
   "source": [
    "!echo \"salut\""
   ]
  },
  {
   "cell_type": "code",
   "execution_count": 160,
   "id": "24233a51",
   "metadata": {},
   "outputs": [
    {
     "name": "stdout",
     "output_type": "stream",
     "text": [
      "\u001b[34m.\u001b[m\u001b[m                          coronavirus.jpg\r\n",
      "\u001b[34m..\u001b[m\u001b[m                         mon_premier_notebook.ipynb\r\n",
      "\u001b[34m.git\u001b[m\u001b[m                       save_notebook.ipynb\r\n",
      "\u001b[34m.ipynb_checkpoints\u001b[m\u001b[m\r\n"
     ]
    }
   ],
   "source": [
    "!ls -a"
   ]
  },
  {
   "cell_type": "code",
   "execution_count": 154,
   "id": "dc696742",
   "metadata": {},
   "outputs": [
    {
     "name": "stdout",
     "output_type": "stream",
     "text": [
      "Reinitialized existing Git repository in /Users/lucbertin/Desktop/ProjetsIIM/.git/\r\n"
     ]
    }
   ],
   "source": [
    "!git init\n",
    "#!git remote add origin https://github.com/Luc-Bertin/iim_juin.git\n",
    "#!git remote -v"
   ]
  },
  {
   "cell_type": "code",
   "execution_count": 476,
   "id": "fc0c614e",
   "metadata": {},
   "outputs": [],
   "source": [
    "!git add ."
   ]
  },
  {
   "cell_type": "code",
   "execution_count": 477,
   "id": "650e597d",
   "metadata": {},
   "outputs": [
    {
     "name": "stdout",
     "output_type": "stream",
     "text": [
      "[master 069ffdf] premier upload\r\n",
      " 1 file changed, 1127 insertions(+), 157 deletions(-)\r\n"
     ]
    }
   ],
   "source": [
    "!git commit -m \"premier upload\""
   ]
  },
  {
   "cell_type": "code",
   "execution_count": 478,
   "id": "cd92eabf",
   "metadata": {},
   "outputs": [
    {
     "name": "stdout",
     "output_type": "stream",
     "text": [
      "Enumerating objects: 5, done.\n",
      "Counting objects: 100% (5/5), done.\n",
      "Delta compression using up to 8 threads\n",
      "Compressing objects: 100% (3/3), done.\n",
      "Writing objects: 100% (3/3), 5.15 KiB | 2.58 MiB/s, done.\n",
      "Total 3 (delta 2), reused 0 (delta 0), pack-reused 0\n",
      "remote: Resolving deltas: 100% (2/2), completed with 2 local objects.\u001b[K\n",
      "To https://github.com/Luc-Bertin/iim_juin.git\n",
      "   0e6e6a2..069ffdf  master -> master\n"
     ]
    }
   ],
   "source": [
    "!git push origin master"
   ]
  },
  {
   "cell_type": "markdown",
   "id": "35b4d6fd",
   "metadata": {},
   "source": [
    "# quand je click, à l'intérieur de la cellule => je peux écrire du contenu dans celle-ci\n",
    "## si je veux changer le type de la cellule : \n",
    "   * ESC + M si je veux en markdown\n",
    "   * ESC + Y si je veux écrire par la suite du code\n",
    "        - par défaut c'est une cellule de code\n",
    "\n",
    "## executer une cellule : Shift + Enter (passe également à la suivante)"
   ]
  },
  {
   "cell_type": "markdown",
   "id": "90313089",
   "metadata": {},
   "source": [
    "d'autres raccourcis important:\n",
    "- supprimer une cellule : (Esc) + D + D \n",
    "- ajouter une cellule en dessous ou haut dessus: (ESC) + B ou A\n",
    "- pour naviguer aux niveaux des cellules : flèches de navigation haut / bas"
   ]
  },
  {
   "cell_type": "markdown",
   "id": "06cc0384",
   "metadata": {},
   "source": [
    "* pour engistrer un travail: Command (ou control) + S"
   ]
  },
  {
   "cell_type": "markdown",
   "id": "a3ae86c5",
   "metadata": {},
   "source": [
    "<img src=\"coronavirus.jpg\" align=\"right\" width=\"200px\">"
   ]
  },
  {
   "cell_type": "markdown",
   "id": "675f741e",
   "metadata": {},
   "source": [
    "<h1 style=\"color:red;\">Passons au code!<h1>"
   ]
  },
  {
   "cell_type": "markdown",
   "id": "6b6cb557",
   "metadata": {},
   "source": [
    "Python est un language dynamiquement typé"
   ]
  },
  {
   "cell_type": "markdown",
   "id": "33a869de",
   "metadata": {},
   "source": [
    "En python: tout est object !"
   ]
  },
  {
   "cell_type": "markdown",
   "id": "a883ff72",
   "metadata": {},
   "source": [
    "tout object a 3 éléments:\n",
    "   - un id\n",
    "   - un type\n",
    "   - une valeur / une représentation"
   ]
  },
  {
   "cell_type": "code",
   "execution_count": 41,
   "id": "9290eb30",
   "metadata": {},
   "outputs": [],
   "source": [
    "a = 87873878947893784"
   ]
  },
  {
   "cell_type": "code",
   "execution_count": 45,
   "id": "8353aaab",
   "metadata": {},
   "outputs": [
    {
     "data": {
      "text/plain": [
       "(4457004816, int, 87873878947893784)"
      ]
     },
     "execution_count": 45,
     "metadata": {},
     "output_type": "execute_result"
    }
   ],
   "source": [
    "id(a), type(a), a"
   ]
  },
  {
   "cell_type": "code",
   "execution_count": 47,
   "id": "4bd14561",
   "metadata": {},
   "outputs": [
    {
     "data": {
      "text/plain": [
       "(4448998064, str, 'bonjour')"
      ]
     },
     "execution_count": 47,
     "metadata": {},
     "output_type": "execute_result"
    }
   ],
   "source": [
    "a = \"bonjour\"\n",
    "id(a), type(a), a"
   ]
  },
  {
   "cell_type": "code",
   "execution_count": 48,
   "id": "7821848d",
   "metadata": {},
   "outputs": [
    {
     "data": {
      "text/plain": [
       "(4449424768, list, [])"
      ]
     },
     "execution_count": 48,
     "metadata": {},
     "output_type": "execute_result"
    }
   ],
   "source": [
    "a = []\n",
    "id(a), type(a), a"
   ]
  },
  {
   "cell_type": "code",
   "execution_count": 49,
   "id": "1ecc6873",
   "metadata": {},
   "outputs": [
    {
     "data": {
      "text/plain": [
       "(4449425728, dict, {})"
      ]
     },
     "execution_count": 49,
     "metadata": {},
     "output_type": "execute_result"
    }
   ],
   "source": [
    "a = {}\n",
    "id(a), type(a), a"
   ]
  },
  {
   "cell_type": "markdown",
   "id": "f7bfb099",
   "metadata": {},
   "source": [
    "- la plupart des objects contiennent attributs et méthodes"
   ]
  },
  {
   "cell_type": "code",
   "execution_count": 56,
   "id": "d21fd592",
   "metadata": {},
   "outputs": [],
   "source": [
    "a = \"bonjour\"\n",
    "a = a.capitalize() # méthode (d'instance, associé à cette instance, juste à cet object en particulier)"
   ]
  },
  {
   "cell_type": "markdown",
   "id": "240e39ae",
   "metadata": {},
   "source": [
    "Pour voir les attributs et méthodes associées à un objet, utiliser la fonction \"dir\""
   ]
  },
  {
   "cell_type": "code",
   "execution_count": 60,
   "id": "c2f42ad4",
   "metadata": {},
   "outputs": [
    {
     "name": "stdout",
     "output_type": "stream",
     "text": [
      "['__add__', '__class__', '__contains__', '__delattr__', '__dir__', '__doc__', '__eq__', '__format__', '__ge__', '__getattribute__', '__getitem__', '__getnewargs__', '__gt__', '__hash__', '__init__', '__init_subclass__', '__iter__', '__le__', '__len__', '__lt__', '__mod__', '__mul__', '__ne__', '__new__', '__reduce__', '__reduce_ex__', '__repr__', '__rmod__', '__rmul__', '__setattr__', '__sizeof__', '__str__', '__subclasshook__', 'capitalize', 'casefold', 'center', 'count', 'encode', 'endswith', 'expandtabs', 'find', 'format', 'format_map', 'index', 'isalnum', 'isalpha', 'isascii', 'isdecimal', 'isdigit', 'isidentifier', 'islower', 'isnumeric', 'isprintable', 'isspace', 'istitle', 'isupper', 'join', 'ljust', 'lower', 'lstrip', 'maketrans', 'partition', 'replace', 'rfind', 'rindex', 'rjust', 'rpartition', 'rsplit', 'rstrip', 'split', 'splitlines', 'startswith', 'strip', 'swapcase', 'title', 'translate', 'upper', 'zfill']\n"
     ]
    }
   ],
   "source": [
    "print(dir(a))"
   ]
  },
  {
   "cell_type": "markdown",
   "id": "9811e2e9",
   "metadata": {},
   "source": [
    "# Built-in types"
   ]
  },
  {
   "cell_type": "code",
   "execution_count": 61,
   "id": "1772b104",
   "metadata": {},
   "outputs": [],
   "source": [
    "a = \"bonjour\""
   ]
  },
  {
   "cell_type": "markdown",
   "id": "ed5a1f93",
   "metadata": {},
   "source": [
    "### écrivez l'object + '.' + TAB dans jupyter \n",
    "### vous allez avoir toutes les méthodes et attributs proposées associées à cet objet\n",
    "\n",
    "### une fois l'attribut (ou méthode) écrite en entier,  SHIFT+TAB permet d'avoir la docstring"
   ]
  },
  {
   "cell_type": "code",
   "execution_count": 63,
   "id": "b66c1643",
   "metadata": {},
   "outputs": [
    {
     "data": {
      "text/plain": [
       "'Bonjour'"
      ]
     },
     "execution_count": 63,
     "metadata": {},
     "output_type": "execute_result"
    }
   ],
   "source": [
    "a.capitalize()"
   ]
  },
  {
   "cell_type": "code",
   "execution_count": 64,
   "id": "f2b38713",
   "metadata": {},
   "outputs": [
    {
     "data": {
      "text/plain": [
       "'BONJOUR'"
      ]
     },
     "execution_count": 64,
     "metadata": {},
     "output_type": "execute_result"
    }
   ],
   "source": [
    "a.upper()"
   ]
  },
  {
   "cell_type": "code",
   "execution_count": 65,
   "id": "32620565",
   "metadata": {},
   "outputs": [
    {
     "data": {
      "text/plain": [
       "'bonjour'"
      ]
     },
     "execution_count": 65,
     "metadata": {},
     "output_type": "execute_result"
    }
   ],
   "source": [
    "a.lower()"
   ]
  },
  {
   "cell_type": "code",
   "execution_count": 66,
   "id": "e23bea13",
   "metadata": {},
   "outputs": [
    {
     "data": {
      "text/plain": [
       "1"
      ]
     },
     "execution_count": 66,
     "metadata": {},
     "output_type": "execute_result"
    }
   ],
   "source": [
    "a.count('bo')"
   ]
  },
  {
   "cell_type": "code",
   "execution_count": 67,
   "id": "19aefd0d",
   "metadata": {},
   "outputs": [
    {
     "data": {
      "text/plain": [
       "2"
      ]
     },
     "execution_count": 67,
     "metadata": {},
     "output_type": "execute_result"
    }
   ],
   "source": [
    "a.count('o')"
   ]
  },
  {
   "cell_type": "code",
   "execution_count": 68,
   "id": "dcdbc2b0",
   "metadata": {},
   "outputs": [
    {
     "data": {
      "text/plain": [
       "1"
      ]
     },
     "execution_count": 68,
     "metadata": {},
     "output_type": "execute_result"
    }
   ],
   "source": [
    "a.count('r')"
   ]
  },
  {
   "cell_type": "code",
   "execution_count": 70,
   "id": "89c183ce",
   "metadata": {},
   "outputs": [
    {
     "data": {
      "text/plain": [
       "0"
      ]
     },
     "execution_count": 70,
     "metadata": {},
     "output_type": "execute_result"
    }
   ],
   "source": [
    "a.count('r', 0, 4) # bonj (our)"
   ]
  },
  {
   "cell_type": "code",
   "execution_count": 73,
   "id": "feb884e7",
   "metadata": {},
   "outputs": [],
   "source": [
    "a_transformed = a.replace('o', 'a')"
   ]
  },
  {
   "cell_type": "code",
   "execution_count": 74,
   "id": "043053db",
   "metadata": {},
   "outputs": [
    {
     "data": {
      "text/plain": [
       "'bonjour'"
      ]
     },
     "execution_count": 74,
     "metadata": {},
     "output_type": "execute_result"
    }
   ],
   "source": [
    "a"
   ]
  },
  {
   "cell_type": "code",
   "execution_count": 75,
   "id": "6f9d4f77",
   "metadata": {},
   "outputs": [
    {
     "data": {
      "text/plain": [
       "'banjaur'"
      ]
     },
     "execution_count": 75,
     "metadata": {},
     "output_type": "execute_result"
    }
   ],
   "source": [
    "a_transformed"
   ]
  },
  {
   "cell_type": "code",
   "execution_count": 76,
   "id": "7a9fbfaa",
   "metadata": {},
   "outputs": [
    {
     "data": {
      "text/plain": [
       "True"
      ]
     },
     "execution_count": 76,
     "metadata": {},
     "output_type": "execute_result"
    }
   ],
   "source": [
    "a.endswith('our')"
   ]
  },
  {
   "cell_type": "code",
   "execution_count": 80,
   "id": "4be468fa",
   "metadata": {},
   "outputs": [
    {
     "data": {
      "text/plain": [
       "False"
      ]
     },
     "execution_count": 80,
     "metadata": {},
     "output_type": "execute_result"
    }
   ],
   "source": [
    "a_transformed.endswith('our')"
   ]
  },
  {
   "cell_type": "code",
   "execution_count": 82,
   "id": "5b539968",
   "metadata": {},
   "outputs": [
    {
     "data": {
      "text/plain": [
       "True"
      ]
     },
     "execution_count": 82,
     "metadata": {},
     "output_type": "execute_result"
    }
   ],
   "source": [
    "a.startswith('bo')"
   ]
  },
  {
   "cell_type": "code",
   "execution_count": 84,
   "id": "aa2b991f",
   "metadata": {},
   "outputs": [
    {
     "name": "stdout",
     "output_type": "stream",
     "text": [
      "salut\n"
     ]
    }
   ],
   "source": [
    "if a.startswith('bo'):\n",
    "    # fait quelque chose\n",
    "    print('salut')"
   ]
  },
  {
   "cell_type": "code",
   "execution_count": 85,
   "id": "d9e015c6",
   "metadata": {},
   "outputs": [
    {
     "data": {
      "text/plain": [
       "False"
      ]
     },
     "execution_count": 85,
     "metadata": {},
     "output_type": "execute_result"
    }
   ],
   "source": [
    "a.isdigit() # variable a qui pointe vers => \"bonjour\""
   ]
  },
  {
   "cell_type": "code",
   "execution_count": 87,
   "id": "14a7f1ff",
   "metadata": {},
   "outputs": [
    {
     "data": {
      "text/plain": [
       "True"
      ]
     },
     "execution_count": 87,
     "metadata": {},
     "output_type": "execute_result"
    }
   ],
   "source": [
    "\"1234\".isdigit() # créer un objet \"1234\".isdigit()"
   ]
  },
  {
   "cell_type": "code",
   "execution_count": 88,
   "id": "bf8a022a",
   "metadata": {},
   "outputs": [
    {
     "data": {
      "text/plain": [
       "True"
      ]
     },
     "execution_count": 88,
     "metadata": {},
     "output_type": "execute_result"
    }
   ],
   "source": [
    "a.islower()"
   ]
  },
  {
   "cell_type": "code",
   "execution_count": 89,
   "id": "11a2c694",
   "metadata": {},
   "outputs": [
    {
     "data": {
      "text/plain": [
       "False"
      ]
     },
     "execution_count": 89,
     "metadata": {},
     "output_type": "execute_result"
    }
   ],
   "source": [
    "a.isupper()"
   ]
  },
  {
   "cell_type": "code",
   "execution_count": 98,
   "id": "186b0944",
   "metadata": {},
   "outputs": [
    {
     "data": {
      "text/plain": [
       "'336602020202'"
      ]
     },
     "execution_count": 98,
     "metadata": {},
     "output_type": "execute_result"
    }
   ],
   "source": [
    "\"---+ -    +++336602020202++  +1-++\".strip(\"- +1\")"
   ]
  },
  {
   "cell_type": "code",
   "execution_count": 100,
   "id": "2a2139cb",
   "metadata": {},
   "outputs": [
    {
     "data": {
      "text/plain": [
       "'3366020202021'"
      ]
     },
     "execution_count": 100,
     "metadata": {},
     "output_type": "execute_result"
    }
   ],
   "source": [
    "\"---+ -    +++336602020202++  +1-++\".replace(' ', '').replace('-', '').replace('+','')"
   ]
  },
  {
   "cell_type": "code",
   "execution_count": 101,
   "id": "88917ee7",
   "metadata": {},
   "outputs": [],
   "source": [
    "c = \"2-3-100\""
   ]
  },
  {
   "cell_type": "code",
   "execution_count": 102,
   "id": "fb079239",
   "metadata": {},
   "outputs": [
    {
     "data": {
      "text/plain": [
       "['2', '3', '100']"
      ]
     },
     "execution_count": 102,
     "metadata": {},
     "output_type": "execute_result"
    }
   ],
   "source": [
    "c.split(\"-\")"
   ]
  },
  {
   "cell_type": "code",
   "execution_count": 103,
   "id": "91f16951",
   "metadata": {},
   "outputs": [
    {
     "data": {
      "text/plain": [
       "'bonjour'"
      ]
     },
     "execution_count": 103,
     "metadata": {},
     "output_type": "execute_result"
    }
   ],
   "source": [
    "'bon' + 'jour'"
   ]
  },
  {
   "cell_type": "code",
   "execution_count": 104,
   "id": "7af81aa9",
   "metadata": {},
   "outputs": [
    {
     "data": {
      "text/plain": [
       "'bon2'"
      ]
     },
     "execution_count": 104,
     "metadata": {},
     "output_type": "execute_result"
    }
   ],
   "source": [
    "'bon'+ '2'"
   ]
  },
  {
   "cell_type": "code",
   "execution_count": 105,
   "id": "a079f63b",
   "metadata": {},
   "outputs": [
    {
     "ename": "TypeError",
     "evalue": "can only concatenate str (not \"int\") to str",
     "output_type": "error",
     "traceback": [
      "\u001b[0;31m---------------------------------------------------------------------------\u001b[0m",
      "\u001b[0;31mTypeError\u001b[0m                                 Traceback (most recent call last)",
      "\u001b[0;32m<ipython-input-105-3725b8b01d63>\u001b[0m in \u001b[0;36m<module>\u001b[0;34m\u001b[0m\n\u001b[0;32m----> 1\u001b[0;31m \u001b[0;34m'bon'\u001b[0m\u001b[0;34m+\u001b[0m \u001b[0;36m1\u001b[0m\u001b[0;34m\u001b[0m\u001b[0;34m\u001b[0m\u001b[0m\n\u001b[0m",
      "\u001b[0;31mTypeError\u001b[0m: can only concatenate str (not \"int\") to str"
     ]
    }
   ],
   "source": [
    "'bon'+ 1"
   ]
  },
  {
   "cell_type": "code",
   "execution_count": 111,
   "id": "c9e6bf52",
   "metadata": {},
   "outputs": [
    {
     "data": {
      "text/plain": [
       "'bon1jour'"
      ]
     },
     "execution_count": 111,
     "metadata": {},
     "output_type": "execute_result"
    }
   ],
   "source": [
    "\"bon\" + str(1) + \"jour\""
   ]
  },
  {
   "cell_type": "code",
   "execution_count": 113,
   "id": "09396626",
   "metadata": {},
   "outputs": [
    {
     "name": "stdout",
     "output_type": "stream",
     "text": [
      "<class 'str'>\n"
     ]
    }
   ],
   "source": [
    "print(type(\"bonjour\"))"
   ]
  },
  {
   "cell_type": "code",
   "execution_count": 115,
   "id": "75bff563",
   "metadata": {
    "scrolled": true
   },
   "outputs": [
    {
     "data": {
      "text/plain": [
       "'2'"
      ]
     },
     "execution_count": 115,
     "metadata": {},
     "output_type": "execute_result"
    }
   ],
   "source": [
    "str(2)"
   ]
  },
  {
   "cell_type": "code",
   "execution_count": 132,
   "id": "9ed60593",
   "metadata": {},
   "outputs": [],
   "source": [
    "test = \"bonjour\""
   ]
  },
  {
   "cell_type": "code",
   "execution_count": 133,
   "id": "566b4d5e",
   "metadata": {},
   "outputs": [
    {
     "data": {
      "text/plain": [
       "'bonjoursalut'"
      ]
     },
     "execution_count": 133,
     "metadata": {},
     "output_type": "execute_result"
    }
   ],
   "source": [
    "test.__add__('salut')"
   ]
  },
  {
   "cell_type": "code",
   "execution_count": 134,
   "id": "47b4c13a",
   "metadata": {},
   "outputs": [
    {
     "data": {
      "text/plain": [
       "'bonjoursalut'"
      ]
     },
     "execution_count": 134,
     "metadata": {},
     "output_type": "execute_result"
    }
   ],
   "source": [
    "\"bonjour\".__add__('salut')"
   ]
  },
  {
   "cell_type": "markdown",
   "id": "a4b01399",
   "metadata": {},
   "source": [
    "# integers "
   ]
  },
  {
   "cell_type": "code",
   "execution_count": 116,
   "id": "02cdce52",
   "metadata": {},
   "outputs": [
    {
     "data": {
      "text/plain": [
       "(3, int)"
      ]
     },
     "execution_count": 116,
     "metadata": {},
     "output_type": "execute_result"
    }
   ],
   "source": [
    "3, type(3)"
   ]
  },
  {
   "cell_type": "code",
   "execution_count": 118,
   "id": "616d73a9",
   "metadata": {},
   "outputs": [
    {
     "data": {
      "text/plain": [
       "0"
      ]
     },
     "execution_count": 118,
     "metadata": {},
     "output_type": "execute_result"
    }
   ],
   "source": [
    "int()"
   ]
  },
  {
   "cell_type": "code",
   "execution_count": 122,
   "id": "140fa297",
   "metadata": {},
   "outputs": [
    {
     "data": {
      "text/plain": [
       "9"
      ]
     },
     "execution_count": 122,
     "metadata": {},
     "output_type": "execute_result"
    }
   ],
   "source": [
    "int(\"1001\", base=2)"
   ]
  },
  {
   "cell_type": "code",
   "execution_count": 123,
   "id": "76e84be9",
   "metadata": {},
   "outputs": [
    {
     "data": {
      "text/plain": [
       "34"
      ]
     },
     "execution_count": 123,
     "metadata": {},
     "output_type": "execute_result"
    }
   ],
   "source": [
    "int(\"34\")"
   ]
  },
  {
   "cell_type": "code",
   "execution_count": 124,
   "id": "b4f4d47f",
   "metadata": {},
   "outputs": [
    {
     "data": {
      "text/plain": [
       "6"
      ]
     },
     "execution_count": 124,
     "metadata": {},
     "output_type": "execute_result"
    }
   ],
   "source": [
    "3 + 3"
   ]
  },
  {
   "cell_type": "code",
   "execution_count": 126,
   "id": "01e2e2cf",
   "metadata": {},
   "outputs": [],
   "source": [
    "# magic methods <=> dunder methods => c'est les méthodes qui commencent par \"__\" et finissent par \"__\""
   ]
  },
  {
   "cell_type": "code",
   "execution_count": 127,
   "id": "1e1a9328",
   "metadata": {},
   "outputs": [],
   "source": [
    "a = 3"
   ]
  },
  {
   "cell_type": "code",
   "execution_count": 128,
   "id": "4253d5cf",
   "metadata": {},
   "outputs": [
    {
     "data": {
      "text/plain": [
       "7"
      ]
     },
     "execution_count": 128,
     "metadata": {},
     "output_type": "execute_result"
    }
   ],
   "source": [
    "a.__add__(4)"
   ]
  },
  {
   "cell_type": "code",
   "execution_count": 129,
   "id": "05891069",
   "metadata": {},
   "outputs": [
    {
     "data": {
      "text/plain": [
       "7"
      ]
     },
     "execution_count": 129,
     "metadata": {},
     "output_type": "execute_result"
    }
   ],
   "source": [
    "a + 4"
   ]
  },
  {
   "cell_type": "code",
   "execution_count": 130,
   "id": "afe83285",
   "metadata": {},
   "outputs": [
    {
     "data": {
      "text/plain": [
       "-1"
      ]
     },
     "execution_count": 130,
     "metadata": {},
     "output_type": "execute_result"
    }
   ],
   "source": [
    "a - 4\n",
    "a.__sub__(4)"
   ]
  },
  {
   "cell_type": "code",
   "execution_count": null,
   "id": "c766b63d",
   "metadata": {},
   "outputs": [],
   "source": [
    "a == 3 # a.__eq__(3)\n",
    "a != 3 # a.__ne__(3)\n",
    "a > 3 # a.__gt__(3)\n",
    "a < 3 # a.__lt__(3)\n",
    "a >= 3 # a.__ge__(3)"
   ]
  },
  {
   "cell_type": "code",
   "execution_count": 136,
   "id": "3ed5558f",
   "metadata": {},
   "outputs": [
    {
     "data": {
      "text/plain": [
       "0.75"
      ]
     },
     "execution_count": 136,
     "metadata": {},
     "output_type": "execute_result"
    }
   ],
   "source": [
    "a / 4"
   ]
  },
  {
   "cell_type": "code",
   "execution_count": 137,
   "id": "33c462f9",
   "metadata": {},
   "outputs": [
    {
     "data": {
      "text/plain": [
       "0"
      ]
     },
     "execution_count": 137,
     "metadata": {},
     "output_type": "execute_result"
    }
   ],
   "source": [
    "a // 4"
   ]
  },
  {
   "cell_type": "code",
   "execution_count": 138,
   "id": "646ccd42",
   "metadata": {},
   "outputs": [
    {
     "data": {
      "text/plain": [
       "3"
      ]
     },
     "execution_count": 138,
     "metadata": {},
     "output_type": "execute_result"
    }
   ],
   "source": [
    "a % 4"
   ]
  },
  {
   "cell_type": "code",
   "execution_count": 141,
   "id": "afa75b98",
   "metadata": {},
   "outputs": [
    {
     "data": {
      "text/plain": [
       "81"
      ]
     },
     "execution_count": 141,
     "metadata": {},
     "output_type": "execute_result"
    }
   ],
   "source": [
    "a ** 4\n"
   ]
  },
  {
   "cell_type": "code",
   "execution_count": 142,
   "id": "4cb7e7f3",
   "metadata": {},
   "outputs": [
    {
     "data": {
      "text/plain": [
       "12"
      ]
     },
     "execution_count": 142,
     "metadata": {},
     "output_type": "execute_result"
    }
   ],
   "source": [
    "a * 4"
   ]
  },
  {
   "cell_type": "markdown",
   "id": "245b70a0",
   "metadata": {},
   "source": [
    "# list"
   ]
  },
  {
   "cell_type": "code",
   "execution_count": 166,
   "id": "940d40b1",
   "metadata": {},
   "outputs": [],
   "source": [
    "uneliste = []\n",
    "# uneliste = list()"
   ]
  },
  {
   "cell_type": "code",
   "execution_count": 167,
   "id": "c9cb4e6f",
   "metadata": {},
   "outputs": [
    {
     "data": {
      "text/plain": [
       "(4457654528, list, [])"
      ]
     },
     "execution_count": 167,
     "metadata": {},
     "output_type": "execute_result"
    }
   ],
   "source": [
    "id(uneliste), type(uneliste), uneliste"
   ]
  },
  {
   "cell_type": "code",
   "execution_count": 168,
   "id": "cf299bc5",
   "metadata": {},
   "outputs": [],
   "source": [
    "# on peut itérer sur une liste\n",
    "# une liste peut contenir des éléments de types différents"
   ]
  },
  {
   "cell_type": "code",
   "execution_count": 188,
   "id": "f4414b2e",
   "metadata": {},
   "outputs": [],
   "source": [
    "uneliste = [\"bonjour\", 1, \"salut\", 3]"
   ]
  },
  {
   "cell_type": "code",
   "execution_count": 190,
   "id": "2d6e8399",
   "metadata": {},
   "outputs": [],
   "source": [
    "# ajoute un élément en fin de liste\n",
    "uneliste.append(\"bonjour\")"
   ]
  },
  {
   "cell_type": "markdown",
   "id": "271be01f",
   "metadata": {},
   "source": [
    "# Python est 0 -indexed "
   ]
  },
  {
   "cell_type": "markdown",
   "id": "d2efee6c",
   "metadata": {},
   "source": [
    "# indexation de liste"
   ]
  },
  {
   "cell_type": "code",
   "execution_count": 195,
   "id": "eecdd6d1",
   "metadata": {},
   "outputs": [
    {
     "data": {
      "text/plain": [
       "'bonjour'"
      ]
     },
     "execution_count": 195,
     "metadata": {},
     "output_type": "execute_result"
    }
   ],
   "source": [
    "uneliste[0]"
   ]
  },
  {
   "cell_type": "code",
   "execution_count": 196,
   "id": "dbda5910",
   "metadata": {},
   "outputs": [
    {
     "data": {
      "text/plain": [
       "1"
      ]
     },
     "execution_count": 196,
     "metadata": {},
     "output_type": "execute_result"
    }
   ],
   "source": [
    "uneliste[1]"
   ]
  },
  {
   "cell_type": "code",
   "execution_count": 197,
   "id": "be318485",
   "metadata": {},
   "outputs": [
    {
     "data": {
      "text/plain": [
       "3"
      ]
     },
     "execution_count": 197,
     "metadata": {},
     "output_type": "execute_result"
    }
   ],
   "source": [
    "uneliste[3]"
   ]
  },
  {
   "cell_type": "code",
   "execution_count": 199,
   "id": "445e3459",
   "metadata": {},
   "outputs": [
    {
     "ename": "IndexError",
     "evalue": "list index out of range",
     "output_type": "error",
     "traceback": [
      "\u001b[0;31m---------------------------------------------------------------------------\u001b[0m",
      "\u001b[0;31mIndexError\u001b[0m                                Traceback (most recent call last)",
      "\u001b[0;32m<ipython-input-199-ff9468581498>\u001b[0m in \u001b[0;36m<module>\u001b[0;34m\u001b[0m\n\u001b[0;32m----> 1\u001b[0;31m \u001b[0muneliste\u001b[0m\u001b[0;34m[\u001b[0m\u001b[0;36m5\u001b[0m\u001b[0;34m]\u001b[0m\u001b[0;34m\u001b[0m\u001b[0;34m\u001b[0m\u001b[0m\n\u001b[0m",
      "\u001b[0;31mIndexError\u001b[0m: list index out of range"
     ]
    }
   ],
   "source": [
    "uneliste[5]"
   ]
  },
  {
   "cell_type": "code",
   "execution_count": 201,
   "id": "0a408fac",
   "metadata": {},
   "outputs": [
    {
     "data": {
      "text/plain": [
       "['bonjour', 1, 'salut', 3, 'bonjour']"
      ]
     },
     "execution_count": 201,
     "metadata": {},
     "output_type": "execute_result"
    }
   ],
   "source": [
    "uneliste"
   ]
  },
  {
   "cell_type": "code",
   "execution_count": 202,
   "id": "fd362d24",
   "metadata": {},
   "outputs": [
    {
     "data": {
      "text/plain": [
       "'bonjour'"
      ]
     },
     "execution_count": 202,
     "metadata": {},
     "output_type": "execute_result"
    }
   ],
   "source": [
    "uneliste[-1]"
   ]
  },
  {
   "cell_type": "code",
   "execution_count": 205,
   "id": "38988555",
   "metadata": {},
   "outputs": [
    {
     "data": {
      "text/plain": [
       "'salut'"
      ]
     },
     "execution_count": 205,
     "metadata": {},
     "output_type": "execute_result"
    }
   ],
   "source": [
    "uneliste[-3]"
   ]
  },
  {
   "cell_type": "code",
   "execution_count": 210,
   "id": "e6a3e843",
   "metadata": {},
   "outputs": [],
   "source": [
    "uneliste[-1]  = \"au revoir\" # maliste.__setitem__(key, val)"
   ]
  },
  {
   "cell_type": "code",
   "execution_count": 212,
   "id": "f9f7f347",
   "metadata": {},
   "outputs": [],
   "source": [
    "uneliste.__setitem__(1, \"test\")"
   ]
  },
  {
   "cell_type": "markdown",
   "id": "da538a2e",
   "metadata": {},
   "source": [
    "# slicing de liste (ou itérable)"
   ]
  },
  {
   "cell_type": "markdown",
   "id": "fbd5c38f",
   "metadata": {},
   "source": [
    "#### uneliste[start:end(exclu):step]"
   ]
  },
  {
   "cell_type": "code",
   "execution_count": 218,
   "id": "aee235b9",
   "metadata": {},
   "outputs": [
    {
     "data": {
      "text/plain": [
       "['bonjour', 'test', 'salut', 3, 'au revoir']"
      ]
     },
     "execution_count": 218,
     "metadata": {},
     "output_type": "execute_result"
    }
   ],
   "source": [
    "uneliste"
   ]
  },
  {
   "cell_type": "code",
   "execution_count": 219,
   "id": "c69ebe8d",
   "metadata": {},
   "outputs": [
    {
     "data": {
      "text/plain": [
       "['bonjour', 'test', 'salut']"
      ]
     },
     "execution_count": 219,
     "metadata": {},
     "output_type": "execute_result"
    }
   ],
   "source": [
    "uneliste[0:3]"
   ]
  },
  {
   "cell_type": "code",
   "execution_count": 217,
   "id": "785cfd03",
   "metadata": {},
   "outputs": [
    {
     "data": {
      "text/plain": [
       "['bonjour', 'salut']"
      ]
     },
     "execution_count": 217,
     "metadata": {},
     "output_type": "execute_result"
    }
   ],
   "source": [
    "uneliste[0:3:2]"
   ]
  },
  {
   "cell_type": "markdown",
   "id": "2bdbb29b",
   "metadata": {},
   "source": [
    "uneliste[0:10000:2] # me ressort pas d'erreur"
   ]
  },
  {
   "cell_type": "code",
   "execution_count": 224,
   "id": "7cc0a8ec",
   "metadata": {},
   "outputs": [
    {
     "data": {
      "text/plain": [
       "['bonjour', 'test']"
      ]
     },
     "execution_count": 224,
     "metadata": {},
     "output_type": "execute_result"
    }
   ],
   "source": [
    "uneliste[:2]"
   ]
  },
  {
   "cell_type": "code",
   "execution_count": 225,
   "id": "ebd34e17",
   "metadata": {},
   "outputs": [
    {
     "data": {
      "text/plain": [
       "['salut', 3, 'au revoir']"
      ]
     },
     "execution_count": 225,
     "metadata": {},
     "output_type": "execute_result"
    }
   ],
   "source": [
    "uneliste[2:]"
   ]
  },
  {
   "cell_type": "code",
   "execution_count": 228,
   "id": "ebd3960b",
   "metadata": {},
   "outputs": [
    {
     "data": {
      "text/plain": [
       "['bonjour', 'salut', 'au revoir']"
      ]
     },
     "execution_count": 228,
     "metadata": {},
     "output_type": "execute_result"
    }
   ],
   "source": [
    "uneliste[::2]"
   ]
  },
  {
   "cell_type": "code",
   "execution_count": 231,
   "id": "3e10c16b",
   "metadata": {},
   "outputs": [
    {
     "data": {
      "text/plain": [
       "['bonjour', 'test', 'salut', 3, 'au revoir']"
      ]
     },
     "execution_count": 231,
     "metadata": {},
     "output_type": "execute_result"
    }
   ],
   "source": [
    "uneliste[::]"
   ]
  },
  {
   "cell_type": "markdown",
   "id": "059cb36d",
   "metadata": {},
   "source": [
    "## Immutabilité vs Mutabilité"
   ]
  },
  {
   "cell_type": "code",
   "execution_count": 232,
   "id": "022ee1ff",
   "metadata": {
    "scrolled": true
   },
   "outputs": [
    {
     "data": {
      "text/plain": [
       "4329151072"
      ]
     },
     "execution_count": 232,
     "metadata": {},
     "output_type": "execute_result"
    }
   ],
   "source": [
    "a = 3\n",
    "id(a)"
   ]
  },
  {
   "cell_type": "code",
   "execution_count": 233,
   "id": "36b067a3",
   "metadata": {},
   "outputs": [],
   "source": [
    "a = a + 1"
   ]
  },
  {
   "cell_type": "code",
   "execution_count": 234,
   "id": "c7e6e9b1",
   "metadata": {},
   "outputs": [
    {
     "data": {
      "text/plain": [
       "4329151104"
      ]
     },
     "execution_count": 234,
     "metadata": {},
     "output_type": "execute_result"
    }
   ],
   "source": [
    "id(a)"
   ]
  },
  {
   "cell_type": "code",
   "execution_count": 244,
   "id": "6b0ffeff",
   "metadata": {},
   "outputs": [],
   "source": [
    "a = \"bonjour\""
   ]
  },
  {
   "cell_type": "code",
   "execution_count": 245,
   "id": "98112f4d",
   "metadata": {},
   "outputs": [],
   "source": [
    "b = a"
   ]
  },
  {
   "cell_type": "code",
   "execution_count": 246,
   "id": "79a05426",
   "metadata": {},
   "outputs": [
    {
     "data": {
      "text/plain": [
       "4448998064"
      ]
     },
     "execution_count": 246,
     "metadata": {},
     "output_type": "execute_result"
    }
   ],
   "source": [
    "id(a)"
   ]
  },
  {
   "cell_type": "code",
   "execution_count": 247,
   "id": "d7599cf7",
   "metadata": {},
   "outputs": [],
   "source": [
    "a = a + \"salut\""
   ]
  },
  {
   "cell_type": "code",
   "execution_count": 248,
   "id": "315b108a",
   "metadata": {},
   "outputs": [
    {
     "data": {
      "text/plain": [
       "4458415728"
      ]
     },
     "execution_count": 248,
     "metadata": {},
     "output_type": "execute_result"
    }
   ],
   "source": [
    "id(a)"
   ]
  },
  {
   "cell_type": "code",
   "execution_count": 249,
   "id": "f0cd68c7",
   "metadata": {},
   "outputs": [
    {
     "data": {
      "text/plain": [
       "4448998064"
      ]
     },
     "execution_count": 249,
     "metadata": {},
     "output_type": "execute_result"
    }
   ],
   "source": [
    "id(b)"
   ]
  },
  {
   "cell_type": "markdown",
   "id": "7dac5d51",
   "metadata": {},
   "source": [
    "les strings et les ints sont des immutables !\n",
    "il est impossible de modifier un string ou un int\n",
    "sans en créer un nouvel objet !\n",
    "en utilisant simplement le built-in donné par python"
   ]
  },
  {
   "cell_type": "code",
   "execution_count": 257,
   "id": "c0063e87",
   "metadata": {},
   "outputs": [],
   "source": [
    "liste1 = [1,2,3]"
   ]
  },
  {
   "cell_type": "code",
   "execution_count": 258,
   "id": "e59c4d64",
   "metadata": {},
   "outputs": [],
   "source": [
    "liste2 = liste1.copy()"
   ]
  },
  {
   "cell_type": "code",
   "execution_count": 259,
   "id": "9bbfdff7",
   "metadata": {},
   "outputs": [
    {
     "data": {
      "text/plain": [
       "(4452801408, 4456147456)"
      ]
     },
     "execution_count": 259,
     "metadata": {},
     "output_type": "execute_result"
    }
   ],
   "source": [
    "id(liste1), id(liste2)"
   ]
  },
  {
   "cell_type": "code",
   "execution_count": 260,
   "id": "cbf05014",
   "metadata": {},
   "outputs": [],
   "source": [
    "liste1.append(3)"
   ]
  },
  {
   "cell_type": "code",
   "execution_count": 261,
   "id": "273cdfb9",
   "metadata": {},
   "outputs": [
    {
     "data": {
      "text/plain": [
       "4452801408"
      ]
     },
     "execution_count": 261,
     "metadata": {},
     "output_type": "execute_result"
    }
   ],
   "source": [
    "id(liste1)"
   ]
  },
  {
   "cell_type": "code",
   "execution_count": 262,
   "id": "7faad613",
   "metadata": {},
   "outputs": [
    {
     "data": {
      "text/plain": [
       "[1, 2, 3, 3]"
      ]
     },
     "execution_count": 262,
     "metadata": {},
     "output_type": "execute_result"
    }
   ],
   "source": [
    "liste1"
   ]
  },
  {
   "cell_type": "code",
   "execution_count": 263,
   "id": "58fe9ec8",
   "metadata": {
    "scrolled": false
   },
   "outputs": [
    {
     "data": {
      "text/plain": [
       "[1, 2, 3]"
      ]
     },
     "execution_count": 263,
     "metadata": {},
     "output_type": "execute_result"
    }
   ],
   "source": [
    "liste2"
   ]
  },
  {
   "cell_type": "markdown",
   "id": "54640ecf",
   "metadata": {},
   "source": [
    "une liste est modifiable in -situ sans en modifier son id / son emplacement mémoire\n",
    "donc une liste est un mutable"
   ]
  },
  {
   "cell_type": "markdown",
   "id": "4970b1a1",
   "metadata": {},
   "source": [
    "# checker si un élement se trouve dans la liste"
   ]
  },
  {
   "cell_type": "code",
   "execution_count": 264,
   "id": "fb6c2f3b",
   "metadata": {},
   "outputs": [
    {
     "data": {
      "text/plain": [
       "True"
      ]
     },
     "execution_count": 264,
     "metadata": {},
     "output_type": "execute_result"
    }
   ],
   "source": [
    "2 in liste2 # liste2.__"
   ]
  },
  {
   "cell_type": "code",
   "execution_count": 265,
   "id": "0c43055f",
   "metadata": {},
   "outputs": [
    {
     "data": {
      "text/plain": [
       "False"
      ]
     },
     "execution_count": 265,
     "metadata": {},
     "output_type": "execute_result"
    }
   ],
   "source": [
    "1 not in liste2"
   ]
  },
  {
   "cell_type": "code",
   "execution_count": 272,
   "id": "d24b0535",
   "metadata": {
    "scrolled": true
   },
   "outputs": [
    {
     "data": {
      "text/plain": [
       "False"
      ]
     },
     "execution_count": 272,
     "metadata": {},
     "output_type": "execute_result"
    }
   ],
   "source": [
    "\"bonjour\" in liste2"
   ]
  },
  {
   "cell_type": "code",
   "execution_count": 273,
   "id": "b3bf0448",
   "metadata": {},
   "outputs": [
    {
     "name": "stdout",
     "output_type": "stream",
     "text": [
      "4456147456\n",
      "4456147456\n"
     ]
    }
   ],
   "source": [
    "print(id(liste2))\n",
    "liste2[2] = \"test\"\n",
    "print(id(liste2))"
   ]
  },
  {
   "cell_type": "code",
   "execution_count": 320,
   "id": "4935f832",
   "metadata": {},
   "outputs": [],
   "source": [
    "liste1 = [1,a,3]"
   ]
  },
  {
   "cell_type": "code",
   "execution_count": 322,
   "id": "1fe77ced",
   "metadata": {},
   "outputs": [],
   "source": [
    "liste1 = [1, \"chaine\", [1, 2,     [1,2] ] ]"
   ]
  },
  {
   "cell_type": "code",
   "execution_count": 331,
   "id": "981fcbef",
   "metadata": {},
   "outputs": [
    {
     "data": {
      "text/plain": [
       "1"
      ]
     },
     "execution_count": 331,
     "metadata": {},
     "output_type": "execute_result"
    }
   ],
   "source": [
    "liste1[2][2][0]"
   ]
  },
  {
   "cell_type": "code",
   "execution_count": 334,
   "id": "c1d4133f",
   "metadata": {},
   "outputs": [],
   "source": [
    "uneliste = [1,2,2,1,8,1]"
   ]
  },
  {
   "cell_type": "code",
   "execution_count": 335,
   "id": "5ac33952",
   "metadata": {},
   "outputs": [],
   "source": [
    "uneliste.sort()"
   ]
  },
  {
   "cell_type": "code",
   "execution_count": 336,
   "id": "c2c4811c",
   "metadata": {},
   "outputs": [
    {
     "data": {
      "text/plain": [
       "[1, 1, 1, 2, 2, 8]"
      ]
     },
     "execution_count": 336,
     "metadata": {},
     "output_type": "execute_result"
    }
   ],
   "source": [
    "uneliste"
   ]
  },
  {
   "cell_type": "code",
   "execution_count": 337,
   "id": "c0bc75b3",
   "metadata": {},
   "outputs": [
    {
     "data": {
      "text/plain": [
       "6"
      ]
     },
     "execution_count": 337,
     "metadata": {},
     "output_type": "execute_result"
    }
   ],
   "source": [
    "len(uneliste) # uneliste.__len__()"
   ]
  },
  {
   "cell_type": "markdown",
   "id": "028b5ed9",
   "metadata": {},
   "source": [
    "# tuples"
   ]
  },
  {
   "cell_type": "markdown",
   "id": "283cc7c5",
   "metadata": {},
   "source": [
    "le tuple est le \"pendant\" immutable de la liste\n",
    "je peux pas modifier un tuple localement\n",
    "le \"modifier\" c'est en créer un nouveau"
   ]
  },
  {
   "cell_type": "code",
   "execution_count": 280,
   "id": "a965bc96",
   "metadata": {},
   "outputs": [],
   "source": [
    "untuple = (1, 2, \"bonjour\")\n",
    "#untuple = tuple()"
   ]
  },
  {
   "cell_type": "code",
   "execution_count": 284,
   "id": "81db0e32",
   "metadata": {
    "scrolled": true
   },
   "outputs": [
    {
     "ename": "TypeError",
     "evalue": "'tuple' object does not support item assignment",
     "output_type": "error",
     "traceback": [
      "\u001b[0;31m---------------------------------------------------------------------------\u001b[0m",
      "\u001b[0;31mTypeError\u001b[0m                                 Traceback (most recent call last)",
      "\u001b[0;32m<ipython-input-284-753561e0dadf>\u001b[0m in \u001b[0;36m<module>\u001b[0;34m\u001b[0m\n\u001b[0;32m----> 1\u001b[0;31m \u001b[0muntuple\u001b[0m\u001b[0;34m[\u001b[0m\u001b[0;36m1\u001b[0m\u001b[0;34m]\u001b[0m \u001b[0;34m=\u001b[0m \u001b[0;34m\"salut\"\u001b[0m\u001b[0;34m\u001b[0m\u001b[0;34m\u001b[0m\u001b[0m\n\u001b[0m",
      "\u001b[0;31mTypeError\u001b[0m: 'tuple' object does not support item assignment"
     ]
    }
   ],
   "source": [
    "untuple[1] = \"salut\" # immutable"
   ]
  },
  {
   "cell_type": "code",
   "execution_count": 290,
   "id": "70495ba5",
   "metadata": {},
   "outputs": [
    {
     "data": {
      "text/plain": [
       "(1, 2, 'bonjour', 1, 2, 'bonjour')"
      ]
     },
     "execution_count": 290,
     "metadata": {},
     "output_type": "execute_result"
    }
   ],
   "source": [
    "untuple  + untuple"
   ]
  },
  {
   "cell_type": "markdown",
   "id": "5746fb86",
   "metadata": {},
   "source": [
    "# sets "
   ]
  },
  {
   "cell_type": "code",
   "execution_count": 343,
   "id": "bdc9ad7b",
   "metadata": {},
   "outputs": [],
   "source": [
    "unset = {}"
   ]
  },
  {
   "cell_type": "code",
   "execution_count": 344,
   "id": "5764c039",
   "metadata": {},
   "outputs": [],
   "source": [
    "unset = set()"
   ]
  },
  {
   "cell_type": "code",
   "execution_count": 345,
   "id": "4c5731e6",
   "metadata": {},
   "outputs": [
    {
     "data": {
      "text/plain": [
       "set"
      ]
     },
     "execution_count": 345,
     "metadata": {},
     "output_type": "execute_result"
    }
   ],
   "source": [
    "type(unset)"
   ]
  },
  {
   "cell_type": "code",
   "execution_count": 349,
   "id": "600d6341",
   "metadata": {},
   "outputs": [],
   "source": [
    "unset = {1,2,\"element\", 3, 3,4, 4, 1}"
   ]
  },
  {
   "cell_type": "code",
   "execution_count": 356,
   "id": "4c2bc53e",
   "metadata": {},
   "outputs": [],
   "source": [
    "unautreset = {2, 3, 1, 5}"
   ]
  },
  {
   "cell_type": "markdown",
   "id": "ce83b76f",
   "metadata": {},
   "source": [
    "* union\n",
    "\n"
   ]
  },
  {
   "cell_type": "code",
   "execution_count": 353,
   "id": "adc8b407",
   "metadata": {},
   "outputs": [],
   "source": [
    "resultat_set = unset | unautreset"
   ]
  },
  {
   "cell_type": "code",
   "execution_count": 354,
   "id": "7c3e37ff",
   "metadata": {},
   "outputs": [
    {
     "data": {
      "text/plain": [
       "{1, 2, 3, 4, 'element'}"
      ]
     },
     "execution_count": 354,
     "metadata": {},
     "output_type": "execute_result"
    }
   ],
   "source": [
    "resultat_set"
   ]
  },
  {
   "cell_type": "markdown",
   "id": "928ba3cb",
   "metadata": {},
   "source": [
    "* intersection\n"
   ]
  },
  {
   "cell_type": "code",
   "execution_count": 357,
   "id": "be30a99a",
   "metadata": {},
   "outputs": [
    {
     "data": {
      "text/plain": [
       "{1, 2, 3}"
      ]
     },
     "execution_count": 357,
     "metadata": {},
     "output_type": "execute_result"
    }
   ],
   "source": [
    "unset & unautreset"
   ]
  },
  {
   "cell_type": "markdown",
   "id": "69402a0a",
   "metadata": {},
   "source": [
    "* différence symmétrique\n"
   ]
  },
  {
   "cell_type": "code",
   "execution_count": 358,
   "id": "90c7bd4f",
   "metadata": {},
   "outputs": [
    {
     "data": {
      "text/plain": [
       "{4, 5, 'element'}"
      ]
     },
     "execution_count": 358,
     "metadata": {},
     "output_type": "execute_result"
    }
   ],
   "source": [
    "unset ^ unautreset"
   ]
  },
  {
   "cell_type": "markdown",
   "id": "8a276822",
   "metadata": {},
   "source": [
    "* différence unilatérale"
   ]
  },
  {
   "cell_type": "code",
   "execution_count": 359,
   "id": "8804a0e3",
   "metadata": {},
   "outputs": [
    {
     "data": {
      "text/plain": [
       "{4, 'element'}"
      ]
     },
     "execution_count": 359,
     "metadata": {},
     "output_type": "execute_result"
    }
   ],
   "source": [
    "unset - unautreset"
   ]
  },
  {
   "cell_type": "code",
   "execution_count": 362,
   "id": "b11043d3",
   "metadata": {},
   "outputs": [],
   "source": [
    "bce_demande = [\"CN0810\", \"CN020\", \"CN0830\", \"CN0840\"]\n",
    "bcl_demande = [\"CL000\"]\n",
    "implemente = [\"CN0810\", \"CL000\", \"CN020\"]"
   ]
  },
  {
   "cell_type": "code",
   "execution_count": 366,
   "id": "3b087466",
   "metadata": {},
   "outputs": [
    {
     "data": {
      "text/plain": [
       "{'CL000'}"
      ]
     },
     "execution_count": 366,
     "metadata": {},
     "output_type": "execute_result"
    }
   ],
   "source": [
    "set(implemente) - set(bce_demande)"
   ]
  },
  {
   "cell_type": "markdown",
   "id": "3b182492",
   "metadata": {},
   "source": [
    "# dict"
   ]
  },
  {
   "cell_type": "markdown",
   "id": "aec03e91",
   "metadata": {},
   "source": [
    "ensemble /collection d'items:\n",
    "\n",
    "chaque item est une pair cle:valeur"
   ]
  },
  {
   "cell_type": "markdown",
   "id": "b8806b09",
   "metadata": {},
   "source": [
    "les clés n'apparaissent qu'une fois !"
   ]
  },
  {
   "cell_type": "code",
   "execution_count": 382,
   "id": "c72b150c",
   "metadata": {},
   "outputs": [],
   "source": [
    "dico = {\n",
    "    2:3,\n",
    "    5:4,\n",
    "    'bonjour': 10,\n",
    "    2:10\n",
    "}"
   ]
  },
  {
   "cell_type": "code",
   "execution_count": 378,
   "id": "673cca82",
   "metadata": {},
   "outputs": [
    {
     "data": {
      "text/plain": [
       "dict"
      ]
     },
     "execution_count": 378,
     "metadata": {},
     "output_type": "execute_result"
    }
   ],
   "source": [
    "type(dico)"
   ]
  },
  {
   "cell_type": "code",
   "execution_count": 379,
   "id": "80adf5aa",
   "metadata": {},
   "outputs": [
    {
     "data": {
      "text/plain": [
       "{}"
      ]
     },
     "execution_count": 379,
     "metadata": {},
     "output_type": "execute_result"
    }
   ],
   "source": [
    "dict()"
   ]
  },
  {
   "cell_type": "code",
   "execution_count": 383,
   "id": "244534ee",
   "metadata": {},
   "outputs": [
    {
     "data": {
      "text/plain": [
       "{2: 10, 5: 4, 'bonjour': 10}"
      ]
     },
     "execution_count": 383,
     "metadata": {},
     "output_type": "execute_result"
    }
   ],
   "source": [
    "dico"
   ]
  },
  {
   "cell_type": "code",
   "execution_count": 381,
   "id": "fca8c5eb",
   "metadata": {},
   "outputs": [
    {
     "data": {
      "text/plain": [
       "3"
      ]
     },
     "execution_count": 381,
     "metadata": {},
     "output_type": "execute_result"
    }
   ],
   "source": [
    "dico[2]"
   ]
  },
  {
   "cell_type": "markdown",
   "id": "f5290fd4",
   "metadata": {},
   "source": [
    "Operations associated with this data type allow to:\n",
    "\n",
    "1. add a pair to the collection;\n",
    "2. remove a pair from the collection;\n",
    "3. modify an existing pair;\n",
    "4. lookup a value associated with a particular key.\n"
   ]
  },
  {
   "cell_type": "markdown",
   "id": "89263b41",
   "metadata": {},
   "source": [
    "1."
   ]
  },
  {
   "cell_type": "code",
   "execution_count": 385,
   "id": "c3b226d4",
   "metadata": {},
   "outputs": [],
   "source": [
    "dico[\"nomdecle\"] = \"valeur\""
   ]
  },
  {
   "cell_type": "code",
   "execution_count": 387,
   "id": "6a026954",
   "metadata": {},
   "outputs": [],
   "source": [
    "dico[52] = \"salut\""
   ]
  },
  {
   "cell_type": "markdown",
   "id": "2a747b46",
   "metadata": {},
   "source": [
    "2."
   ]
  },
  {
   "cell_type": "code",
   "execution_count": 389,
   "id": "adeece40",
   "metadata": {},
   "outputs": [],
   "source": [
    "del dico[52]"
   ]
  },
  {
   "cell_type": "code",
   "execution_count": 390,
   "id": "494ec776",
   "metadata": {},
   "outputs": [
    {
     "data": {
      "text/plain": [
       "{2: 10, 5: 4, 'bonjour': 10, 'nomdecle': 'valeur'}"
      ]
     },
     "execution_count": 390,
     "metadata": {},
     "output_type": "execute_result"
    }
   ],
   "source": [
    "dico"
   ]
  },
  {
   "cell_type": "markdown",
   "id": "47993566",
   "metadata": {},
   "source": [
    "3."
   ]
  },
  {
   "cell_type": "code",
   "execution_count": 392,
   "id": "999f6d97",
   "metadata": {},
   "outputs": [],
   "source": [
    "dico[\"nomdecle\"] = 100"
   ]
  },
  {
   "cell_type": "code",
   "execution_count": 393,
   "id": "1d2a25a7",
   "metadata": {},
   "outputs": [
    {
     "data": {
      "text/plain": [
       "{2: 10, 5: 4, 'bonjour': 10, 'nomdecle': 100}"
      ]
     },
     "execution_count": 393,
     "metadata": {},
     "output_type": "execute_result"
    }
   ],
   "source": [
    "dico"
   ]
  },
  {
   "cell_type": "markdown",
   "id": "91349f88",
   "metadata": {},
   "source": [
    "4."
   ]
  },
  {
   "cell_type": "code",
   "execution_count": 394,
   "id": "1ee65676",
   "metadata": {},
   "outputs": [
    {
     "data": {
      "text/plain": [
       "100"
      ]
     },
     "execution_count": 394,
     "metadata": {},
     "output_type": "execute_result"
    }
   ],
   "source": [
    "dico[\"nomdecle\"]"
   ]
  },
  {
   "cell_type": "code",
   "execution_count": 397,
   "id": "c2ddf1f0",
   "metadata": {},
   "outputs": [
    {
     "data": {
      "text/plain": [
       "True"
      ]
     },
     "execution_count": 397,
     "metadata": {},
     "output_type": "execute_result"
    }
   ],
   "source": [
    "\"nomdecle\" in dico\n",
    "100 in dico.values()"
   ]
  },
  {
   "cell_type": "markdown",
   "id": "b5f052d1",
   "metadata": {},
   "source": [
    "5 in [1,2,3,4,5]\n"
   ]
  },
  {
   "cell_type": "markdown",
   "id": "5956a9a0",
   "metadata": {},
   "source": [
    "5 in (clé du) dico"
   ]
  },
  {
   "cell_type": "markdown",
   "id": "9c1e972e",
   "metadata": {},
   "source": [
    "5 -> hash(5) (nombre entier)-> savoir la local en mémoire\n",
    "de la pair cle:valeur dans le dico"
   ]
  },
  {
   "cell_type": "markdown",
   "id": "ca7ad40b",
   "metadata": {},
   "source": [
    "# Loops"
   ]
  },
  {
   "cell_type": "code",
   "execution_count": 403,
   "id": "3c105d41",
   "metadata": {},
   "outputs": [
    {
     "name": "stdout",
     "output_type": "stream",
     "text": [
      "1\n",
      "2\n",
      "salut\n",
      "test\n"
     ]
    }
   ],
   "source": [
    "uneliste = [1,2,\"salut\", \"test\"]\n",
    "for element in uneliste:\n",
    "    print( element )\n",
    "    #print( type(element))"
   ]
  },
  {
   "cell_type": "markdown",
   "id": "21d3660c",
   "metadata": {},
   "source": [
    "### sur toute structure qui implémente une dunder / magic method: `__iter__` "
   ]
  },
  {
   "cell_type": "code",
   "execution_count": 454,
   "id": "6271b43b",
   "metadata": {},
   "outputs": [],
   "source": [
    "lettres = \"bonjour\""
   ]
  },
  {
   "cell_type": "code",
   "execution_count": 456,
   "id": "c80ea25d",
   "metadata": {},
   "outputs": [
    {
     "name": "stdout",
     "output_type": "stream",
     "text": [
      "bbbbb\n",
      "ooooo\n",
      "nnnnn\n",
      "jjjjj\n",
      "ooooo\n",
      "uuuuu\n",
      "rrrrr\n"
     ]
    }
   ],
   "source": [
    "for char in lettres:\n",
    "    print( char*5 )"
   ]
  },
  {
   "cell_type": "markdown",
   "id": "563df99b",
   "metadata": {},
   "source": [
    "## Exercice"
   ]
  },
  {
   "cell_type": "markdown",
   "id": "51fc2835",
   "metadata": {},
   "source": [
    "- je veux récupérer un nouveau dico \n",
    "    - contenant uniquement les personnes:num_de_telephone\n",
    "    - pour les personnes qui commencent par la lettre J \n",
    "    - qu'importe si minuscule ou majuscule"
   ]
  },
  {
   "cell_type": "code",
   "execution_count": 402,
   "id": "a1ef38bb",
   "metadata": {},
   "outputs": [],
   "source": [
    "contacts = {\n",
    "    \"Julie\": \"+3567237878392\",\n",
    "    \"Seb\": \"+26378627839723\",\n",
    "    \"Vincent\": \"+26387263982\",\n",
    "    \"julien\": \"7632762378667283\",\n",
    "    \"Violette\": \"+2878237923\",\n",
    "}"
   ]
  },
  {
   "cell_type": "markdown",
   "id": "66c59d9c",
   "metadata": {},
   "source": [
    "## iterable unpacking"
   ]
  },
  {
   "cell_type": "code",
   "execution_count": 421,
   "id": "d02970b5",
   "metadata": {},
   "outputs": [],
   "source": [
    "a,b = [1,2]"
   ]
  },
  {
   "cell_type": "markdown",
   "id": "e3906003",
   "metadata": {},
   "source": [
    "## extended iterable unpacking"
   ]
  },
  {
   "cell_type": "code",
   "execution_count": 424,
   "id": "b5320484",
   "metadata": {},
   "outputs": [],
   "source": [
    "a, *b, c, d = [1, 2, 3, 4, 5, 6, 7]"
   ]
  },
  {
   "cell_type": "code",
   "execution_count": 419,
   "id": "2847c59c",
   "metadata": {},
   "outputs": [
    {
     "data": {
      "text/plain": [
       "{'Julie': '+3567237878392', 'julien': '7632762378667283'}"
      ]
     },
     "execution_count": 419,
     "metadata": {},
     "output_type": "execute_result"
    }
   ],
   "source": [
    "dico = dict()\n",
    "for name, phone in contacts.items():\n",
    "    if name.upper().startswith(\"J\"):\n",
    "        dico[ name ] = phone\n",
    "\n",
    "dico"
   ]
  },
  {
   "cell_type": "markdown",
   "id": "82ca0c27",
   "metadata": {},
   "source": [
    "# 2 formulations pythonesque"
   ]
  },
  {
   "cell_type": "markdown",
   "id": "d58ed52a",
   "metadata": {},
   "source": [
    "## List comprehension"
   ]
  },
  {
   "cell_type": "code",
   "execution_count": 443,
   "id": "d0f3d07d",
   "metadata": {},
   "outputs": [
    {
     "data": {
      "text/plain": [
       "[2, 4, 6, 8, 'salutcestunstring', 'bonjourcestunstring']"
      ]
     },
     "execution_count": 443,
     "metadata": {},
     "output_type": "execute_result"
    }
   ],
   "source": [
    "liste = [1,2,3,4, \"salut\", \"bonjour\"]\n",
    "nouvelle_liste = []\n",
    "\n",
    "for element in liste:\n",
    "    if type(element) != str:\n",
    "        nouvelle_liste.append( element * 2)\n",
    "    else:\n",
    "        nouvelle_liste.append( element + \"cestunstring\")\n",
    "\n",
    "nouvelle_liste"
   ]
  },
  {
   "cell_type": "markdown",
   "id": "c6bc4f69",
   "metadata": {},
   "source": [
    "[  cequejeveux  for cequejai in iterable  (if pour filtration)]"
   ]
  },
  {
   "cell_type": "code",
   "execution_count": 439,
   "id": "8964305d",
   "metadata": {},
   "outputs": [
    {
     "data": {
      "text/plain": [
       "[2, 4, 6, 8]"
      ]
     },
     "execution_count": 439,
     "metadata": {},
     "output_type": "execute_result"
    }
   ],
   "source": [
    "[ element*2 for element in liste if type(element)!=str]"
   ]
  },
  {
   "cell_type": "code",
   "execution_count": 445,
   "id": "333bf158",
   "metadata": {},
   "outputs": [
    {
     "data": {
      "text/plain": [
       "[2, 4, 6, 8, 'salutcestunstring', 'bonjourcestunstring']"
      ]
     },
     "execution_count": 445,
     "metadata": {},
     "output_type": "execute_result"
    }
   ],
   "source": [
    "[ element*2 if type(element)!=str else element + \"cestunstring\" for element in liste]"
   ]
  },
  {
   "cell_type": "markdown",
   "id": "f34aff6a",
   "metadata": {},
   "source": [
    "## Dict comprehension"
   ]
  },
  {
   "cell_type": "code",
   "execution_count": 446,
   "id": "43d97a46",
   "metadata": {},
   "outputs": [
    {
     "data": {
      "text/plain": [
       "{'Julie': '+3567237878392', 'julien': '7632762378667283'}"
      ]
     },
     "execution_count": 446,
     "metadata": {},
     "output_type": "execute_result"
    }
   ],
   "source": [
    "dico = dict()\n",
    "for name, phone in contacts.items():\n",
    "    if name.upper().startswith(\"J\"):\n",
    "        dico[ name ] = phone\n",
    "\n",
    "dico"
   ]
  },
  {
   "cell_type": "markdown",
   "id": "751f1416",
   "metadata": {},
   "source": [
    "- je veux récupérer un nouveau dico \n",
    "    - contenant uniquement les personnes:num_de_telephone\n",
    "    - pour les personnes qui commencent par la lettre J \n",
    "    - qu'importe si minuscule ou majuscule"
   ]
  },
  {
   "cell_type": "code",
   "execution_count": 447,
   "id": "35764186",
   "metadata": {},
   "outputs": [
    {
     "data": {
      "text/plain": [
       "{'Julie': '+3567237878392', 'julien': '7632762378667283'}"
      ]
     },
     "execution_count": 447,
     "metadata": {},
     "output_type": "execute_result"
    }
   ],
   "source": [
    "{ name:phone for name, phone in contacts.items() if name.upper().startswith('J') }"
   ]
  },
  {
   "cell_type": "code",
   "execution_count": 449,
   "id": "c486bf15",
   "metadata": {},
   "outputs": [
    {
     "data": {
      "text/plain": [
       "{'Julie': '+3567237878392',\n",
       " 'SebSeb': '+26378627839723',\n",
       " 'VincentVincent': '+26387263982',\n",
       " 'julien': '7632762378667283',\n",
       " 'VioletteViolette': '+2878237923'}"
      ]
     },
     "execution_count": 449,
     "metadata": {},
     "output_type": "execute_result"
    }
   ],
   "source": [
    "{ (name  if name.upper().startswith('J') else name*2):phone \n",
    "             for name, phone in contacts.items() }"
   ]
  },
  {
   "cell_type": "code",
   "execution_count": 452,
   "id": "8b1fe723",
   "metadata": {},
   "outputs": [
    {
     "data": {
      "text/plain": [
       "['Julie', 'julien']"
      ]
     },
     "execution_count": 452,
     "metadata": {},
     "output_type": "execute_result"
    }
   ],
   "source": [
    "[ name for name in contacts if name.upper().startswith('J') ]"
   ]
  },
  {
   "cell_type": "code",
   "execution_count": 461,
   "id": "30238566",
   "metadata": {},
   "outputs": [],
   "source": [
    "a = range(100)"
   ]
  },
  {
   "cell_type": "code",
   "execution_count": 472,
   "id": "ab720e74",
   "metadata": {},
   "outputs": [],
   "source": [
    "uneliste1 = [1,2,3]\n",
    "uneliste2 = [4,5,6,8,10,10,20]"
   ]
  },
  {
   "cell_type": "code",
   "execution_count": 474,
   "id": "4cb9f5bc",
   "metadata": {},
   "outputs": [],
   "source": [
    "from itertools import zip_longest"
   ]
  },
  {
   "cell_type": "code",
   "execution_count": 475,
   "id": "3f0ef15f",
   "metadata": {},
   "outputs": [
    {
     "name": "stdout",
     "output_type": "stream",
     "text": [
      "5\n",
      "7\n",
      "9\n",
      "9\n",
      "11\n",
      "11\n",
      "21\n"
     ]
    }
   ],
   "source": [
    "for el1, el2 in zip_longest(uneliste1, uneliste2, fillvalue=1):\n",
    "    print( el1 + el2)"
   ]
  },
  {
   "cell_type": "code",
   "execution_count": null,
   "id": "0509059e",
   "metadata": {},
   "outputs": [],
   "source": []
  }
 ],
 "metadata": {
  "kernelspec": {
   "display_name": "Python 3",
   "language": "python",
   "name": "python3"
  },
  "language_info": {
   "codemirror_mode": {
    "name": "ipython",
    "version": 3
   },
   "file_extension": ".py",
   "mimetype": "text/x-python",
   "name": "python",
   "nbconvert_exporter": "python",
   "pygments_lexer": "ipython3",
   "version": "3.8.8"
  }
 },
 "nbformat": 4,
 "nbformat_minor": 5
}
