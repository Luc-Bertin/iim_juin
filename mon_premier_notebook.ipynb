{
 "cells": [
  {
   "cell_type": "code",
   "execution_count": 158,
   "id": "ff7ab4b6",
   "metadata": {},
   "outputs": [
    {
     "name": "stdout",
     "output_type": "stream",
     "text": [
      "coronavirus.jpg            save_notebook.ipynb\r\n",
      "mon_premier_notebook.ipynb\r\n"
     ]
    }
   ],
   "source": [
    "!ls"
   ]
  },
  {
   "cell_type": "code",
   "execution_count": 159,
   "id": "44cb5d15",
   "metadata": {},
   "outputs": [
    {
     "name": "stdout",
     "output_type": "stream",
     "text": [
      "salut\r\n"
     ]
    }
   ],
   "source": [
    "!echo \"salut\""
   ]
  },
  {
   "cell_type": "code",
   "execution_count": 160,
   "id": "834384ba",
   "metadata": {},
   "outputs": [
    {
     "name": "stdout",
     "output_type": "stream",
     "text": [
      "\u001b[34m.\u001b[m\u001b[m                          coronavirus.jpg\r\n",
      "\u001b[34m..\u001b[m\u001b[m                         mon_premier_notebook.ipynb\r\n",
      "\u001b[34m.git\u001b[m\u001b[m                       save_notebook.ipynb\r\n",
      "\u001b[34m.ipynb_checkpoints\u001b[m\u001b[m\r\n"
     ]
    }
   ],
   "source": [
    "!ls -a"
   ]
  },
  {
   "cell_type": "code",
   "execution_count": 154,
   "id": "9ec27a4c",
   "metadata": {},
   "outputs": [
    {
     "name": "stdout",
     "output_type": "stream",
     "text": [
      "Reinitialized existing Git repository in /Users/lucbertin/Desktop/ProjetsIIM/.git/\r\n"
     ]
    }
   ],
   "source": [
    "!git init\n",
    "#!git remote add origin https://github.com/Luc-Bertin/iim_juin.git\n",
    "#!git remote -v"
   ]
  },
  {
   "cell_type": "code",
   "execution_count": 340,
   "id": "fa679a7c",
   "metadata": {},
   "outputs": [],
   "source": [
    "!git add ."
   ]
  },
  {
   "cell_type": "code",
   "execution_count": 341,
   "id": "6360e759",
   "metadata": {},
   "outputs": [
    {
     "name": "stdout",
     "output_type": "stream",
     "text": [
      "[master 0e6e6a2] premier upload\n",
      " 4 files changed, 5817 insertions(+), 107 deletions(-)\n",
      " create mode 100644 .ipynb_checkpoints/save_notebook-checkpoint.ipynb\n",
      " create mode 100644 save_notebook.ipynb\n"
     ]
    }
   ],
   "source": [
    "!git commit -m \"premier upload\""
   ]
  },
  {
   "cell_type": "code",
   "execution_count": 342,
   "id": "41576812",
   "metadata": {},
   "outputs": [
    {
     "name": "stdout",
     "output_type": "stream",
     "text": [
      "Enumerating objects: 8, done.\n",
      "Counting objects: 100% (8/8), done.\n",
      "Delta compression using up to 8 threads\n",
      "Compressing objects: 100% (5/5), done.\n",
      "Writing objects: 100% (5/5), 8.17 KiB | 1.36 MiB/s, done.\n",
      "Total 5 (delta 1), reused 0 (delta 0), pack-reused 0\n",
      "remote: Resolving deltas: 100% (1/1), done.\u001b[K\n",
      "To https://github.com/Luc-Bertin/iim_juin.git\n",
      "   9c0a5db..0e6e6a2  master -> master\n"
     ]
    }
   ],
   "source": [
    "!git push origin master"
   ]
  },
  {
   "cell_type": "markdown",
   "id": "c12f8ff9",
   "metadata": {},
   "source": [
    "# quand je click, à l'intérieur de la cellule => je peux écrire du contenu dans celle-ci\n",
    "## si je veux changer le type de la cellule : \n",
    "   * ESC + M si je veux en markdown\n",
    "   * ESC + Y si je veux écrire par la suite du code\n",
    "        - par défaut c'est une cellule de code\n",
    "\n",
    "## executer une cellule : Shift + Enter (passe également à la suivante)"
   ]
  },
  {
   "cell_type": "markdown",
   "id": "4ef2b339",
   "metadata": {},
   "source": [
    "d'autres raccourcis important:\n",
    "- supprimer une cellule : (Esc) + D + D \n",
    "- ajouter une cellule en dessous ou haut dessus: (ESC) + B ou A\n",
    "- pour naviguer aux niveaux des cellules : flèches de navigation haut / bas"
   ]
  },
  {
   "cell_type": "markdown",
   "id": "0dd2dc23",
   "metadata": {},
   "source": [
    "* pour engistrer un travail: Command (ou control) + S"
   ]
  },
  {
   "cell_type": "markdown",
   "id": "8c6d469e",
   "metadata": {},
   "source": [
    "<img src=\"coronavirus.jpg\" align=\"right\" width=\"200px\">"
   ]
  },
  {
   "cell_type": "markdown",
   "id": "34d72375",
   "metadata": {},
   "source": [
    "<h1 style=\"color:red;\">Passons au code!<h1>"
   ]
  },
  {
   "cell_type": "markdown",
   "id": "81c2ebf7",
   "metadata": {},
   "source": [
    "Python est un language dynamiquement typé"
   ]
  },
  {
   "cell_type": "markdown",
   "id": "bbd5429b",
   "metadata": {},
   "source": [
    "En python: tout est object !"
   ]
  },
  {
   "cell_type": "markdown",
   "id": "4f8396aa",
   "metadata": {},
   "source": [
    "tout object a 3 éléments:\n",
    "   - un id\n",
    "   - un type\n",
    "   - une valeur / une représentation"
   ]
  },
  {
   "cell_type": "code",
   "execution_count": 41,
   "id": "c2b1beaf",
   "metadata": {},
   "outputs": [],
   "source": [
    "a = 87873878947893784"
   ]
  },
  {
   "cell_type": "code",
   "execution_count": 45,
   "id": "82248c6c",
   "metadata": {},
   "outputs": [
    {
     "data": {
      "text/plain": [
       "(4457004816, int, 87873878947893784)"
      ]
     },
     "execution_count": 45,
     "metadata": {},
     "output_type": "execute_result"
    }
   ],
   "source": [
    "id(a), type(a), a"
   ]
  },
  {
   "cell_type": "code",
   "execution_count": 47,
   "id": "38599aab",
   "metadata": {},
   "outputs": [
    {
     "data": {
      "text/plain": [
       "(4448998064, str, 'bonjour')"
      ]
     },
     "execution_count": 47,
     "metadata": {},
     "output_type": "execute_result"
    }
   ],
   "source": [
    "a = \"bonjour\"\n",
    "id(a), type(a), a"
   ]
  },
  {
   "cell_type": "code",
   "execution_count": 48,
   "id": "4540eab3",
   "metadata": {},
   "outputs": [
    {
     "data": {
      "text/plain": [
       "(4449424768, list, [])"
      ]
     },
     "execution_count": 48,
     "metadata": {},
     "output_type": "execute_result"
    }
   ],
   "source": [
    "a = []\n",
    "id(a), type(a), a"
   ]
  },
  {
   "cell_type": "code",
   "execution_count": 49,
   "id": "bf87e23a",
   "metadata": {},
   "outputs": [
    {
     "data": {
      "text/plain": [
       "(4449425728, dict, {})"
      ]
     },
     "execution_count": 49,
     "metadata": {},
     "output_type": "execute_result"
    }
   ],
   "source": [
    "a = {}\n",
    "id(a), type(a), a"
   ]
  },
  {
   "cell_type": "markdown",
   "id": "24374abb",
   "metadata": {},
   "source": [
    "- la plupart des objects contiennent attributs et méthodes"
   ]
  },
  {
   "cell_type": "code",
   "execution_count": 56,
   "id": "aa0fbff4",
   "metadata": {},
   "outputs": [],
   "source": [
    "a = \"bonjour\"\n",
    "a = a.capitalize() # méthode (d'instance, associé à cette instance, juste à cet object en particulier)"
   ]
  },
  {
   "cell_type": "markdown",
   "id": "16b68809",
   "metadata": {},
   "source": [
    "Pour voir les attributs et méthodes associées à un objet, utiliser la fonction \"dir\""
   ]
  },
  {
   "cell_type": "code",
   "execution_count": 60,
   "id": "cbb11f38",
   "metadata": {},
   "outputs": [
    {
     "name": "stdout",
     "output_type": "stream",
     "text": [
      "['__add__', '__class__', '__contains__', '__delattr__', '__dir__', '__doc__', '__eq__', '__format__', '__ge__', '__getattribute__', '__getitem__', '__getnewargs__', '__gt__', '__hash__', '__init__', '__init_subclass__', '__iter__', '__le__', '__len__', '__lt__', '__mod__', '__mul__', '__ne__', '__new__', '__reduce__', '__reduce_ex__', '__repr__', '__rmod__', '__rmul__', '__setattr__', '__sizeof__', '__str__', '__subclasshook__', 'capitalize', 'casefold', 'center', 'count', 'encode', 'endswith', 'expandtabs', 'find', 'format', 'format_map', 'index', 'isalnum', 'isalpha', 'isascii', 'isdecimal', 'isdigit', 'isidentifier', 'islower', 'isnumeric', 'isprintable', 'isspace', 'istitle', 'isupper', 'join', 'ljust', 'lower', 'lstrip', 'maketrans', 'partition', 'replace', 'rfind', 'rindex', 'rjust', 'rpartition', 'rsplit', 'rstrip', 'split', 'splitlines', 'startswith', 'strip', 'swapcase', 'title', 'translate', 'upper', 'zfill']\n"
     ]
    }
   ],
   "source": [
    "print(dir(a))"
   ]
  },
  {
   "cell_type": "markdown",
   "id": "a4b42de9",
   "metadata": {},
   "source": [
    "# Built-in types"
   ]
  },
  {
   "cell_type": "code",
   "execution_count": 61,
   "id": "7aadc2d5",
   "metadata": {},
   "outputs": [],
   "source": [
    "a = \"bonjour\""
   ]
  },
  {
   "cell_type": "markdown",
   "id": "723a3c9e",
   "metadata": {},
   "source": [
    "### écrivez l'object + '.' + TAB dans jupyter \n",
    "### vous allez avoir toutes les méthodes et attributs proposées associées à cet objet\n",
    "\n",
    "### une fois l'attribut (ou méthode) écrite en entier,  SHIFT+TAB permet d'avoir la docstring"
   ]
  },
  {
   "cell_type": "code",
   "execution_count": 63,
   "id": "a35c6a17",
   "metadata": {},
   "outputs": [
    {
     "data": {
      "text/plain": [
       "'Bonjour'"
      ]
     },
     "execution_count": 63,
     "metadata": {},
     "output_type": "execute_result"
    }
   ],
   "source": [
    "a.capitalize()"
   ]
  },
  {
   "cell_type": "code",
   "execution_count": 64,
   "id": "e5951c99",
   "metadata": {},
   "outputs": [
    {
     "data": {
      "text/plain": [
       "'BONJOUR'"
      ]
     },
     "execution_count": 64,
     "metadata": {},
     "output_type": "execute_result"
    }
   ],
   "source": [
    "a.upper()"
   ]
  },
  {
   "cell_type": "code",
   "execution_count": 65,
   "id": "bf9a128b",
   "metadata": {},
   "outputs": [
    {
     "data": {
      "text/plain": [
       "'bonjour'"
      ]
     },
     "execution_count": 65,
     "metadata": {},
     "output_type": "execute_result"
    }
   ],
   "source": [
    "a.lower()"
   ]
  },
  {
   "cell_type": "code",
   "execution_count": 66,
   "id": "23fd4000",
   "metadata": {},
   "outputs": [
    {
     "data": {
      "text/plain": [
       "1"
      ]
     },
     "execution_count": 66,
     "metadata": {},
     "output_type": "execute_result"
    }
   ],
   "source": [
    "a.count('bo')"
   ]
  },
  {
   "cell_type": "code",
   "execution_count": 67,
   "id": "8f49ff8e",
   "metadata": {},
   "outputs": [
    {
     "data": {
      "text/plain": [
       "2"
      ]
     },
     "execution_count": 67,
     "metadata": {},
     "output_type": "execute_result"
    }
   ],
   "source": [
    "a.count('o')"
   ]
  },
  {
   "cell_type": "code",
   "execution_count": 68,
   "id": "79ea27c2",
   "metadata": {},
   "outputs": [
    {
     "data": {
      "text/plain": [
       "1"
      ]
     },
     "execution_count": 68,
     "metadata": {},
     "output_type": "execute_result"
    }
   ],
   "source": [
    "a.count('r')"
   ]
  },
  {
   "cell_type": "code",
   "execution_count": 70,
   "id": "900385ac",
   "metadata": {},
   "outputs": [
    {
     "data": {
      "text/plain": [
       "0"
      ]
     },
     "execution_count": 70,
     "metadata": {},
     "output_type": "execute_result"
    }
   ],
   "source": [
    "a.count('r', 0, 4) # bonj (our)"
   ]
  },
  {
   "cell_type": "code",
   "execution_count": 73,
   "id": "05be21fd",
   "metadata": {},
   "outputs": [],
   "source": [
    "a_transformed = a.replace('o', 'a')"
   ]
  },
  {
   "cell_type": "code",
   "execution_count": 74,
   "id": "d15375b3",
   "metadata": {},
   "outputs": [
    {
     "data": {
      "text/plain": [
       "'bonjour'"
      ]
     },
     "execution_count": 74,
     "metadata": {},
     "output_type": "execute_result"
    }
   ],
   "source": [
    "a"
   ]
  },
  {
   "cell_type": "code",
   "execution_count": 75,
   "id": "e34e380b",
   "metadata": {},
   "outputs": [
    {
     "data": {
      "text/plain": [
       "'banjaur'"
      ]
     },
     "execution_count": 75,
     "metadata": {},
     "output_type": "execute_result"
    }
   ],
   "source": [
    "a_transformed"
   ]
  },
  {
   "cell_type": "code",
   "execution_count": 76,
   "id": "c93a8196",
   "metadata": {},
   "outputs": [
    {
     "data": {
      "text/plain": [
       "True"
      ]
     },
     "execution_count": 76,
     "metadata": {},
     "output_type": "execute_result"
    }
   ],
   "source": [
    "a.endswith('our')"
   ]
  },
  {
   "cell_type": "code",
   "execution_count": 80,
   "id": "2ba39203",
   "metadata": {},
   "outputs": [
    {
     "data": {
      "text/plain": [
       "False"
      ]
     },
     "execution_count": 80,
     "metadata": {},
     "output_type": "execute_result"
    }
   ],
   "source": [
    "a_transformed.endswith('our')"
   ]
  },
  {
   "cell_type": "code",
   "execution_count": 82,
   "id": "2bd8fce4",
   "metadata": {},
   "outputs": [
    {
     "data": {
      "text/plain": [
       "True"
      ]
     },
     "execution_count": 82,
     "metadata": {},
     "output_type": "execute_result"
    }
   ],
   "source": [
    "a.startswith('bo')"
   ]
  },
  {
   "cell_type": "code",
   "execution_count": 84,
   "id": "3d9325a3",
   "metadata": {},
   "outputs": [
    {
     "name": "stdout",
     "output_type": "stream",
     "text": [
      "salut\n"
     ]
    }
   ],
   "source": [
    "if a.startswith('bo'):\n",
    "    # fait quelque chose\n",
    "    print('salut')"
   ]
  },
  {
   "cell_type": "code",
   "execution_count": 85,
   "id": "c378c3c3",
   "metadata": {},
   "outputs": [
    {
     "data": {
      "text/plain": [
       "False"
      ]
     },
     "execution_count": 85,
     "metadata": {},
     "output_type": "execute_result"
    }
   ],
   "source": [
    "a.isdigit() # variable a qui pointe vers => \"bonjour\""
   ]
  },
  {
   "cell_type": "code",
   "execution_count": 87,
   "id": "d491bed5",
   "metadata": {},
   "outputs": [
    {
     "data": {
      "text/plain": [
       "True"
      ]
     },
     "execution_count": 87,
     "metadata": {},
     "output_type": "execute_result"
    }
   ],
   "source": [
    "\"1234\".isdigit() # créer un objet \"1234\".isdigit()"
   ]
  },
  {
   "cell_type": "code",
   "execution_count": 88,
   "id": "5f81889d",
   "metadata": {},
   "outputs": [
    {
     "data": {
      "text/plain": [
       "True"
      ]
     },
     "execution_count": 88,
     "metadata": {},
     "output_type": "execute_result"
    }
   ],
   "source": [
    "a.islower()"
   ]
  },
  {
   "cell_type": "code",
   "execution_count": 89,
   "id": "c0fcd5ef",
   "metadata": {},
   "outputs": [
    {
     "data": {
      "text/plain": [
       "False"
      ]
     },
     "execution_count": 89,
     "metadata": {},
     "output_type": "execute_result"
    }
   ],
   "source": [
    "a.isupper()"
   ]
  },
  {
   "cell_type": "code",
   "execution_count": 98,
   "id": "f72d05b6",
   "metadata": {},
   "outputs": [
    {
     "data": {
      "text/plain": [
       "'336602020202'"
      ]
     },
     "execution_count": 98,
     "metadata": {},
     "output_type": "execute_result"
    }
   ],
   "source": [
    "\"---+ -    +++336602020202++  +1-++\".strip(\"- +1\")"
   ]
  },
  {
   "cell_type": "code",
   "execution_count": 100,
   "id": "b759795e",
   "metadata": {},
   "outputs": [
    {
     "data": {
      "text/plain": [
       "'3366020202021'"
      ]
     },
     "execution_count": 100,
     "metadata": {},
     "output_type": "execute_result"
    }
   ],
   "source": [
    "\"---+ -    +++336602020202++  +1-++\".replace(' ', '').replace('-', '').replace('+','')"
   ]
  },
  {
   "cell_type": "code",
   "execution_count": 101,
   "id": "6ffb89a0",
   "metadata": {},
   "outputs": [],
   "source": [
    "c = \"2-3-100\""
   ]
  },
  {
   "cell_type": "code",
   "execution_count": 102,
   "id": "80139c07",
   "metadata": {},
   "outputs": [
    {
     "data": {
      "text/plain": [
       "['2', '3', '100']"
      ]
     },
     "execution_count": 102,
     "metadata": {},
     "output_type": "execute_result"
    }
   ],
   "source": [
    "c.split(\"-\")"
   ]
  },
  {
   "cell_type": "code",
   "execution_count": 103,
   "id": "5b5e593f",
   "metadata": {},
   "outputs": [
    {
     "data": {
      "text/plain": [
       "'bonjour'"
      ]
     },
     "execution_count": 103,
     "metadata": {},
     "output_type": "execute_result"
    }
   ],
   "source": [
    "'bon' + 'jour'"
   ]
  },
  {
   "cell_type": "code",
   "execution_count": 104,
   "id": "62cb3088",
   "metadata": {},
   "outputs": [
    {
     "data": {
      "text/plain": [
       "'bon2'"
      ]
     },
     "execution_count": 104,
     "metadata": {},
     "output_type": "execute_result"
    }
   ],
   "source": [
    "'bon'+ '2'"
   ]
  },
  {
   "cell_type": "code",
   "execution_count": 105,
   "id": "8ed9e973",
   "metadata": {},
   "outputs": [
    {
     "ename": "TypeError",
     "evalue": "can only concatenate str (not \"int\") to str",
     "output_type": "error",
     "traceback": [
      "\u001b[0;31m---------------------------------------------------------------------------\u001b[0m",
      "\u001b[0;31mTypeError\u001b[0m                                 Traceback (most recent call last)",
      "\u001b[0;32m<ipython-input-105-3725b8b01d63>\u001b[0m in \u001b[0;36m<module>\u001b[0;34m\u001b[0m\n\u001b[0;32m----> 1\u001b[0;31m \u001b[0;34m'bon'\u001b[0m\u001b[0;34m+\u001b[0m \u001b[0;36m1\u001b[0m\u001b[0;34m\u001b[0m\u001b[0;34m\u001b[0m\u001b[0m\n\u001b[0m",
      "\u001b[0;31mTypeError\u001b[0m: can only concatenate str (not \"int\") to str"
     ]
    }
   ],
   "source": [
    "'bon'+ 1"
   ]
  },
  {
   "cell_type": "code",
   "execution_count": 111,
   "id": "7fcbf072",
   "metadata": {},
   "outputs": [
    {
     "data": {
      "text/plain": [
       "'bon1jour'"
      ]
     },
     "execution_count": 111,
     "metadata": {},
     "output_type": "execute_result"
    }
   ],
   "source": [
    "\"bon\" + str(1) + \"jour\""
   ]
  },
  {
   "cell_type": "code",
   "execution_count": 113,
   "id": "0de77733",
   "metadata": {},
   "outputs": [
    {
     "name": "stdout",
     "output_type": "stream",
     "text": [
      "<class 'str'>\n"
     ]
    }
   ],
   "source": [
    "print(type(\"bonjour\"))"
   ]
  },
  {
   "cell_type": "code",
   "execution_count": 115,
   "id": "b9bd4b57",
   "metadata": {
    "scrolled": true
   },
   "outputs": [
    {
     "data": {
      "text/plain": [
       "'2'"
      ]
     },
     "execution_count": 115,
     "metadata": {},
     "output_type": "execute_result"
    }
   ],
   "source": [
    "str(2)"
   ]
  },
  {
   "cell_type": "code",
   "execution_count": 132,
   "id": "d98434aa",
   "metadata": {},
   "outputs": [],
   "source": [
    "test = \"bonjour\""
   ]
  },
  {
   "cell_type": "code",
   "execution_count": 133,
   "id": "6e83ef3b",
   "metadata": {},
   "outputs": [
    {
     "data": {
      "text/plain": [
       "'bonjoursalut'"
      ]
     },
     "execution_count": 133,
     "metadata": {},
     "output_type": "execute_result"
    }
   ],
   "source": [
    "test.__add__('salut')"
   ]
  },
  {
   "cell_type": "code",
   "execution_count": 134,
   "id": "fe65dd3b",
   "metadata": {},
   "outputs": [
    {
     "data": {
      "text/plain": [
       "'bonjoursalut'"
      ]
     },
     "execution_count": 134,
     "metadata": {},
     "output_type": "execute_result"
    }
   ],
   "source": [
    "\"bonjour\".__add__('salut')"
   ]
  },
  {
   "cell_type": "markdown",
   "id": "a23f242c",
   "metadata": {},
   "source": [
    "# integers "
   ]
  },
  {
   "cell_type": "code",
   "execution_count": 116,
   "id": "cffc15a8",
   "metadata": {},
   "outputs": [
    {
     "data": {
      "text/plain": [
       "(3, int)"
      ]
     },
     "execution_count": 116,
     "metadata": {},
     "output_type": "execute_result"
    }
   ],
   "source": [
    "3, type(3)"
   ]
  },
  {
   "cell_type": "code",
   "execution_count": 118,
   "id": "fdc31a49",
   "metadata": {},
   "outputs": [
    {
     "data": {
      "text/plain": [
       "0"
      ]
     },
     "execution_count": 118,
     "metadata": {},
     "output_type": "execute_result"
    }
   ],
   "source": [
    "int()"
   ]
  },
  {
   "cell_type": "code",
   "execution_count": 122,
   "id": "ce20655b",
   "metadata": {},
   "outputs": [
    {
     "data": {
      "text/plain": [
       "9"
      ]
     },
     "execution_count": 122,
     "metadata": {},
     "output_type": "execute_result"
    }
   ],
   "source": [
    "int(\"1001\", base=2)"
   ]
  },
  {
   "cell_type": "code",
   "execution_count": 123,
   "id": "3a3e0d89",
   "metadata": {},
   "outputs": [
    {
     "data": {
      "text/plain": [
       "34"
      ]
     },
     "execution_count": 123,
     "metadata": {},
     "output_type": "execute_result"
    }
   ],
   "source": [
    "int(\"34\")"
   ]
  },
  {
   "cell_type": "code",
   "execution_count": 124,
   "id": "0606498d",
   "metadata": {},
   "outputs": [
    {
     "data": {
      "text/plain": [
       "6"
      ]
     },
     "execution_count": 124,
     "metadata": {},
     "output_type": "execute_result"
    }
   ],
   "source": [
    "3 + 3"
   ]
  },
  {
   "cell_type": "code",
   "execution_count": 126,
   "id": "26f910f8",
   "metadata": {},
   "outputs": [],
   "source": [
    "# magic methods <=> dunder methods => c'est les méthodes qui commencent par \"__\" et finissent par \"__\""
   ]
  },
  {
   "cell_type": "code",
   "execution_count": 127,
   "id": "b61b38a2",
   "metadata": {},
   "outputs": [],
   "source": [
    "a = 3"
   ]
  },
  {
   "cell_type": "code",
   "execution_count": 128,
   "id": "495070fd",
   "metadata": {},
   "outputs": [
    {
     "data": {
      "text/plain": [
       "7"
      ]
     },
     "execution_count": 128,
     "metadata": {},
     "output_type": "execute_result"
    }
   ],
   "source": [
    "a.__add__(4)"
   ]
  },
  {
   "cell_type": "code",
   "execution_count": 129,
   "id": "f0a75df3",
   "metadata": {},
   "outputs": [
    {
     "data": {
      "text/plain": [
       "7"
      ]
     },
     "execution_count": 129,
     "metadata": {},
     "output_type": "execute_result"
    }
   ],
   "source": [
    "a + 4"
   ]
  },
  {
   "cell_type": "code",
   "execution_count": 130,
   "id": "fb7dc17d",
   "metadata": {},
   "outputs": [
    {
     "data": {
      "text/plain": [
       "-1"
      ]
     },
     "execution_count": 130,
     "metadata": {},
     "output_type": "execute_result"
    }
   ],
   "source": [
    "a - 4\n",
    "a.__sub__(4)"
   ]
  },
  {
   "cell_type": "code",
   "execution_count": null,
   "id": "1e6d3e7d",
   "metadata": {},
   "outputs": [],
   "source": [
    "a == 3 # a.__eq__(3)\n",
    "a != 3 # a.__ne__(3)\n",
    "a > 3 # a.__gt__(3)\n",
    "a < 3 # a.__lt__(3)\n",
    "a >= 3 # a.__ge__(3)"
   ]
  },
  {
   "cell_type": "code",
   "execution_count": 136,
   "id": "a9a00186",
   "metadata": {},
   "outputs": [
    {
     "data": {
      "text/plain": [
       "0.75"
      ]
     },
     "execution_count": 136,
     "metadata": {},
     "output_type": "execute_result"
    }
   ],
   "source": [
    "a / 4"
   ]
  },
  {
   "cell_type": "code",
   "execution_count": 137,
   "id": "9cae5051",
   "metadata": {},
   "outputs": [
    {
     "data": {
      "text/plain": [
       "0"
      ]
     },
     "execution_count": 137,
     "metadata": {},
     "output_type": "execute_result"
    }
   ],
   "source": [
    "a // 4"
   ]
  },
  {
   "cell_type": "code",
   "execution_count": 138,
   "id": "f9ca6ea8",
   "metadata": {},
   "outputs": [
    {
     "data": {
      "text/plain": [
       "3"
      ]
     },
     "execution_count": 138,
     "metadata": {},
     "output_type": "execute_result"
    }
   ],
   "source": [
    "a % 4"
   ]
  },
  {
   "cell_type": "code",
   "execution_count": 141,
   "id": "b49764cb",
   "metadata": {},
   "outputs": [
    {
     "data": {
      "text/plain": [
       "81"
      ]
     },
     "execution_count": 141,
     "metadata": {},
     "output_type": "execute_result"
    }
   ],
   "source": [
    "a ** 4\n"
   ]
  },
  {
   "cell_type": "code",
   "execution_count": 142,
   "id": "8df6f2d8",
   "metadata": {},
   "outputs": [
    {
     "data": {
      "text/plain": [
       "12"
      ]
     },
     "execution_count": 142,
     "metadata": {},
     "output_type": "execute_result"
    }
   ],
   "source": [
    "a * 4"
   ]
  },
  {
   "cell_type": "markdown",
   "id": "cfb2a706",
   "metadata": {},
   "source": [
    "# list"
   ]
  },
  {
   "cell_type": "code",
   "execution_count": 166,
   "id": "2e7f4471",
   "metadata": {},
   "outputs": [],
   "source": [
    "uneliste = []\n",
    "# uneliste = list()"
   ]
  },
  {
   "cell_type": "code",
   "execution_count": 167,
   "id": "1bfd04be",
   "metadata": {},
   "outputs": [
    {
     "data": {
      "text/plain": [
       "(4457654528, list, [])"
      ]
     },
     "execution_count": 167,
     "metadata": {},
     "output_type": "execute_result"
    }
   ],
   "source": [
    "id(uneliste), type(uneliste), uneliste"
   ]
  },
  {
   "cell_type": "code",
   "execution_count": 168,
   "id": "2e512d29",
   "metadata": {},
   "outputs": [],
   "source": [
    "# on peut itérer sur une liste\n",
    "# une liste peut contenir des éléments de types différents"
   ]
  },
  {
   "cell_type": "code",
   "execution_count": 188,
   "id": "a441775f",
   "metadata": {},
   "outputs": [],
   "source": [
    "uneliste = [\"bonjour\", 1, \"salut\", 3]"
   ]
  },
  {
   "cell_type": "code",
   "execution_count": 190,
   "id": "b4648953",
   "metadata": {},
   "outputs": [],
   "source": [
    "# ajoute un élément en fin de liste\n",
    "uneliste.append(\"bonjour\")"
   ]
  },
  {
   "cell_type": "markdown",
   "id": "104de067",
   "metadata": {},
   "source": [
    "# Python est 0 -indexed "
   ]
  },
  {
   "cell_type": "markdown",
   "id": "7fbe9b8e",
   "metadata": {},
   "source": [
    "# indexation de liste"
   ]
  },
  {
   "cell_type": "code",
   "execution_count": 195,
   "id": "fcd131c4",
   "metadata": {},
   "outputs": [
    {
     "data": {
      "text/plain": [
       "'bonjour'"
      ]
     },
     "execution_count": 195,
     "metadata": {},
     "output_type": "execute_result"
    }
   ],
   "source": [
    "uneliste[0]"
   ]
  },
  {
   "cell_type": "code",
   "execution_count": 196,
   "id": "3ce3b696",
   "metadata": {},
   "outputs": [
    {
     "data": {
      "text/plain": [
       "1"
      ]
     },
     "execution_count": 196,
     "metadata": {},
     "output_type": "execute_result"
    }
   ],
   "source": [
    "uneliste[1]"
   ]
  },
  {
   "cell_type": "code",
   "execution_count": 197,
   "id": "86a971e3",
   "metadata": {},
   "outputs": [
    {
     "data": {
      "text/plain": [
       "3"
      ]
     },
     "execution_count": 197,
     "metadata": {},
     "output_type": "execute_result"
    }
   ],
   "source": [
    "uneliste[3]"
   ]
  },
  {
   "cell_type": "code",
   "execution_count": 199,
   "id": "c4cfce7b",
   "metadata": {},
   "outputs": [
    {
     "ename": "IndexError",
     "evalue": "list index out of range",
     "output_type": "error",
     "traceback": [
      "\u001b[0;31m---------------------------------------------------------------------------\u001b[0m",
      "\u001b[0;31mIndexError\u001b[0m                                Traceback (most recent call last)",
      "\u001b[0;32m<ipython-input-199-ff9468581498>\u001b[0m in \u001b[0;36m<module>\u001b[0;34m\u001b[0m\n\u001b[0;32m----> 1\u001b[0;31m \u001b[0muneliste\u001b[0m\u001b[0;34m[\u001b[0m\u001b[0;36m5\u001b[0m\u001b[0;34m]\u001b[0m\u001b[0;34m\u001b[0m\u001b[0;34m\u001b[0m\u001b[0m\n\u001b[0m",
      "\u001b[0;31mIndexError\u001b[0m: list index out of range"
     ]
    }
   ],
   "source": [
    "uneliste[5]"
   ]
  },
  {
   "cell_type": "code",
   "execution_count": 201,
   "id": "59429e09",
   "metadata": {},
   "outputs": [
    {
     "data": {
      "text/plain": [
       "['bonjour', 1, 'salut', 3, 'bonjour']"
      ]
     },
     "execution_count": 201,
     "metadata": {},
     "output_type": "execute_result"
    }
   ],
   "source": [
    "uneliste"
   ]
  },
  {
   "cell_type": "code",
   "execution_count": 202,
   "id": "cb7e78fc",
   "metadata": {},
   "outputs": [
    {
     "data": {
      "text/plain": [
       "'bonjour'"
      ]
     },
     "execution_count": 202,
     "metadata": {},
     "output_type": "execute_result"
    }
   ],
   "source": [
    "uneliste[-1]"
   ]
  },
  {
   "cell_type": "code",
   "execution_count": 205,
   "id": "ca90cf27",
   "metadata": {},
   "outputs": [
    {
     "data": {
      "text/plain": [
       "'salut'"
      ]
     },
     "execution_count": 205,
     "metadata": {},
     "output_type": "execute_result"
    }
   ],
   "source": [
    "uneliste[-3]"
   ]
  },
  {
   "cell_type": "code",
   "execution_count": 210,
   "id": "aa540def",
   "metadata": {},
   "outputs": [],
   "source": [
    "uneliste[-1]  = \"au revoir\" # maliste.__setitem__(key, val)"
   ]
  },
  {
   "cell_type": "code",
   "execution_count": 212,
   "id": "f2c4c335",
   "metadata": {},
   "outputs": [],
   "source": [
    "uneliste.__setitem__(1, \"test\")"
   ]
  },
  {
   "cell_type": "markdown",
   "id": "e8a718b4",
   "metadata": {},
   "source": [
    "# slicing de liste (ou itérable)"
   ]
  },
  {
   "cell_type": "markdown",
   "id": "1a5e5e32",
   "metadata": {},
   "source": [
    "#### uneliste[start:end(exclu):step]"
   ]
  },
  {
   "cell_type": "code",
   "execution_count": 218,
   "id": "84c927db",
   "metadata": {},
   "outputs": [
    {
     "data": {
      "text/plain": [
       "['bonjour', 'test', 'salut', 3, 'au revoir']"
      ]
     },
     "execution_count": 218,
     "metadata": {},
     "output_type": "execute_result"
    }
   ],
   "source": [
    "uneliste"
   ]
  },
  {
   "cell_type": "code",
   "execution_count": 219,
   "id": "9132235f",
   "metadata": {},
   "outputs": [
    {
     "data": {
      "text/plain": [
       "['bonjour', 'test', 'salut']"
      ]
     },
     "execution_count": 219,
     "metadata": {},
     "output_type": "execute_result"
    }
   ],
   "source": [
    "uneliste[0:3]"
   ]
  },
  {
   "cell_type": "code",
   "execution_count": 217,
   "id": "0f66b64a",
   "metadata": {},
   "outputs": [
    {
     "data": {
      "text/plain": [
       "['bonjour', 'salut']"
      ]
     },
     "execution_count": 217,
     "metadata": {},
     "output_type": "execute_result"
    }
   ],
   "source": [
    "uneliste[0:3:2]"
   ]
  },
  {
   "cell_type": "markdown",
   "id": "f96bb26a",
   "metadata": {},
   "source": [
    "uneliste[0:10000:2] # me ressort pas d'erreur"
   ]
  },
  {
   "cell_type": "code",
   "execution_count": 224,
   "id": "1fc89323",
   "metadata": {},
   "outputs": [
    {
     "data": {
      "text/plain": [
       "['bonjour', 'test']"
      ]
     },
     "execution_count": 224,
     "metadata": {},
     "output_type": "execute_result"
    }
   ],
   "source": [
    "uneliste[:2]"
   ]
  },
  {
   "cell_type": "code",
   "execution_count": 225,
   "id": "8e2d4bfb",
   "metadata": {},
   "outputs": [
    {
     "data": {
      "text/plain": [
       "['salut', 3, 'au revoir']"
      ]
     },
     "execution_count": 225,
     "metadata": {},
     "output_type": "execute_result"
    }
   ],
   "source": [
    "uneliste[2:]"
   ]
  },
  {
   "cell_type": "code",
   "execution_count": 228,
   "id": "81182ffe",
   "metadata": {},
   "outputs": [
    {
     "data": {
      "text/plain": [
       "['bonjour', 'salut', 'au revoir']"
      ]
     },
     "execution_count": 228,
     "metadata": {},
     "output_type": "execute_result"
    }
   ],
   "source": [
    "uneliste[::2]"
   ]
  },
  {
   "cell_type": "code",
   "execution_count": 231,
   "id": "8160d79c",
   "metadata": {},
   "outputs": [
    {
     "data": {
      "text/plain": [
       "['bonjour', 'test', 'salut', 3, 'au revoir']"
      ]
     },
     "execution_count": 231,
     "metadata": {},
     "output_type": "execute_result"
    }
   ],
   "source": [
    "uneliste[::]"
   ]
  },
  {
   "cell_type": "markdown",
   "id": "dad61a0c",
   "metadata": {},
   "source": [
    "## Immutabilité vs Mutabilité"
   ]
  },
  {
   "cell_type": "code",
   "execution_count": 232,
   "id": "1cdc9db9",
   "metadata": {
    "scrolled": true
   },
   "outputs": [
    {
     "data": {
      "text/plain": [
       "4329151072"
      ]
     },
     "execution_count": 232,
     "metadata": {},
     "output_type": "execute_result"
    }
   ],
   "source": [
    "a = 3\n",
    "id(a)"
   ]
  },
  {
   "cell_type": "code",
   "execution_count": 233,
   "id": "43a7a61b",
   "metadata": {},
   "outputs": [],
   "source": [
    "a = a + 1"
   ]
  },
  {
   "cell_type": "code",
   "execution_count": 234,
   "id": "68f6e351",
   "metadata": {},
   "outputs": [
    {
     "data": {
      "text/plain": [
       "4329151104"
      ]
     },
     "execution_count": 234,
     "metadata": {},
     "output_type": "execute_result"
    }
   ],
   "source": [
    "id(a)"
   ]
  },
  {
   "cell_type": "code",
   "execution_count": 244,
   "id": "48aff585",
   "metadata": {},
   "outputs": [],
   "source": [
    "a = \"bonjour\""
   ]
  },
  {
   "cell_type": "code",
   "execution_count": 245,
   "id": "112845e3",
   "metadata": {},
   "outputs": [],
   "source": [
    "b = a"
   ]
  },
  {
   "cell_type": "code",
   "execution_count": 246,
   "id": "05403d9b",
   "metadata": {},
   "outputs": [
    {
     "data": {
      "text/plain": [
       "4448998064"
      ]
     },
     "execution_count": 246,
     "metadata": {},
     "output_type": "execute_result"
    }
   ],
   "source": [
    "id(a)"
   ]
  },
  {
   "cell_type": "code",
   "execution_count": 247,
   "id": "30e54d0d",
   "metadata": {},
   "outputs": [],
   "source": [
    "a = a + \"salut\""
   ]
  },
  {
   "cell_type": "code",
   "execution_count": 248,
   "id": "a1b00cd4",
   "metadata": {},
   "outputs": [
    {
     "data": {
      "text/plain": [
       "4458415728"
      ]
     },
     "execution_count": 248,
     "metadata": {},
     "output_type": "execute_result"
    }
   ],
   "source": [
    "id(a)"
   ]
  },
  {
   "cell_type": "code",
   "execution_count": 249,
   "id": "8205f6aa",
   "metadata": {},
   "outputs": [
    {
     "data": {
      "text/plain": [
       "4448998064"
      ]
     },
     "execution_count": 249,
     "metadata": {},
     "output_type": "execute_result"
    }
   ],
   "source": [
    "id(b)"
   ]
  },
  {
   "cell_type": "markdown",
   "id": "ef180bd6",
   "metadata": {},
   "source": [
    "les strings et les ints sont des immutables !\n",
    "il est impossible de modifier un string ou un int\n",
    "sans en créer un nouvel objet !\n",
    "en utilisant simplement le built-in donné par python"
   ]
  },
  {
   "cell_type": "code",
   "execution_count": 257,
   "id": "7c55dcff",
   "metadata": {},
   "outputs": [],
   "source": [
    "liste1 = [1,2,3]"
   ]
  },
  {
   "cell_type": "code",
   "execution_count": 258,
   "id": "b07f2b32",
   "metadata": {},
   "outputs": [],
   "source": [
    "liste2 = liste1.copy()"
   ]
  },
  {
   "cell_type": "code",
   "execution_count": 259,
   "id": "9bc956de",
   "metadata": {},
   "outputs": [
    {
     "data": {
      "text/plain": [
       "(4452801408, 4456147456)"
      ]
     },
     "execution_count": 259,
     "metadata": {},
     "output_type": "execute_result"
    }
   ],
   "source": [
    "id(liste1), id(liste2)"
   ]
  },
  {
   "cell_type": "code",
   "execution_count": 260,
   "id": "88a9be3f",
   "metadata": {},
   "outputs": [],
   "source": [
    "liste1.append(3)"
   ]
  },
  {
   "cell_type": "code",
   "execution_count": 261,
   "id": "ec2bf048",
   "metadata": {},
   "outputs": [
    {
     "data": {
      "text/plain": [
       "4452801408"
      ]
     },
     "execution_count": 261,
     "metadata": {},
     "output_type": "execute_result"
    }
   ],
   "source": [
    "id(liste1)"
   ]
  },
  {
   "cell_type": "code",
   "execution_count": 262,
   "id": "785b3b4d",
   "metadata": {},
   "outputs": [
    {
     "data": {
      "text/plain": [
       "[1, 2, 3, 3]"
      ]
     },
     "execution_count": 262,
     "metadata": {},
     "output_type": "execute_result"
    }
   ],
   "source": [
    "liste1"
   ]
  },
  {
   "cell_type": "code",
   "execution_count": 263,
   "id": "6340d073",
   "metadata": {
    "scrolled": false
   },
   "outputs": [
    {
     "data": {
      "text/plain": [
       "[1, 2, 3]"
      ]
     },
     "execution_count": 263,
     "metadata": {},
     "output_type": "execute_result"
    }
   ],
   "source": [
    "liste2"
   ]
  },
  {
   "cell_type": "markdown",
   "id": "03ebf713",
   "metadata": {},
   "source": [
    "une liste est modifiable in -situ sans en modifier son id / son emplacement mémoire\n",
    "donc une liste est un mutable"
   ]
  },
  {
   "cell_type": "markdown",
   "id": "c872405c",
   "metadata": {},
   "source": [
    "# checker si un élement se trouve dans la liste"
   ]
  },
  {
   "cell_type": "code",
   "execution_count": 264,
   "id": "f4ef7de0",
   "metadata": {},
   "outputs": [
    {
     "data": {
      "text/plain": [
       "True"
      ]
     },
     "execution_count": 264,
     "metadata": {},
     "output_type": "execute_result"
    }
   ],
   "source": [
    "2 in liste2 # liste2.__"
   ]
  },
  {
   "cell_type": "code",
   "execution_count": 265,
   "id": "6a26d4f5",
   "metadata": {},
   "outputs": [
    {
     "data": {
      "text/plain": [
       "False"
      ]
     },
     "execution_count": 265,
     "metadata": {},
     "output_type": "execute_result"
    }
   ],
   "source": [
    "1 not in liste2"
   ]
  },
  {
   "cell_type": "code",
   "execution_count": 272,
   "id": "470972da",
   "metadata": {
    "scrolled": true
   },
   "outputs": [
    {
     "data": {
      "text/plain": [
       "False"
      ]
     },
     "execution_count": 272,
     "metadata": {},
     "output_type": "execute_result"
    }
   ],
   "source": [
    "\"bonjour\" in liste2"
   ]
  },
  {
   "cell_type": "code",
   "execution_count": 273,
   "id": "6299e30b",
   "metadata": {},
   "outputs": [
    {
     "name": "stdout",
     "output_type": "stream",
     "text": [
      "4456147456\n",
      "4456147456\n"
     ]
    }
   ],
   "source": [
    "print(id(liste2))\n",
    "liste2[2] = \"test\"\n",
    "print(id(liste2))"
   ]
  },
  {
   "cell_type": "code",
   "execution_count": 320,
   "id": "7bceec6c",
   "metadata": {},
   "outputs": [],
   "source": [
    "liste1 = [1,a,3]"
   ]
  },
  {
   "cell_type": "code",
   "execution_count": 322,
   "id": "9729e287",
   "metadata": {},
   "outputs": [],
   "source": [
    "liste1 = [1, \"chaine\", [1, 2,     [1,2] ] ]"
   ]
  },
  {
   "cell_type": "code",
   "execution_count": 331,
   "id": "a13e28b8",
   "metadata": {},
   "outputs": [
    {
     "data": {
      "text/plain": [
       "1"
      ]
     },
     "execution_count": 331,
     "metadata": {},
     "output_type": "execute_result"
    }
   ],
   "source": [
    "liste1[2][2][0]"
   ]
  },
  {
   "cell_type": "code",
   "execution_count": 334,
   "id": "861b8b61",
   "metadata": {},
   "outputs": [],
   "source": [
    "uneliste = [1,2,2,1,8,1]"
   ]
  },
  {
   "cell_type": "code",
   "execution_count": 335,
   "id": "c1495a0f",
   "metadata": {},
   "outputs": [],
   "source": [
    "uneliste.sort()"
   ]
  },
  {
   "cell_type": "code",
   "execution_count": 336,
   "id": "60d62c97",
   "metadata": {},
   "outputs": [
    {
     "data": {
      "text/plain": [
       "[1, 1, 1, 2, 2, 8]"
      ]
     },
     "execution_count": 336,
     "metadata": {},
     "output_type": "execute_result"
    }
   ],
   "source": [
    "uneliste"
   ]
  },
  {
   "cell_type": "code",
   "execution_count": 337,
   "id": "b2f2775c",
   "metadata": {},
   "outputs": [
    {
     "data": {
      "text/plain": [
       "6"
      ]
     },
     "execution_count": 337,
     "metadata": {},
     "output_type": "execute_result"
    }
   ],
   "source": [
    "len(uneliste) # uneliste.__len__()"
   ]
  },
  {
   "cell_type": "markdown",
   "id": "b54b952a",
   "metadata": {},
   "source": [
    "# tuples"
   ]
  },
  {
   "cell_type": "markdown",
   "id": "749ee70f",
   "metadata": {},
   "source": [
    "le tuple est le \"pendant\" immutable de la liste\n",
    "je peux pas modifier un tuple localement\n",
    "le \"modifier\" c'est en créer un nouveau"
   ]
  },
  {
   "cell_type": "code",
   "execution_count": 280,
   "id": "13ef68af",
   "metadata": {},
   "outputs": [],
   "source": [
    "untuple = (1, 2, \"bonjour\")\n",
    "#untuple = tuple()"
   ]
  },
  {
   "cell_type": "code",
   "execution_count": 284,
   "id": "146f98f4",
   "metadata": {
    "scrolled": true
   },
   "outputs": [
    {
     "ename": "TypeError",
     "evalue": "'tuple' object does not support item assignment",
     "output_type": "error",
     "traceback": [
      "\u001b[0;31m---------------------------------------------------------------------------\u001b[0m",
      "\u001b[0;31mTypeError\u001b[0m                                 Traceback (most recent call last)",
      "\u001b[0;32m<ipython-input-284-753561e0dadf>\u001b[0m in \u001b[0;36m<module>\u001b[0;34m\u001b[0m\n\u001b[0;32m----> 1\u001b[0;31m \u001b[0muntuple\u001b[0m\u001b[0;34m[\u001b[0m\u001b[0;36m1\u001b[0m\u001b[0;34m]\u001b[0m \u001b[0;34m=\u001b[0m \u001b[0;34m\"salut\"\u001b[0m\u001b[0;34m\u001b[0m\u001b[0;34m\u001b[0m\u001b[0m\n\u001b[0m",
      "\u001b[0;31mTypeError\u001b[0m: 'tuple' object does not support item assignment"
     ]
    }
   ],
   "source": [
    "untuple[1] = \"salut\" # immutable"
   ]
  },
  {
   "cell_type": "code",
   "execution_count": 290,
   "id": "4a531439",
   "metadata": {},
   "outputs": [
    {
     "data": {
      "text/plain": [
       "(1, 2, 'bonjour', 1, 2, 'bonjour')"
      ]
     },
     "execution_count": 290,
     "metadata": {},
     "output_type": "execute_result"
    }
   ],
   "source": [
    "untuple  + untuple"
   ]
  },
  {
   "cell_type": "markdown",
   "id": "77907c47",
   "metadata": {},
   "source": [
    "# sets "
   ]
  },
  {
   "cell_type": "code",
   "execution_count": 343,
   "id": "203f7245",
   "metadata": {},
   "outputs": [],
   "source": [
    "unset = {}"
   ]
  },
  {
   "cell_type": "code",
   "execution_count": 344,
   "id": "2424145f",
   "metadata": {},
   "outputs": [],
   "source": [
    "unset = set()"
   ]
  },
  {
   "cell_type": "code",
   "execution_count": 345,
   "id": "d975b0c9",
   "metadata": {},
   "outputs": [
    {
     "data": {
      "text/plain": [
       "set"
      ]
     },
     "execution_count": 345,
     "metadata": {},
     "output_type": "execute_result"
    }
   ],
   "source": [
    "type(unset)"
   ]
  },
  {
   "cell_type": "code",
   "execution_count": 349,
   "id": "b9537763",
   "metadata": {},
   "outputs": [],
   "source": [
    "unset = {1,2,\"element\", 3, 3,4, 4, 1}"
   ]
  },
  {
   "cell_type": "code",
   "execution_count": 356,
   "id": "04ae36c6",
   "metadata": {},
   "outputs": [],
   "source": [
    "unautreset = {2, 3, 1, 5}"
   ]
  },
  {
   "cell_type": "markdown",
   "id": "e4f49812",
   "metadata": {},
   "source": [
    "* union\n",
    "\n"
   ]
  },
  {
   "cell_type": "code",
   "execution_count": 353,
   "id": "d9d1a56c",
   "metadata": {},
   "outputs": [],
   "source": [
    "resultat_set = unset | unautreset"
   ]
  },
  {
   "cell_type": "code",
   "execution_count": 354,
   "id": "40bce101",
   "metadata": {},
   "outputs": [
    {
     "data": {
      "text/plain": [
       "{1, 2, 3, 4, 'element'}"
      ]
     },
     "execution_count": 354,
     "metadata": {},
     "output_type": "execute_result"
    }
   ],
   "source": [
    "resultat_set"
   ]
  },
  {
   "cell_type": "markdown",
   "id": "a129fc53",
   "metadata": {},
   "source": [
    "* intersection\n"
   ]
  },
  {
   "cell_type": "code",
   "execution_count": 357,
   "id": "f5eecbf9",
   "metadata": {},
   "outputs": [
    {
     "data": {
      "text/plain": [
       "{1, 2, 3}"
      ]
     },
     "execution_count": 357,
     "metadata": {},
     "output_type": "execute_result"
    }
   ],
   "source": [
    "unset & unautreset"
   ]
  },
  {
   "cell_type": "markdown",
   "id": "29fde64e",
   "metadata": {},
   "source": [
    "* différence symmétrique\n"
   ]
  },
  {
   "cell_type": "code",
   "execution_count": 358,
   "id": "ddd68c73",
   "metadata": {},
   "outputs": [
    {
     "data": {
      "text/plain": [
       "{4, 5, 'element'}"
      ]
     },
     "execution_count": 358,
     "metadata": {},
     "output_type": "execute_result"
    }
   ],
   "source": [
    "unset ^ unautreset"
   ]
  },
  {
   "cell_type": "markdown",
   "id": "3e5adbec",
   "metadata": {},
   "source": [
    "* différence unilatérale"
   ]
  },
  {
   "cell_type": "code",
   "execution_count": 359,
   "id": "e94a31bc",
   "metadata": {},
   "outputs": [
    {
     "data": {
      "text/plain": [
       "{4, 'element'}"
      ]
     },
     "execution_count": 359,
     "metadata": {},
     "output_type": "execute_result"
    }
   ],
   "source": [
    "unset - unautreset"
   ]
  },
  {
   "cell_type": "code",
   "execution_count": 362,
   "id": "3dc680dd",
   "metadata": {},
   "outputs": [],
   "source": [
    "bce_demande = [\"CN0810\", \"CN020\", \"CN0830\", \"CN0840\"]\n",
    "bcl_demande = [\"CL000\"]\n",
    "implemente = [\"CN0810\", \"CL000\", \"CN020\"]"
   ]
  },
  {
   "cell_type": "code",
   "execution_count": 366,
   "id": "6127052a",
   "metadata": {},
   "outputs": [
    {
     "data": {
      "text/plain": [
       "{'CL000'}"
      ]
     },
     "execution_count": 366,
     "metadata": {},
     "output_type": "execute_result"
    }
   ],
   "source": [
    "set(implemente) - set(bce_demande)"
   ]
  },
  {
   "cell_type": "markdown",
   "id": "9ac462c2",
   "metadata": {},
   "source": [
    "# dict"
   ]
  },
  {
   "cell_type": "markdown",
   "id": "a1bb6d8e",
   "metadata": {},
   "source": [
    "ensemble /collection d'items:\n",
    "\n",
    "chaque item est une pair cle:valeur"
   ]
  },
  {
   "cell_type": "markdown",
   "id": "176f6a65",
   "metadata": {},
   "source": [
    "les clés n'apparaissent qu'une fois !"
   ]
  },
  {
   "cell_type": "code",
   "execution_count": 382,
   "id": "9cd4230a",
   "metadata": {},
   "outputs": [],
   "source": [
    "dico = {\n",
    "    2:3,\n",
    "    5:4,\n",
    "    'bonjour': 10,\n",
    "    2:10\n",
    "}"
   ]
  },
  {
   "cell_type": "code",
   "execution_count": 378,
   "id": "92efaa64",
   "metadata": {},
   "outputs": [
    {
     "data": {
      "text/plain": [
       "dict"
      ]
     },
     "execution_count": 378,
     "metadata": {},
     "output_type": "execute_result"
    }
   ],
   "source": [
    "type(dico)"
   ]
  },
  {
   "cell_type": "code",
   "execution_count": 379,
   "id": "7aacd1cf",
   "metadata": {},
   "outputs": [
    {
     "data": {
      "text/plain": [
       "{}"
      ]
     },
     "execution_count": 379,
     "metadata": {},
     "output_type": "execute_result"
    }
   ],
   "source": [
    "dict()"
   ]
  },
  {
   "cell_type": "code",
   "execution_count": 383,
   "id": "41c71fad",
   "metadata": {},
   "outputs": [
    {
     "data": {
      "text/plain": [
       "{2: 10, 5: 4, 'bonjour': 10}"
      ]
     },
     "execution_count": 383,
     "metadata": {},
     "output_type": "execute_result"
    }
   ],
   "source": [
    "dico"
   ]
  },
  {
   "cell_type": "code",
   "execution_count": 381,
   "id": "9b861081",
   "metadata": {},
   "outputs": [
    {
     "data": {
      "text/plain": [
       "3"
      ]
     },
     "execution_count": 381,
     "metadata": {},
     "output_type": "execute_result"
    }
   ],
   "source": [
    "dico[2]"
   ]
  },
  {
   "cell_type": "markdown",
   "id": "302874b6",
   "metadata": {},
   "source": [
    "Operations associated with this data type allow to:\n",
    "\n",
    "1. add a pair to the collection;\n",
    "2. remove a pair from the collection;\n",
    "3. modify an existing pair;\n",
    "4. lookup a value associated with a particular key.\n"
   ]
  },
  {
   "cell_type": "markdown",
   "id": "04dfa4fd",
   "metadata": {},
   "source": [
    "1."
   ]
  },
  {
   "cell_type": "code",
   "execution_count": 385,
   "id": "51c48987",
   "metadata": {},
   "outputs": [],
   "source": [
    "dico[\"nomdecle\"] = \"valeur\""
   ]
  },
  {
   "cell_type": "code",
   "execution_count": 387,
   "id": "82244be4",
   "metadata": {},
   "outputs": [],
   "source": [
    "dico[52] = \"salut\""
   ]
  },
  {
   "cell_type": "markdown",
   "id": "ef16df9d",
   "metadata": {},
   "source": [
    "2."
   ]
  },
  {
   "cell_type": "code",
   "execution_count": 389,
   "id": "4568002c",
   "metadata": {},
   "outputs": [],
   "source": [
    "del dico[52]"
   ]
  },
  {
   "cell_type": "code",
   "execution_count": 390,
   "id": "b7877d4b",
   "metadata": {},
   "outputs": [
    {
     "data": {
      "text/plain": [
       "{2: 10, 5: 4, 'bonjour': 10, 'nomdecle': 'valeur'}"
      ]
     },
     "execution_count": 390,
     "metadata": {},
     "output_type": "execute_result"
    }
   ],
   "source": [
    "dico"
   ]
  },
  {
   "cell_type": "markdown",
   "id": "c7bb474d",
   "metadata": {},
   "source": [
    "3."
   ]
  },
  {
   "cell_type": "code",
   "execution_count": 392,
   "id": "6670eaf3",
   "metadata": {},
   "outputs": [],
   "source": [
    "dico[\"nomdecle\"] = 100"
   ]
  },
  {
   "cell_type": "code",
   "execution_count": 393,
   "id": "c882bd3f",
   "metadata": {},
   "outputs": [
    {
     "data": {
      "text/plain": [
       "{2: 10, 5: 4, 'bonjour': 10, 'nomdecle': 100}"
      ]
     },
     "execution_count": 393,
     "metadata": {},
     "output_type": "execute_result"
    }
   ],
   "source": [
    "dico"
   ]
  },
  {
   "cell_type": "markdown",
   "id": "f7e85886",
   "metadata": {},
   "source": [
    "4."
   ]
  },
  {
   "cell_type": "code",
   "execution_count": 394,
   "id": "ef266bdb",
   "metadata": {},
   "outputs": [
    {
     "data": {
      "text/plain": [
       "100"
      ]
     },
     "execution_count": 394,
     "metadata": {},
     "output_type": "execute_result"
    }
   ],
   "source": [
    "dico[\"nomdecle\"]"
   ]
  },
  {
   "cell_type": "code",
   "execution_count": 397,
   "id": "3a9327df",
   "metadata": {},
   "outputs": [
    {
     "data": {
      "text/plain": [
       "True"
      ]
     },
     "execution_count": 397,
     "metadata": {},
     "output_type": "execute_result"
    }
   ],
   "source": [
    "\"nomdecle\" in dico\n",
    "100 in dico.values()"
   ]
  },
  {
   "cell_type": "markdown",
   "id": "37e5255a",
   "metadata": {},
   "source": [
    "5 in [1,2,3,4,5]\n"
   ]
  },
  {
   "cell_type": "markdown",
   "id": "b446c454",
   "metadata": {},
   "source": [
    "5 in (clé du) dico"
   ]
  },
  {
   "cell_type": "markdown",
   "id": "e336aa96",
   "metadata": {},
   "source": [
    "5 -> hash(5) (nombre entier)-> savoir la local en mémoire\n",
    "de la pair cle:valeur dans le dico"
   ]
  },
  {
   "cell_type": "markdown",
   "id": "147eb01a",
   "metadata": {},
   "source": [
    "# Loops"
   ]
  },
  {
   "cell_type": "code",
   "execution_count": 403,
   "id": "1d177a60",
   "metadata": {},
   "outputs": [
    {
     "name": "stdout",
     "output_type": "stream",
     "text": [
      "1\n",
      "2\n",
      "salut\n",
      "test\n"
     ]
    }
   ],
   "source": [
    "uneliste = [1,2,\"salut\", \"test\"]\n",
    "for element in uneliste:\n",
    "    print( element )\n",
    "    #print( type(element))"
   ]
  },
  {
   "cell_type": "markdown",
   "id": "b0712573",
   "metadata": {},
   "source": [
    "### sur toute structure qui implémente une dunder / magic method: `__iter__` "
   ]
  },
  {
   "cell_type": "code",
   "execution_count": 454,
   "id": "c5f715f2",
   "metadata": {},
   "outputs": [],
   "source": [
    "lettres = \"bonjour\""
   ]
  },
  {
   "cell_type": "code",
   "execution_count": 456,
   "id": "5bc3ac96",
   "metadata": {},
   "outputs": [
    {
     "name": "stdout",
     "output_type": "stream",
     "text": [
      "bbbbb\n",
      "ooooo\n",
      "nnnnn\n",
      "jjjjj\n",
      "ooooo\n",
      "uuuuu\n",
      "rrrrr\n"
     ]
    }
   ],
   "source": [
    "for char in lettres:\n",
    "    print( char*5 )"
   ]
  },
  {
   "cell_type": "markdown",
   "id": "7b8f3f9a",
   "metadata": {},
   "source": [
    "## Exercice"
   ]
  },
  {
   "cell_type": "markdown",
   "id": "bdbbbc43",
   "metadata": {},
   "source": [
    "- je veux récupérer un nouveau dico \n",
    "    - contenant uniquement les personnes:num_de_telephone\n",
    "    - pour les personnes qui commencent par la lettre J \n",
    "    - qu'importe si minuscule ou majuscule"
   ]
  },
  {
   "cell_type": "code",
   "execution_count": 402,
   "id": "c32d637a",
   "metadata": {},
   "outputs": [],
   "source": [
    "contacts = {\n",
    "    \"Julie\": \"+3567237878392\",\n",
    "    \"Seb\": \"+26378627839723\",\n",
    "    \"Vincent\": \"+26387263982\",\n",
    "    \"julien\": \"7632762378667283\",\n",
    "    \"Violette\": \"+2878237923\",\n",
    "}"
   ]
  },
  {
   "cell_type": "markdown",
   "id": "8b37a11d",
   "metadata": {},
   "source": [
    "## iterable unpacking"
   ]
  },
  {
   "cell_type": "code",
   "execution_count": 421,
   "id": "efb22b76",
   "metadata": {},
   "outputs": [],
   "source": [
    "a,b = [1,2]"
   ]
  },
  {
   "cell_type": "markdown",
   "id": "8926f7de",
   "metadata": {},
   "source": [
    "## extended iterable unpacking"
   ]
  },
  {
   "cell_type": "code",
   "execution_count": 424,
   "id": "92f27a11",
   "metadata": {},
   "outputs": [],
   "source": [
    "a, *b, c, d = [1, 2, 3, 4, 5, 6, 7]"
   ]
  },
  {
   "cell_type": "code",
   "execution_count": 419,
   "id": "b61829cb",
   "metadata": {},
   "outputs": [
    {
     "data": {
      "text/plain": [
       "{'Julie': '+3567237878392', 'julien': '7632762378667283'}"
      ]
     },
     "execution_count": 419,
     "metadata": {},
     "output_type": "execute_result"
    }
   ],
   "source": [
    "dico = dict()\n",
    "for name, phone in contacts.items():\n",
    "    if name.upper().startswith(\"J\"):\n",
    "        dico[ name ] = phone\n",
    "\n",
    "dico"
   ]
  },
  {
   "cell_type": "markdown",
   "id": "fa588270",
   "metadata": {},
   "source": [
    "# 2 formulations pythonesque"
   ]
  },
  {
   "cell_type": "markdown",
   "id": "7e58521a",
   "metadata": {},
   "source": [
    "## List comprehension"
   ]
  },
  {
   "cell_type": "code",
   "execution_count": 443,
   "id": "aa6383b0",
   "metadata": {},
   "outputs": [
    {
     "data": {
      "text/plain": [
       "[2, 4, 6, 8, 'salutcestunstring', 'bonjourcestunstring']"
      ]
     },
     "execution_count": 443,
     "metadata": {},
     "output_type": "execute_result"
    }
   ],
   "source": [
    "liste = [1,2,3,4, \"salut\", \"bonjour\"]\n",
    "nouvelle_liste = []\n",
    "\n",
    "for element in liste:\n",
    "    if type(element) != str:\n",
    "        nouvelle_liste.append( element * 2)\n",
    "    else:\n",
    "        nouvelle_liste.append( element + \"cestunstring\")\n",
    "\n",
    "nouvelle_liste"
   ]
  },
  {
   "cell_type": "markdown",
   "id": "3e50e5a9",
   "metadata": {},
   "source": [
    "[  cequejeveux  for cequejai in iterable  (if pour filtration)]"
   ]
  },
  {
   "cell_type": "code",
   "execution_count": 439,
   "id": "2115591d",
   "metadata": {},
   "outputs": [
    {
     "data": {
      "text/plain": [
       "[2, 4, 6, 8]"
      ]
     },
     "execution_count": 439,
     "metadata": {},
     "output_type": "execute_result"
    }
   ],
   "source": [
    "[ element*2 for element in liste if type(element)!=str]"
   ]
  },
  {
   "cell_type": "code",
   "execution_count": 445,
   "id": "baa9ca00",
   "metadata": {},
   "outputs": [
    {
     "data": {
      "text/plain": [
       "[2, 4, 6, 8, 'salutcestunstring', 'bonjourcestunstring']"
      ]
     },
     "execution_count": 445,
     "metadata": {},
     "output_type": "execute_result"
    }
   ],
   "source": [
    "[ element*2 if type(element)!=str else element + \"cestunstring\" for element in liste]"
   ]
  },
  {
   "cell_type": "markdown",
   "id": "97625d34",
   "metadata": {},
   "source": [
    "## Dict comprehension"
   ]
  },
  {
   "cell_type": "code",
   "execution_count": 446,
   "id": "dd8bfdd5",
   "metadata": {},
   "outputs": [
    {
     "data": {
      "text/plain": [
       "{'Julie': '+3567237878392', 'julien': '7632762378667283'}"
      ]
     },
     "execution_count": 446,
     "metadata": {},
     "output_type": "execute_result"
    }
   ],
   "source": [
    "dico = dict()\n",
    "for name, phone in contacts.items():\n",
    "    if name.upper().startswith(\"J\"):\n",
    "        dico[ name ] = phone\n",
    "\n",
    "dico"
   ]
  },
  {
   "cell_type": "markdown",
   "id": "aa2073da",
   "metadata": {},
   "source": [
    "- je veux récupérer un nouveau dico \n",
    "    - contenant uniquement les personnes:num_de_telephone\n",
    "    - pour les personnes qui commencent par la lettre J \n",
    "    - qu'importe si minuscule ou majuscule"
   ]
  },
  {
   "cell_type": "code",
   "execution_count": 447,
   "id": "b0817ff9",
   "metadata": {},
   "outputs": [
    {
     "data": {
      "text/plain": [
       "{'Julie': '+3567237878392', 'julien': '7632762378667283'}"
      ]
     },
     "execution_count": 447,
     "metadata": {},
     "output_type": "execute_result"
    }
   ],
   "source": [
    "{ name:phone for name, phone in contacts.items() if name.upper().startswith('J') }"
   ]
  },
  {
   "cell_type": "code",
   "execution_count": 449,
   "id": "7624db4a",
   "metadata": {},
   "outputs": [
    {
     "data": {
      "text/plain": [
       "{'Julie': '+3567237878392',\n",
       " 'SebSeb': '+26378627839723',\n",
       " 'VincentVincent': '+26387263982',\n",
       " 'julien': '7632762378667283',\n",
       " 'VioletteViolette': '+2878237923'}"
      ]
     },
     "execution_count": 449,
     "metadata": {},
     "output_type": "execute_result"
    }
   ],
   "source": [
    "{ (name  if name.upper().startswith('J') else name*2):phone \n",
    "             for name, phone in contacts.items() }"
   ]
  },
  {
   "cell_type": "code",
   "execution_count": 452,
   "id": "9270b51d",
   "metadata": {},
   "outputs": [
    {
     "data": {
      "text/plain": [
       "['Julie', 'julien']"
      ]
     },
     "execution_count": 452,
     "metadata": {},
     "output_type": "execute_result"
    }
   ],
   "source": [
    "[ name for name in contacts if name.upper().startswith('J') ]"
   ]
  },
  {
   "cell_type": "code",
   "execution_count": 461,
   "id": "c01e36d7",
   "metadata": {},
   "outputs": [],
   "source": [
    "a = range(100)"
   ]
  },
  {
   "cell_type": "code",
   "execution_count": 472,
   "id": "fa07a147",
   "metadata": {},
   "outputs": [],
   "source": [
    "uneliste1 = [1,2,3]\n",
    "uneliste2 = [4,5,6,8,10,10,20]"
   ]
  },
  {
   "cell_type": "code",
   "execution_count": 474,
   "id": "cbf22492",
   "metadata": {},
   "outputs": [],
   "source": [
    "from itertools import zip_longest"
   ]
  },
  {
   "cell_type": "code",
   "execution_count": 475,
   "id": "1b63ddf7",
   "metadata": {},
   "outputs": [
    {
     "name": "stdout",
     "output_type": "stream",
     "text": [
      "5\n",
      "7\n",
      "9\n",
      "9\n",
      "11\n",
      "11\n",
      "21\n"
     ]
    }
   ],
   "source": [
    "for el1, el2 in zip_longest(uneliste1, uneliste2, fillvalue=1):\n",
    "    print( el1 + el2)"
   ]
  },
  {
   "cell_type": "code",
   "execution_count": null,
   "id": "b79a3a01",
   "metadata": {},
   "outputs": [],
   "source": []
  }
 ],
 "metadata": {
  "kernelspec": {
   "display_name": "Python 3",
   "language": "python",
   "name": "python3"
  },
  "language_info": {
   "codemirror_mode": {
    "name": "ipython",
    "version": 3
   },
   "file_extension": ".py",
   "mimetype": "text/x-python",
   "name": "python",
   "nbconvert_exporter": "python",
   "pygments_lexer": "ipython3",
   "version": "3.8.8"
  }
 },
 "nbformat": 4,
 "nbformat_minor": 5
}
